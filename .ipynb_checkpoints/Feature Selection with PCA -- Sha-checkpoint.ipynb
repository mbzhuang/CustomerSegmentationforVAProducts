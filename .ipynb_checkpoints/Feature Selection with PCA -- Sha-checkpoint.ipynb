{
 "cells": [
  {
   "cell_type": "markdown",
   "metadata": {},
   "source": [
    "#### First, use Iris as a sample data to test the method"
   ]
  },
  {
   "cell_type": "code",
   "execution_count": 14,
   "metadata": {
    "collapsed": true
   },
   "outputs": [],
   "source": [
    "import numpy as np\n",
    "import pandas as pd\n",
    "import matplotlib.pyplot as plt\n",
    "from sklearn import metrics\n",
    "from sklearn.metrics import pairwise_distances\n",
    "from sklearn import datasets\n",
    "from sklearn.decomposition import PCA\n",
    "from sklearn import cluster\n",
    "from sklearn import preprocessing"
   ]
  },
  {
   "cell_type": "code",
   "execution_count": 43,
   "metadata": {
    "collapsed": true
   },
   "outputs": [],
   "source": [
    "dataset = datasets.load_iris()\n",
    "X = dataset.data\n",
    "y = dataset.target"
   ]
  },
  {
   "cell_type": "code",
   "execution_count": 45,
   "metadata": {
    "collapsed": false
   },
   "outputs": [
    {
     "data": {
      "text/plain": [
       "PCA(copy=True, iterated_power='auto', n_components=2, random_state=None,\n",
       "  svd_solver='randomized', tol=0.0, whiten=False)"
      ]
     },
     "execution_count": 45,
     "metadata": {},
     "output_type": "execute_result"
    }
   ],
   "source": [
    "pca = PCA(2, svd_solver='randomized')\n",
    "pca.fit(X)"
   ]
  },
  {
   "cell_type": "code",
   "execution_count": 46,
   "metadata": {
    "collapsed": false
   },
   "outputs": [
    {
     "data": {
      "text/plain": [
       "(150, 2)"
      ]
     },
     "execution_count": 46,
     "metadata": {},
     "output_type": "execute_result"
    }
   ],
   "source": [
    "X_reduced = pca.fit_transform(X)\n",
    "X_reduced.shape"
   ]
  },
  {
   "cell_type": "code",
   "execution_count": 47,
   "metadata": {
    "collapsed": false
   },
   "outputs": [
    {
     "data": {
      "image/png": "[encoded data removed]",
      "text/plain": [
       "<matplotlib.figure.Figure at 0x188f5b3d080>"
      ]
     },
     "metadata": {},
     "output_type": "display_data"
    }
   ],
   "source": [
    "# plot the first two components\n",
    "plt.scatter(X_reduced.T[0], X_reduced.T[1])\n",
    "plt.xlabel('PC1')\n",
    "plt.ylabel('PC2')\n",
    "plt.show()"
   ]
  },
  {
   "cell_type": "code",
   "execution_count": 5,
   "metadata": {
    "collapsed": false
   },
   "outputs": [
    {
     "name": "stdout",
     "output_type": "stream",
     "text": [
      "First principal component: [ 0.36158968 -0.08226889  0.85657211  0.35884393]\n"
     ]
    }
   ],
   "source": [
    "print('First principal component:', pca.components_[0])"
   ]
  },
  {
   "cell_type": "code",
   "execution_count": 48,
   "metadata": {
    "collapsed": false
   },
   "outputs": [
    {
     "name": "stdout",
     "output_type": "stream",
     "text": [
      "% variance explained by each component:\n",
      " [ 0.92461621  0.05301557]\n",
      "Number of components to capture 95% of the data:\n",
      " 1\n",
      "% variance captured by first 2 principal components: 0.977631775025\n"
     ]
    }
   ],
   "source": [
    "# Look at the percent of variance explained by each component\n",
    "print('% variance explained by each component:\\n', pca.explained_variance_ratio_[0:2])\n",
    "\n",
    "# Now look at the cumulative sum\n",
    "cumsum_exp_var = np.cumsum(pca.explained_variance_ratio_)\n",
    "# We would need 170 principal components to caputure 95% of the variance.\n",
    "print('Number of components to capture 95% of the data:\\n', np.where(cumsum_exp_var > 0.95)[0][0])\n",
    "\n",
    "# Scree plot\n",
    "plt.plot(pca.explained_variance_ratio_) \n",
    "print('% variance captured by first 2 principal components:', cumsum_exp_var[1])  "
   ]
  },
  {
   "cell_type": "markdown",
   "metadata": {},
   "source": [
    "#### We could also use randomly generated data to test PCA"
   ]
  },
  {
   "cell_type": "code",
   "execution_count": 49,
   "metadata": {
    "collapsed": true
   },
   "outputs": [],
   "source": [
    "# Generate simulated data set with 200 observations in each of three classes and 50 variables\n",
    "np.random.seed(123)\n",
    "n=200\n",
    "m=50\n",
    "a=np.random.normal(loc=0.0, scale=1.0, size=(n, m))\n",
    "b=np.random.normal(loc=1.0, scale=1.0, size=(n, m))\n",
    "c=np.random.normal(loc=2.0, scale=1.0, size=(n, m))\n",
    "X=np.concatenate((a, b, c), axis=0) "
   ]
  },
  {
   "cell_type": "code",
   "execution_count": 58,
   "metadata": {
    "collapsed": true
   },
   "outputs": [],
   "source": [
    "pca = PCA(4, svd_solver='randomized') #project from the original ~50 dimensions to current 2 dimensions\n",
    "X_reduced = pca.fit_transform(X)"
   ]
  },
  {
   "cell_type": "code",
   "execution_count": 51,
   "metadata": {
    "collapsed": false
   },
   "outputs": [
    {
     "data": {
      "image/png": "[encoded data removed]",
      "text/plain": [
       "<matplotlib.figure.Figure at 0x188f5bed518>"
      ]
     },
     "metadata": {},
     "output_type": "display_data"
    }
   ],
   "source": [
    "plt.scatter(X_reduced.T[0], X_reduced.T[1])\n",
    "plt.xlabel('PC1')\n",
    "plt.ylabel('PC2')\n",
    "plt.show()"
   ]
  },
  {
   "cell_type": "code",
   "execution_count": 60,
   "metadata": {
    "collapsed": false
   },
   "outputs": [
    {
     "name": "stdout",
     "output_type": "stream",
     "text": [
      "% variance explained by each component:\n",
      " [ 0.41346998  0.0196141   0.01934922  0.01848915]\n",
      "% variance captured by first 2 principal components: 0.433084074731\n"
     ]
    }
   ],
   "source": [
    "# Look at the percent of variance explained by each component\n",
    "print('% variance explained by each component:\\n', pca.explained_variance_ratio_[0:4])\n",
    "\n",
    "# Scree plot\n",
    "plt.plot(pca.explained_variance_ratio_) \n",
    "print('% variance captured by first 2 principal components:', cumsum_exp_var[1])  "
   ]
  },
  {
   "cell_type": "code",
   "execution_count": 62,
   "metadata": {
    "collapsed": false
   },
   "outputs": [
    {
     "data": {
      "text/plain": [
       "2    200\n",
       "1    200\n",
       "0    200\n",
       "dtype: int64"
      ]
     },
     "execution_count": 62,
     "metadata": {},
     "output_type": "execute_result"
    }
   ],
   "source": [
    "#Perform K means on the original data\n",
    "model_1 = cluster.KMeans(n_clusters=3)\n",
    "model_1.fit(X) \n",
    "pred_y=model_1.labels_\n",
    "pd.value_counts(pd.Series(pred_y))"
   ]
  },
  {
   "cell_type": "code",
   "execution_count": 63,
   "metadata": {
    "collapsed": false
   },
   "outputs": [
    {
     "data": {
      "text/plain": [
       "29722.447720873846"
      ]
     },
     "execution_count": 63,
     "metadata": {},
     "output_type": "execute_result"
    }
   ],
   "source": [
    "model_1.inertia_"
   ]
  },
  {
   "cell_type": "code",
   "execution_count": 66,
   "metadata": {
    "collapsed": false
   },
   "outputs": [
    {
     "data": {
      "text/plain": [
       "-29722.447720873854"
      ]
     },
     "execution_count": 66,
     "metadata": {},
     "output_type": "execute_result"
    }
   ],
   "source": [
    "model_1.score(X)"
   ]
  },
  {
   "cell_type": "code",
   "execution_count": 70,
   "metadata": {
    "collapsed": false
   },
   "outputs": [
    {
     "data": {
      "text/plain": [
       "2    200\n",
       "1    200\n",
       "0    200\n",
       "dtype: int64"
      ]
     },
     "execution_count": 70,
     "metadata": {},
     "output_type": "execute_result"
    }
   ],
   "source": [
    "#Perform K means on the first two principal components\n",
    "model_2 = cluster.KMeans(n_clusters=3)\n",
    "model_2.fit(X_reduced)\n",
    "pred_y=model_2.labels_\n",
    "pd.value_counts(pd.Series(pred_y))"
   ]
  },
  {
   "cell_type": "code",
   "execution_count": 71,
   "metadata": {
    "collapsed": false
   },
   "outputs": [
    {
     "data": {
      "text/plain": [
       "3512.7353956448055"
      ]
     },
     "execution_count": 71,
     "metadata": {},
     "output_type": "execute_result"
    }
   ],
   "source": [
    "model_2.inertia_"
   ]
  },
  {
   "cell_type": "markdown",
   "metadata": {},
   "source": [
    "#### After feature selection, the sum of squared distances of samples to their closest cluster center is decreased."
   ]
  },
  {
   "cell_type": "code",
   "execution_count": 72,
   "metadata": {
    "collapsed": false
   },
   "outputs": [
    {
     "data": {
      "text/plain": [
       "2    200\n",
       "1    200\n",
       "0    200\n",
       "dtype: int64"
      ]
     },
     "execution_count": 72,
     "metadata": {},
     "output_type": "execute_result"
    }
   ],
   "source": [
    "#scale each variable\n",
    "scaler = preprocessing.StandardScaler() \n",
    "scaler.fit(X)\n",
    "X_std= scaler.transform(X)\n",
    "model_3 = cluster.KMeans(n_clusters=3)\n",
    "model_3.fit(X_std)\n",
    "pred_y=model_3.labels_\n",
    "pd.value_counts(pd.Series(pred_y))"
   ]
  },
  {
   "cell_type": "code",
   "execution_count": 73,
   "metadata": {
    "collapsed": false
   },
   "outputs": [
    {
     "data": {
      "text/plain": [
       "17990.565166106564"
      ]
     },
     "execution_count": 73,
     "metadata": {},
     "output_type": "execute_result"
    }
   ],
   "source": [
    "model_3.inertia_"
   ]
  },
  {
   "cell_type": "markdown",
   "metadata": {},
   "source": [
    "#### After scaling, the sum of squared distances of samples to their closest cluster center is decreased."
   ]
  },
  {
   "cell_type": "code",
   "execution_count": 74,
   "metadata": {
    "collapsed": false
   },
   "outputs": [
    {
     "data": {
      "text/plain": [
       "2    200\n",
       "1    200\n",
       "0    200\n",
       "dtype: int64"
      ]
     },
     "execution_count": 74,
     "metadata": {},
     "output_type": "execute_result"
    }
   ],
   "source": [
    "#scale each variable\n",
    "scaler = preprocessing.StandardScaler() \n",
    "scaler.fit(X)\n",
    "X_std= scaler.transform(X)\n",
    "X_reduced = pca.fit_transform(X_std)\n",
    "model_4 = cluster.KMeans(n_clusters=3)\n",
    "model_4.fit(X_reduced)\n",
    "pred_y=model_4.labels_\n",
    "pd.value_counts(pd.Series(pred_y))"
   ]
  },
  {
   "cell_type": "code",
   "execution_count": 75,
   "metadata": {
    "collapsed": false
   },
   "outputs": [
    {
     "data": {
      "text/plain": [
       "2125.0979845008915"
      ]
     },
     "execution_count": 75,
     "metadata": {},
     "output_type": "execute_result"
    }
   ],
   "source": [
    "model_4.inertia_"
   ]
  },
  {
   "cell_type": "markdown",
   "metadata": {},
   "source": [
    "#### If apply both feature selection and scaling, the sum of squared distances of samples to their closest cluster center is decreased."
   ]
  },
  {
   "cell_type": "code",
   "execution_count": null,
   "metadata": {
    "collapsed": true
   },
   "outputs": [],
   "source": []
  },
  {
   "cell_type": "markdown",
   "metadata": {},
   "source": [
    "#### Next, apply the method to our project data"
   ]
  }
 ],
 "metadata": {
  "kernelspec": {
   "display_name": "Python 3",
   "language": "python",
   "name": "python3"
  },
  "language_info": {
   "codemirror_mode": {
    "name": "ipython",
    "version": 3
   },
   "file_extension": ".py",
   "mimetype": "text/x-python",
   "name": "python",
   "nbconvert_exporter": "python",
   "pygments_lexer": "ipython3",
   "version": "3.6.0"
  }
 },
 "nbformat": 4,
 "nbformat_minor": 2
}
