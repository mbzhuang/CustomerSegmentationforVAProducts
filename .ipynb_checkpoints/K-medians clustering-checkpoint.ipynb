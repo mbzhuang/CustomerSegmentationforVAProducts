{
 "cells": [
  {
   "cell_type": "code",
   "execution_count": 1,
   "metadata": {
    "collapsed": true
   },
   "outputs": [],
   "source": [
    "import pandas as pd\n",
    "import numpy as np\n",
    "import random\n",
    "from collections import defaultdict\n",
    "import statistics"
   ]
  },
  {
   "cell_type": "markdown",
   "metadata": {},
   "source": [
    "#### import data"
   ]
  },
  {
   "cell_type": "code",
   "execution_count": 2,
   "metadata": {
    "collapsed": false
   },
   "outputs": [],
   "source": [
    "df = pd.read_csv('cluster.csv', header = None)\n",
    "\n",
    "# convert dataframe into numpy array\n",
    "X = df.values"
   ]
  },
  {
   "cell_type": "code",
   "execution_count": 3,
   "metadata": {
    "collapsed": false
   },
   "outputs": [
    {
     "data": {
      "text/plain": [
       "(60, 50)"
      ]
     },
     "execution_count": 3,
     "metadata": {},
     "output_type": "execute_result"
    }
   ],
   "source": [
    "X.shape"
   ]
  },
  {
   "cell_type": "markdown",
   "metadata": {},
   "source": [
    "#### Standardize the data points"
   ]
  },
  {
   "cell_type": "code",
   "execution_count": 3,
   "metadata": {
    "collapsed": true
   },
   "outputs": [],
   "source": [
    "from sklearn.preprocessing import StandardScaler\n",
    "\n",
    "sc = StandardScaler()\n",
    "X_sc = sc.fit_transform(X)"
   ]
  },
  {
   "cell_type": "markdown",
   "metadata": {},
   "source": [
    " #### Define a function to calculate distances to centroids for all data points - can be further optimized (with the np.vectorize function etc.)"
   ]
  },
  {
   "cell_type": "code",
   "execution_count": 4,
   "metadata": {
    "collapsed": true
   },
   "outputs": [],
   "source": [
    "def distance(points1, points2):\n",
    "    distances = np.zeros(shape=(points1.shape[0], points2.shape[0]))\n",
    "    distanceToCentroids = lambda point: \\\n",
    "        np.array([np.linalg.norm((point - centroid), ord=1) for centroid in points2],dtype = float)\n",
    "\n",
    "    # Loop over data points:\n",
    "    for i in range(points1.shape[0]):\n",
    "        distances[i,] = distanceToCentroids(points1[i, ])\n",
    "    \n",
    "    return(distances)"
   ]
  },
  {
   "cell_type": "markdown",
   "metadata": {},
   "source": [
    "#### Define the function to iteratively get find the cluster centroids"
   ]
  },
  {
   "cell_type": "code",
   "execution_count": 51,
   "metadata": {
    "collapsed": false
   },
   "outputs": [],
   "source": [
    "def k_centroids(X, n_clusters, init='k-means++'\n",
    "                , precompute_distances='auto', n_init=10\n",
    "                , max_iter=1000, tol=1e-4\n",
    "#                 , random_state=None, n_jobs=1\n",
    "#                 ,algorithm=\"auto\", return_n_iter=False\n",
    "               ):\n",
    "    # X : array-like matrix, already standardized\n",
    "    \n",
    "    n_samples = X.shape[0]\n",
    "    n_features = X.shape[1]\n",
    "    \n",
    "    # initialize the centroids\n",
    "    # random sampling, can use other methods like kmeans++\n",
    "    centroids = X[random.sample(range(n_samples), n_clusters), ]\n",
    "    \n",
    "    # calculate the distances to clusters, clustering labels and the resulting inertia\n",
    "    distances = distance(X, centroids)\n",
    "    labels = np.argmin(distances, axis = 1)\n",
    "    inertia = np.sum((X - centroids[labels])**2, dtype=np.float64)\n",
    "    \n",
    "    # initiate an array to store the silhouette scores for all data points\n",
    "    silhouettes = np.zeros(shape=(n_samples, )) \n",
    "    \n",
    "    for iteration in range(max_iter):\n",
    "        \n",
    "        n_samples_in_cluster = np.bincount(labels, minlength = n_clusters)\n",
    "\n",
    "        # calculate the new centroids by taking the medians of data points in the same cluster\n",
    "       \n",
    "        centroids = np.zeros(shape = (n_clusters, n_features))\n",
    "        \n",
    "        for j in range(n_features):\n",
    "            adic = defaultdict(list)\n",
    "            for i in range(n_samples):\n",
    "                adic[labels[i]].append(X[i, j])\n",
    "            for each_label in np.unique(labels):\n",
    "                centroids[each_label, j] = statistics.median(adic[each_label])\n",
    "\n",
    "        distances = distance(X, centroids)\n",
    "        labels = np.argmin(distances, axis = 1)\n",
    "        inertia_previous = inertia\n",
    "        inertia = np.sum((X - centroids[labels])**2, dtype=np.float64)\n",
    "        \n",
    "        # calculate the silhouette scores for each data point based on the new clusters\n",
    "        for i in range(n_samples):\n",
    "            a_i = np.average(np.ma.masked_equal(distance(X[labels == labels[i,], ], X[i:i+1,]),0))\n",
    "            b_i = np.min(distance(X[labels != labels[i,], ], X[i:i+1,]))\n",
    "            silhouettes[i,] = (b_i - a_i)/np.max([a_i, b_i])\n",
    "\n",
    "        if (np.linalg.norm(inertia - inertia_previous) < tol):\n",
    "            break\n",
    "        \n",
    "    return(centroids, inertia, labels, silhouettes)"
   ]
  },
  {
   "cell_type": "code",
   "execution_count": 52,
   "metadata": {
    "collapsed": false
   },
   "outputs": [],
   "source": [
    "centroids, inertia, labels, silhouettes = k_centroids(X_sc, 3)"
   ]
  },
  {
   "cell_type": "code",
   "execution_count": 53,
   "metadata": {
    "collapsed": true
   },
   "outputs": [],
   "source": [
    "from sklearn.metrics import silhouette_samples, silhouette_score\n",
    "silhouette_avg = silhouette_score(X_sc, labels)\n",
    "sample_silhouette_values = silhouette_samples(X_sc, labels)"
   ]
  },
  {
   "cell_type": "code",
   "execution_count": 54,
   "metadata": {
    "collapsed": false
   },
   "outputs": [
    {
     "data": {
      "text/plain": [
       "0.84040314629599244"
      ]
     },
     "execution_count": 54,
     "metadata": {},
     "output_type": "execute_result"
    }
   ],
   "source": [
    "silhouette_avg"
   ]
  },
  {
   "cell_type": "code",
   "execution_count": 55,
   "metadata": {
    "collapsed": false
   },
   "outputs": [
    {
     "data": {
      "text/plain": [
       "0.87246024908159348"
      ]
     },
     "execution_count": 55,
     "metadata": {},
     "output_type": "execute_result"
    }
   ],
   "source": [
    "np.average(silhouettes)"
   ]
  },
  {
   "cell_type": "code",
   "execution_count": 56,
   "metadata": {
    "collapsed": false
   },
   "outputs": [
    {
     "data": {
      "text/plain": [
       "array([[ 1.        ,  1.        ,  1.        ,  1.        ,  1.        ,\n",
       "         1.        ,  1.        ,  1.        ,  1.        ,  1.        ,\n",
       "         1.        ,  1.        ,  1.        ,  1.        ,  1.        ,\n",
       "         1.        ,  1.        ,  1.        ,  1.        ,  1.        ,\n",
       "         0.        ,  0.        ,  0.        ,  0.        ,  0.        ,\n",
       "         0.        ,  0.        ,  0.        ,  0.        ,  0.        ,\n",
       "         0.        ,  0.        ,  0.        ,  0.        ,  0.        ,\n",
       "         0.        ,  0.        ,  0.        ,  0.        ,  0.        ,\n",
       "         2.        ,  2.        ,  2.        ,  2.        ,  2.        ,\n",
       "         2.        ,  2.        ,  2.        ,  2.        ,  2.        ,\n",
       "         2.        ,  2.        ,  2.        ,  2.        ,  2.        ,\n",
       "         2.        ,  2.        ,  2.        ,  2.        ,  2.        ],\n",
       "       [ 0.88457031,  0.8854885 ,  0.89137686,  0.88966028,  0.88329108,\n",
       "         0.88233324,  0.88372468,  0.89408677,  0.88947561,  0.8937193 ,\n",
       "         0.89265703,  0.89679328,  0.88617258,  0.89806401,  0.88153391,\n",
       "         0.88913801,  0.89789874,  0.89338425,  0.89765716,  0.88616261,\n",
       "         0.76374442,  0.78595418,  0.79923259,  0.79270779,  0.7641837 ,\n",
       "         0.79442044,  0.7930814 ,  0.77164293,  0.79618155,  0.79820191,\n",
       "         0.77020744,  0.80674574,  0.78133306,  0.76804391,  0.79005287,\n",
       "         0.7734354 ,  0.78491907,  0.77511985,  0.76968463,  0.76305103,\n",
       "         0.94117277,  0.95038881,  0.9473376 ,  0.9500929 ,  0.9425134 ,\n",
       "         0.94213055,  0.94522488,  0.94673959,  0.9436406 ,  0.94721263,\n",
       "         0.94423858,  0.94853928,  0.9436587 ,  0.94734139,  0.94706641,\n",
       "         0.94850001,  0.94392027,  0.9397139 ,  0.94565575,  0.94339479]])"
      ]
     },
     "execution_count": 56,
     "metadata": {},
     "output_type": "execute_result"
    }
   ],
   "source": [
    "np.vstack((labels, silhouettes))"
   ]
  }
 ],
 "metadata": {
  "kernelspec": {
   "display_name": "Python 3",
   "language": "python",
   "name": "python3"
  },
  "language_info": {
   "codemirror_mode": {
    "name": "ipython",
    "version": 3
   },
   "file_extension": ".py",
   "mimetype": "text/x-python",
   "name": "python",
   "nbconvert_exporter": "python",
   "pygments_lexer": "ipython3",
   "version": "3.6.0"
  }
 },
 "nbformat": 4,
 "nbformat_minor": 2
}
