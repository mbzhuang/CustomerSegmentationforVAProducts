{
 "cells": [
  {
   "cell_type": "code",
   "execution_count": 1,
   "metadata": {
    "collapsed": true
   },
   "outputs": [],
   "source": [
    "import pandas as pd\n",
    "import numpy as np\n",
    "import random"
   ]
  },
  {
   "cell_type": "markdown",
   "metadata": {},
   "source": [
    "#### import data"
   ]
  },
  {
   "cell_type": "code",
   "execution_count": 2,
   "metadata": {
    "collapsed": false
   },
   "outputs": [],
   "source": [
    "df = pd.read_csv('cluster.csv', header = None)\n",
    "\n",
    "# convert dataframe into numpy array\n",
    "X = df.values"
   ]
  },
  {
   "cell_type": "markdown",
   "metadata": {},
   "source": [
    "#### Standardize the data points"
   ]
  },
  {
   "cell_type": "code",
   "execution_count": 3,
   "metadata": {
    "collapsed": true
   },
   "outputs": [],
   "source": [
    "from sklearn.preprocessing import StandardScaler\n",
    "\n",
    "sc = StandardScaler()\n",
    "X_sc = sc.fit_transform(X)"
   ]
  },
  {
   "cell_type": "markdown",
   "metadata": {},
   "source": [
    " #### Define a function to calculate distances to centroids for all data points - can be further optimized (with the np.vectorize function etc.)"
   ]
  },
  {
   "cell_type": "code",
   "execution_count": 80,
   "metadata": {
    "collapsed": true
   },
   "outputs": [],
   "source": [
    "def distance(points1, points2):\n",
    "    distances = np.zeros(shape=(points1.shape[0], points2.shape[0]))\n",
    "    distanceToCentroids = lambda point: \\\n",
    "        np.array([np.linalg.norm(point - centroid) for centroid in points2],dtype = float)\n",
    "\n",
    "    # Loop over data points:\n",
    "    for i in range(points1.shape[0]):\n",
    "        distances[i,] = distanceToCentroids(points1[i, ])\n",
    "    \n",
    "    return(distances)"
   ]
  },
  {
   "cell_type": "markdown",
   "metadata": {},
   "source": [
    "#### Define the function to iteratively get find the cluster centroids"
   ]
  },
  {
   "cell_type": "code",
   "execution_count": 168,
   "metadata": {
    "collapsed": true
   },
   "outputs": [],
   "source": [
    "def k_centroids(X, n_clusters, init='k-means++'\n",
    "                , precompute_distances='auto', n_init=10\n",
    "                , max_iter=300, tol=1e-4\n",
    "#                 , random_state=None, n_jobs=1\n",
    "#                 ,algorithm=\"auto\", return_n_iter=False\n",
    "               ):\n",
    "    # X : array-like matrix, already standardized\n",
    "    \n",
    "    n_samples = X.shape[0]\n",
    "    n_features = X.shape[1]\n",
    "    \n",
    "    # initialize the centroids\n",
    "    # random sampling, can use other methods like kmeans++\n",
    "    centroids = X[random.sample(range(n_features), n_clusters), ]\n",
    "    \n",
    "    # calculate the distances to clusters, clustering labels and the resulting inertia\n",
    "    distances = distance(X, centroids)\n",
    "    labels = np.argmin(distances, axis = 1)\n",
    "    inertia = np.sum((X - centroids[labels])**2, dtype=np.float64)\n",
    "    \n",
    "    # initiate an array to store the silhouette scores for all data points\n",
    "    silhouettes = np.zeros(shape=(n_samples, )) \n",
    "    \n",
    "    for iteration in range(max_iter):\n",
    "        \n",
    "        n_samples_in_cluster = np.bincount(labels, minlength = n_clusters)\n",
    "\n",
    "        # calculate the new centroids by taking the means of data points in the same cluster\n",
    "        # this can be customized with other approaches like KMedoids \n",
    "        centroids = np.zeros(shape = (n_clusters, n_features))\n",
    "        for i in range(n_samples):\n",
    "            for j in range(n_features):\n",
    "                centroids[labels[i], j] += X[i, j]\n",
    "\n",
    "        centroids /= n_samples_in_cluster[:, np.newaxis]\n",
    "        distances = distance(X, centroids)\n",
    "        labels = np.argmin(distances, axis = 1)\n",
    "        inertia_previous = inertia\n",
    "        inertia = np.sum((X - centroids[labels])**2, dtype=np.float64)\n",
    "        \n",
    "        # calculate the silhouette scores for each data point based on the new clusters\n",
    "        for i in range(n_samples):\n",
    "            a_i = np.average(np.ma.masked_equal(distance(X[labels == labels[i,], ], X[i:i+1,]),0))\n",
    "            b_i = np.min(distance(X[labels != labels[i,], ], X[i:i+1,]))\n",
    "            silhouettes[i,] = (b_i - a_i)/np.max([a_i, b_i])\n",
    "\n",
    "        if (np.linalg.norm(inertia - inertia_previous) < tol):\n",
    "            break\n",
    "        \n",
    "        return(centroids, inertia, labels, silhouettes)"
   ]
  },
  {
   "cell_type": "code",
   "execution_count": 169,
   "metadata": {
    "collapsed": false
   },
   "outputs": [],
   "source": [
    "centroids, inertia, labels, silhouettes = k_centroids(X_sc, 3)"
   ]
  },
  {
   "cell_type": "code",
   "execution_count": 174,
   "metadata": {
    "collapsed": true
   },
   "outputs": [],
   "source": [
    "from sklearn.metrics import silhouette_samples, silhouette_score\n",
    "silhouette_avg = silhouette_score(X_sc, labels)\n",
    "sample_silhouette_values = silhouette_samples(X_sc, labels)"
   ]
  },
  {
   "cell_type": "code",
   "execution_count": 178,
   "metadata": {
    "collapsed": false
   },
   "outputs": [
    {
     "data": {
      "text/plain": [
       "0.84040314629599244"
      ]
     },
     "execution_count": 178,
     "metadata": {},
     "output_type": "execute_result"
    }
   ],
   "source": [
    "silhouette_avg"
   ]
  },
  {
   "cell_type": "code",
   "execution_count": 177,
   "metadata": {
    "collapsed": false
   },
   "outputs": [
    {
     "data": {
      "text/plain": [
       "0.84472518571001864"
      ]
     },
     "execution_count": 177,
     "metadata": {},
     "output_type": "execute_result"
    }
   ],
   "source": [
    "np.average(silhouettes)"
   ]
  },
  {
   "cell_type": "code",
   "execution_count": 170,
   "metadata": {
    "collapsed": false
   },
   "outputs": [
    {
     "data": {
      "text/plain": [
       "array([[ 1.        ,  1.        ,  1.        ,  1.        ,  1.        ,\n",
       "         1.        ,  1.        ,  1.        ,  1.        ,  1.        ,\n",
       "         1.        ,  1.        ,  1.        ,  1.        ,  1.        ,\n",
       "         1.        ,  1.        ,  1.        ,  1.        ,  1.        ,\n",
       "         0.        ,  0.        ,  0.        ,  0.        ,  0.        ,\n",
       "         0.        ,  0.        ,  0.        ,  0.        ,  0.        ,\n",
       "         0.        ,  0.        ,  0.        ,  0.        ,  0.        ,\n",
       "         0.        ,  0.        ,  0.        ,  0.        ,  0.        ,\n",
       "         2.        ,  2.        ,  2.        ,  2.        ,  2.        ,\n",
       "         2.        ,  2.        ,  2.        ,  2.        ,  2.        ,\n",
       "         2.        ,  2.        ,  2.        ,  2.        ,  2.        ,\n",
       "         2.        ,  2.        ,  2.        ,  2.        ,  2.        ],\n",
       "       [ 0.85842484,  0.86265703,  0.87066743,  0.86483653,  0.8591962 ,\n",
       "         0.86005138,  0.85930927,  0.87219249,  0.86420414,  0.87187468,\n",
       "         0.87010096,  0.87605478,  0.86403668,  0.87681741,  0.85986532,\n",
       "         0.86605365,  0.87591619,  0.87007231,  0.87699108,  0.86287131,\n",
       "         0.71430204,  0.74209696,  0.75350774,  0.74755144,  0.71522186,\n",
       "         0.7512584 ,  0.74912797,  0.72350024,  0.7516187 ,  0.75142845,\n",
       "         0.71861101,  0.76129139,  0.73556863,  0.71433111,  0.7429701 ,\n",
       "         0.72660466,  0.73857183,  0.72523852,  0.7176485 ,  0.71890838,\n",
       "         0.92654211,  0.93873247,  0.93407663,  0.93784157,  0.92850684,\n",
       "         0.92847365,  0.93250731,  0.93392551,  0.92857351,  0.93395445,\n",
       "         0.93053827,  0.93521987,  0.93029147,  0.93474104,  0.93348012,\n",
       "         0.93565427,  0.93071988,  0.92627757,  0.93258308,  0.92931994]])"
      ]
     },
     "execution_count": 170,
     "metadata": {},
     "output_type": "execute_result"
    }
   ],
   "source": [
    "np.vstack((labels, silhouettes))"
   ]
  }
 ],
 "metadata": {
  "kernelspec": {
   "display_name": "Python 3",
   "language": "python",
   "name": "python3"
  },
  "language_info": {
   "codemirror_mode": {
    "name": "ipython",
    "version": 3
   },
   "file_extension": ".py",
   "mimetype": "text/x-python",
   "name": "python",
   "nbconvert_exporter": "python",
   "pygments_lexer": "ipython3",
   "version": "3.6.0"
  }
 },
 "nbformat": 4,
 "nbformat_minor": 2
}
