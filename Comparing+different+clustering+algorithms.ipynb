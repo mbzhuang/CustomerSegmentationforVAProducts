{
 "cells": [
  {
   "cell_type": "markdown",
   "metadata": {},
   "source": [
    "### Comparing different clustering algorithms\n",
    "\n",
    "http://scikit-learn.org/stable/modules/clustering.html\n",
    "\n",
    "http://scikit-learn.org/stable/auto_examples/cluster/plot_cluster_comparison.html#sphx-glr-auto-examples-cluster-plot-cluster-comparison-py"
   ]
  },
  {
   "cell_type": "code",
   "execution_count": 1,
   "metadata": {
    "collapsed": true
   },
   "outputs": [],
   "source": [
    "from sklearn.cluster import KMeans\n",
    "import pandas as pd\n",
    "import numpy as np\n",
    "from scipy.spatial.distance import cdist, pdist\n",
    "from matplotlib import pyplot as plt\n",
    "from sklearn.preprocessing import StandardScaler\n",
    "from sklearn.metrics import silhouette_score, silhouette_samples\n",
    "from sklearn.neighbors import kneighbors_graph\n",
    "import matplotlib.cm as cm\n",
    "from sklearn.decomposition import PCA\n",
    "from sklearn import cluster, mixture\n",
    "from collections import defaultdict\n",
    "import time, warnings\n",
    "%matplotlib inline"
   ]
  },
  {
   "cell_type": "code",
   "execution_count": 2,
   "metadata": {
    "collapsed": true
   },
   "outputs": [],
   "source": [
    "# Use a smaller data set to save time\n",
    "df = pd.read_csv('PHBsample14_sss.csv', low_memory=False)"
   ]
  },
  {
   "cell_type": "code",
   "execution_count": 3,
   "metadata": {
    "collapsed": true
   },
   "outputs": [],
   "source": [
    "# drop the column resulted from sampling of the original data set\n",
    "df.drop('Unnamed: 0', axis=1, inplace=True)\n",
    "# In order to run K-means, drop all the categoricald data for now.\n",
    "df = df.select_dtypes(include=['float64', 'int64'])\n",
    "# Impute missing values with means\n",
    "df = df.fillna(df.mean())"
   ]
  },
  {
   "cell_type": "code",
   "execution_count": 4,
   "metadata": {
    "collapsed": true
   },
   "outputs": [],
   "source": [
    "pca = PCA(2, svd_solver='randomized')\n",
    "pca.fit(df)\n",
    "df_reduced = pca.fit_transform(df)\n",
    "df_reduced = StandardScaler().fit_transform(df_reduced)"
   ]
  },
  {
   "cell_type": "code",
   "execution_count": 5,
   "metadata": {
    "collapsed": true
   },
   "outputs": [],
   "source": [
    "X = df_reduced"
   ]
  },
  {
   "cell_type": "code",
   "execution_count": 6,
   "metadata": {
    "collapsed": true
   },
   "outputs": [],
   "source": [
    "params = {'quantile': .3,\n",
    "                'eps': .3,\n",
    "                'damping': .9,\n",
    "                'preference': -200,\n",
    "                'n_neighbors': 10,\n",
    "                'n_clusters': 7}"
   ]
  },
  {
   "cell_type": "code",
   "execution_count": 7,
   "metadata": {
    "collapsed": true
   },
   "outputs": [],
   "source": [
    "# estimate bandwidth for mean shift\n",
    "bandwidth = cluster.estimate_bandwidth(X, quantile=params['quantile'])"
   ]
  },
  {
   "cell_type": "code",
   "execution_count": 9,
   "metadata": {
    "collapsed": true
   },
   "outputs": [],
   "source": [
    "# connectivity matrix for structured Ward\n",
    "connectivity = kneighbors_graph(\n",
    "    X, n_neighbors=params['n_neighbors'], include_self=False)\n",
    "# make connectivity symmetric\n",
    "connectivity = 0.5 * (connectivity + connectivity.T)\n",
    "    \n",
    "kmeans = cluster.KMeans(n_clusters=params['n_clusters'], random_state=0)\n",
    "ms = cluster.MeanShift(bandwidth=bandwidth, bin_seeding=True)\n",
    "two_means = cluster.MiniBatchKMeans(n_clusters=params['n_clusters'])\n",
    "ward = cluster.AgglomerativeClustering(\n",
    "    n_clusters=params['n_clusters'], linkage='ward',\n",
    "    connectivity=connectivity)\n",
    "spectral = cluster.SpectralClustering(\n",
    "    n_clusters=params['n_clusters'], eigen_solver='arpack',\n",
    "    affinity=\"nearest_neighbors\")\n",
    "dbscan = cluster.DBSCAN(eps=params['eps'])\n",
    "affinity_propagation = cluster.AffinityPropagation(\n",
    "    damping=params['damping'], preference=params['preference'])\n",
    "average_linkage = cluster.AgglomerativeClustering(\n",
    "    linkage=\"average\", affinity=\"cityblock\",\n",
    "    n_clusters=params['n_clusters'], connectivity=connectivity)\n",
    "birch = cluster.Birch(n_clusters=params['n_clusters'])\n",
    "gmm = mixture.GaussianMixture(\n",
    "    n_components=params['n_clusters'], covariance_type='full')\n",
    "\n",
    "clustering_algorithms = (\n",
    "        ('KMeans', kmeans),\n",
    "        ('MiniBatchKMeans', two_means),\n",
    "        #('AffinityPropagation', affinity_propagation),\n",
    "        ('MeanShift', ms),\n",
    "        #('SpectralClustering', spectral),\n",
    "        ('Ward', ward),\n",
    "        ('AgglomerativeClustering', average_linkage),\n",
    "        ('DBSCAN', dbscan),\n",
    "        ('Birch', birch),\n",
    "        ('GaussianMixture', gmm)\n",
    "    )"
   ]
  },
  {
   "cell_type": "code",
   "execution_count": 25,
   "metadata": {},
   "outputs": [
    {
     "name": "stdout",
     "output_type": "stream",
     "text": [
      "KMeans done\n",
      "MiniBatchKMeans done\n",
      "MeanShift done\n"
     ]
    },
    {
     "name": "stderr",
     "output_type": "stream",
     "text": [
      "/home/capsops/.conda/envs/capsenvs/lib/python3.6/site-packages/sklearn/cluster/hierarchical.py:193: UserWarning: the number of connected components of the connectivity matrix is 41 > 1. Completing it to avoid stopping the tree early.\n",
      "  affinity='euclidean')\n"
     ]
    },
    {
     "name": "stdout",
     "output_type": "stream",
     "text": [
      "Ward done\n"
     ]
    },
    {
     "name": "stderr",
     "output_type": "stream",
     "text": [
      "/home/capsops/.conda/envs/capsenvs/lib/python3.6/site-packages/sklearn/cluster/hierarchical.py:426: UserWarning: the number of connected components of the connectivity matrix is 41 > 1. Completing it to avoid stopping the tree early.\n",
      "  affinity=affinity)\n"
     ]
    },
    {
     "name": "stdout",
     "output_type": "stream",
     "text": [
      "AgglomerativeClustering done\n",
      "DBSCAN done\n",
      "Birch done\n",
      "GaussianMixture done\n"
     ]
    }
   ],
   "source": [
    "res = defaultdict(list)\n",
    "for name, algorithm in clustering_algorithms:\n",
    "    t0 = time.time()\n",
    "    # catch warnings related to kneighbors_graph\n",
    "    with warnings.catch_warnings():\n",
    "        warnings.filterwarnings(\n",
    "            \"ignore\",\n",
    "            message=\"the number of connected components of the \" +\n",
    "            \"connectivity matrix is [0-9]{1,2}\" +\n",
    "            \" > 1. Completing it to avoid stopping the tree early.\",\n",
    "            category=UserWarning)\n",
    "        warnings.filterwarnings(\n",
    "            \"ignore\",\n",
    "            message=\"Graph is not fully connected, spectral embedding\" +\n",
    "            \" may not work as expected.\",\n",
    "            category=UserWarning)\n",
    "    algorithm.fit(X)\n",
    "    t1 = time.time()\n",
    "    \n",
    "    res[name].append(t1-t0)\n",
    "    if name == 'KMeans' or name == 'MiniBatchKMeans':\n",
    "        inertia = algorithm.inertia_\n",
    "    else:\n",
    "        inertia = 'N/A'\n",
    "    res[name].append(inertia)\n",
    "    if name == 'GaussianMixture':\n",
    "        labels = algorithm.predict(X)\n",
    "    else:\n",
    "        labels = algorithm.labels_\n",
    "        score = silhouette_score(X, labels, metric='euclidean', sample_size=3000)\n",
    "    res[name].append(score)\n",
    "    print(name + \" done\")"
   ]
  },
  {
   "cell_type": "code",
   "execution_count": 27,
   "metadata": {},
   "outputs": [
    {
     "data": {
      "text/plain": [
       "defaultdict(list,\n",
       "            {'AgglomerativeClustering': [16.376465320587158,\n",
       "              'N/A',\n",
       "              0.47501714371998371],\n",
       "             'Birch': [1.4826855659484863, 'N/A', 0.59386392573767688],\n",
       "             'DBSCAN': [9.213496685028076, 'N/A', 0.39426293078878188],\n",
       "             'GaussianMixture': [0.7206833362579346,\n",
       "              'N/A',\n",
       "              0.59386392573767688],\n",
       "             'KMeans': [0.6918013095855713,\n",
       "              7309.4642493447109,\n",
       "              0.62467899274492711],\n",
       "             'MeanShift': [0.49723100662231445, 'N/A', 0.54130706500698167],\n",
       "             'MiniBatchKMeans': [0.28776049613952637,\n",
       "              7315.0807751539096,\n",
       "              0.61821769410051175],\n",
       "             'Ward': [25.345725297927856, 'N/A', 0.62250415425345351]})"
      ]
     },
     "execution_count": 27,
     "metadata": {},
     "output_type": "execute_result"
    }
   ],
   "source": [
    "res"
   ]
  },
  {
   "cell_type": "code",
   "execution_count": 32,
   "metadata": {},
   "outputs": [],
   "source": [
    "df = pd.DataFrame.from_dict(res, orient='index')\n",
    "df.columns = ['Run time', 'Within-cluster sum of squares(inertia)', \\\n",
    "                                                         'Silhouette score']"
   ]
  },
  {
   "cell_type": "code",
   "execution_count": 33,
   "metadata": {},
   "outputs": [
    {
     "data": {
      "text/html": [
       "<div>\n",
       "<style>\n",
       "    .dataframe thead tr:only-child th {\n",
       "        text-align: right;\n",
       "    }\n",
       "\n",
       "    .dataframe thead th {\n",
       "        text-align: left;\n",
       "    }\n",
       "\n",
       "    .dataframe tbody tr th {\n",
       "        vertical-align: top;\n",
       "    }\n",
       "</style>\n",
       "<table border=\"1\" class=\"dataframe\">\n",
       "  <thead>\n",
       "    <tr style=\"text-align: right;\">\n",
       "      <th></th>\n",
       "      <th>Run time</th>\n",
       "      <th>Within-cluster sum of squares(inertia)</th>\n",
       "      <th>Silhouette score</th>\n",
       "    </tr>\n",
       "  </thead>\n",
       "  <tbody>\n",
       "    <tr>\n",
       "      <th>KMeans</th>\n",
       "      <td>0.691801</td>\n",
       "      <td>7309.46</td>\n",
       "      <td>0.624679</td>\n",
       "    </tr>\n",
       "    <tr>\n",
       "      <th>MiniBatchKMeans</th>\n",
       "      <td>0.287760</td>\n",
       "      <td>7315.08</td>\n",
       "      <td>0.618218</td>\n",
       "    </tr>\n",
       "    <tr>\n",
       "      <th>MeanShift</th>\n",
       "      <td>0.497231</td>\n",
       "      <td>N/A</td>\n",
       "      <td>0.541307</td>\n",
       "    </tr>\n",
       "    <tr>\n",
       "      <th>Ward</th>\n",
       "      <td>25.345725</td>\n",
       "      <td>N/A</td>\n",
       "      <td>0.622504</td>\n",
       "    </tr>\n",
       "    <tr>\n",
       "      <th>AgglomerativeClustering</th>\n",
       "      <td>16.376465</td>\n",
       "      <td>N/A</td>\n",
       "      <td>0.475017</td>\n",
       "    </tr>\n",
       "    <tr>\n",
       "      <th>DBSCAN</th>\n",
       "      <td>9.213497</td>\n",
       "      <td>N/A</td>\n",
       "      <td>0.394263</td>\n",
       "    </tr>\n",
       "    <tr>\n",
       "      <th>Birch</th>\n",
       "      <td>1.482686</td>\n",
       "      <td>N/A</td>\n",
       "      <td>0.593864</td>\n",
       "    </tr>\n",
       "    <tr>\n",
       "      <th>GaussianMixture</th>\n",
       "      <td>0.720683</td>\n",
       "      <td>N/A</td>\n",
       "      <td>0.593864</td>\n",
       "    </tr>\n",
       "  </tbody>\n",
       "</table>\n",
       "</div>"
      ],
      "text/plain": [
       "                          Run time Within-cluster sum of squares(inertia)  \\\n",
       "KMeans                    0.691801                                7309.46   \n",
       "MiniBatchKMeans           0.287760                                7315.08   \n",
       "MeanShift                 0.497231                                    N/A   \n",
       "Ward                     25.345725                                    N/A   \n",
       "AgglomerativeClustering  16.376465                                    N/A   \n",
       "DBSCAN                    9.213497                                    N/A   \n",
       "Birch                     1.482686                                    N/A   \n",
       "GaussianMixture           0.720683                                    N/A   \n",
       "\n",
       "                         Silhouette score  \n",
       "KMeans                           0.624679  \n",
       "MiniBatchKMeans                  0.618218  \n",
       "MeanShift                        0.541307  \n",
       "Ward                             0.622504  \n",
       "AgglomerativeClustering          0.475017  \n",
       "DBSCAN                           0.394263  \n",
       "Birch                            0.593864  \n",
       "GaussianMixture                  0.593864  "
      ]
     },
     "execution_count": 33,
     "metadata": {},
     "output_type": "execute_result"
    }
   ],
   "source": [
    "df"
   ]
  }
 ],
 "metadata": {
  "kernelspec": {
   "display_name": "Python 3",
   "language": "python",
   "name": "python3"
  },
  "language_info": {
   "codemirror_mode": {
    "name": "ipython",
    "version": 3
   },
   "file_extension": ".py",
   "mimetype": "text/x-python",
   "name": "python",
   "nbconvert_exporter": "python",
   "pygments_lexer": "ipython3",
   "version": "3.6.3"
  }
 },
 "nbformat": 4,
 "nbformat_minor": 2
}
