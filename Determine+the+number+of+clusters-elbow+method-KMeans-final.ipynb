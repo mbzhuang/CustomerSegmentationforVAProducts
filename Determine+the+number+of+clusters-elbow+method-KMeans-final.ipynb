{
 "cells": [
  {
   "cell_type": "markdown",
   "metadata": {},
   "source": [
    "### Determine the optimal K number\n",
    "\n",
    "* This notebook determines the optimal number of K based on K-means algorithm using Elbow method\n",
    "* Three data processing approaches: \n",
    "* &nbsp;&nbsp;&nbsp;&nbsp;&nbsp;&nbsp; Approach I. 514 features were selected out of the 1063 features. See the details in separate feature selection files. All variables have been transformed into numerical values using low rank representation method, the reduced dimension matrix is used here to determine optimal K.\n",
    "* &nbsp;&nbsp;&nbsp;&nbsp;&nbsp;&nbsp; Approach II. Drop all the categorical values and impute the numerical values with means, the method will be applied on three parallel ramdonly generated subsamples (1.25%) of the original size data.\n",
    "* &nbsp;&nbsp;&nbsp;&nbsp;&nbsp;&nbsp; Approach III. Drop all the categorical values and impute the numerical values with means, use PCA to reduce the original 1063 dimensions. the method will be applied on three parallel ramdonly generated subsamples (1.25%) of the original size data.\n",
    "* &nbsp;&nbsp;&nbsp;&nbsp;&nbsp;&nbsp; Approach IV 514 features were selected out of the 1063 features. Then use LASSO and PCA to contidue reduce dimension to 44 variables (all of them turned out to be numerical variables). Impute NA with means.\n",
    "\n",
    "Reference: : https://github.com/sarguido/k-means-clustering/blob/master/k-means-clustering.ipynb"
   ]
  },
  {
   "cell_type": "code",
   "execution_count": 13,
   "metadata": {
    "collapsed": true
   },
   "outputs": [],
   "source": [
    "from sklearn.cluster import KMeans\n",
    "import pandas as pd\n",
    "import numpy as np\n",
    "from scipy.spatial.distance import cdist, pdist\n",
    "from matplotlib import pyplot as plt\n",
    "from sklearn.preprocessing import StandardScaler\n",
    "from sklearn.metrics import silhouette_score, silhouette_samples\n",
    "import matplotlib.cm as cm\n",
    "from sklearn.decomposition import PCA\n",
    "%matplotlib inline"
   ]
  },
  {
   "cell_type": "markdown",
   "metadata": {},
   "source": [
    "#### Approach I. All variables have been transformed into numerical values using low rank representation method, the reduced dimension matrix is used here to determine optimal K. --This results was not completed due to memory error."
   ]
  },
  {
   "cell_type": "code",
   "execution_count": 61,
   "metadata": {
    "collapsed": true
   },
   "outputs": [],
   "source": [
    "df = pd.read_csv('/mnt/UW/outputDataset/lowrank_rep.csv.gz')"
   ]
  },
  {
   "cell_type": "code",
   "execution_count": 23,
   "metadata": {},
   "outputs": [
    {
     "data": {
      "text/plain": [
       "(4732698, 50)"
      ]
     },
     "execution_count": 23,
     "metadata": {},
     "output_type": "execute_result"
    }
   ],
   "source": [
    "df.shape"
   ]
  },
  {
   "cell_type": "code",
   "execution_count": 8,
   "metadata": {},
   "outputs": [
    {
     "data": {
      "text/html": [
       "<div>\n",
       "<style>\n",
       "    .dataframe thead tr:only-child th {\n",
       "        text-align: right;\n",
       "    }\n",
       "\n",
       "    .dataframe thead th {\n",
       "        text-align: left;\n",
       "    }\n",
       "\n",
       "    .dataframe tbody tr th {\n",
       "        vertical-align: top;\n",
       "    }\n",
       "</style>\n",
       "<table border=\"1\" class=\"dataframe\">\n",
       "  <thead>\n",
       "    <tr style=\"text-align: right;\">\n",
       "      <th></th>\n",
       "      <th>Arch1</th>\n",
       "      <th>Arch2</th>\n",
       "      <th>Arch3</th>\n",
       "      <th>Arch4</th>\n",
       "      <th>Arch5</th>\n",
       "      <th>Arch6</th>\n",
       "      <th>Arch7</th>\n",
       "      <th>Arch8</th>\n",
       "      <th>Arch9</th>\n",
       "      <th>Arch10</th>\n",
       "      <th>...</th>\n",
       "      <th>Arch41</th>\n",
       "      <th>Arch42</th>\n",
       "      <th>Arch43</th>\n",
       "      <th>Arch44</th>\n",
       "      <th>Arch45</th>\n",
       "      <th>Arch46</th>\n",
       "      <th>Arch47</th>\n",
       "      <th>Arch48</th>\n",
       "      <th>Arch49</th>\n",
       "      <th>Arch50</th>\n",
       "    </tr>\n",
       "  </thead>\n",
       "  <tbody>\n",
       "    <tr>\n",
       "      <th>0</th>\n",
       "      <td>0.023792</td>\n",
       "      <td>-0.026192</td>\n",
       "      <td>0.046124</td>\n",
       "      <td>0.057997</td>\n",
       "      <td>-0.009326</td>\n",
       "      <td>-0.001649</td>\n",
       "      <td>-0.017347</td>\n",
       "      <td>-0.026566</td>\n",
       "      <td>-0.008624</td>\n",
       "      <td>0.000035</td>\n",
       "      <td>...</td>\n",
       "      <td>0.002778</td>\n",
       "      <td>-0.008535</td>\n",
       "      <td>0.015007</td>\n",
       "      <td>0.015596</td>\n",
       "      <td>0.015161</td>\n",
       "      <td>0.002198</td>\n",
       "      <td>0.033403</td>\n",
       "      <td>-0.000672</td>\n",
       "      <td>0.000058</td>\n",
       "      <td>0.004005</td>\n",
       "    </tr>\n",
       "    <tr>\n",
       "      <th>1</th>\n",
       "      <td>0.015966</td>\n",
       "      <td>0.008177</td>\n",
       "      <td>-0.018576</td>\n",
       "      <td>0.056036</td>\n",
       "      <td>0.001167</td>\n",
       "      <td>-0.021675</td>\n",
       "      <td>-0.026182</td>\n",
       "      <td>0.016670</td>\n",
       "      <td>-0.004948</td>\n",
       "      <td>-0.045923</td>\n",
       "      <td>...</td>\n",
       "      <td>-0.005090</td>\n",
       "      <td>0.000951</td>\n",
       "      <td>-0.000059</td>\n",
       "      <td>-0.006419</td>\n",
       "      <td>-0.004279</td>\n",
       "      <td>0.014486</td>\n",
       "      <td>-0.000354</td>\n",
       "      <td>0.008224</td>\n",
       "      <td>-0.003906</td>\n",
       "      <td>-0.000082</td>\n",
       "    </tr>\n",
       "    <tr>\n",
       "      <th>2</th>\n",
       "      <td>0.023379</td>\n",
       "      <td>-0.024775</td>\n",
       "      <td>0.024896</td>\n",
       "      <td>0.046084</td>\n",
       "      <td>-0.016003</td>\n",
       "      <td>-0.015837</td>\n",
       "      <td>-0.028512</td>\n",
       "      <td>-0.031474</td>\n",
       "      <td>0.003878</td>\n",
       "      <td>0.001142</td>\n",
       "      <td>...</td>\n",
       "      <td>-0.009765</td>\n",
       "      <td>0.002476</td>\n",
       "      <td>0.024092</td>\n",
       "      <td>0.009326</td>\n",
       "      <td>0.009890</td>\n",
       "      <td>-0.014078</td>\n",
       "      <td>0.020853</td>\n",
       "      <td>-0.008587</td>\n",
       "      <td>0.006990</td>\n",
       "      <td>-0.014452</td>\n",
       "    </tr>\n",
       "    <tr>\n",
       "      <th>3</th>\n",
       "      <td>0.029712</td>\n",
       "      <td>-0.034318</td>\n",
       "      <td>-0.030695</td>\n",
       "      <td>0.060731</td>\n",
       "      <td>0.012181</td>\n",
       "      <td>-0.016642</td>\n",
       "      <td>0.008723</td>\n",
       "      <td>-0.017834</td>\n",
       "      <td>0.010362</td>\n",
       "      <td>0.002657</td>\n",
       "      <td>...</td>\n",
       "      <td>-0.008416</td>\n",
       "      <td>-0.000520</td>\n",
       "      <td>0.008658</td>\n",
       "      <td>0.010348</td>\n",
       "      <td>-0.006410</td>\n",
       "      <td>-0.021849</td>\n",
       "      <td>0.012883</td>\n",
       "      <td>-0.011390</td>\n",
       "      <td>0.010977</td>\n",
       "      <td>0.001848</td>\n",
       "    </tr>\n",
       "    <tr>\n",
       "      <th>4</th>\n",
       "      <td>0.025381</td>\n",
       "      <td>0.002224</td>\n",
       "      <td>0.003834</td>\n",
       "      <td>0.058334</td>\n",
       "      <td>-0.019646</td>\n",
       "      <td>-0.050778</td>\n",
       "      <td>-0.010127</td>\n",
       "      <td>-0.063004</td>\n",
       "      <td>-0.016856</td>\n",
       "      <td>-0.001206</td>\n",
       "      <td>...</td>\n",
       "      <td>-0.006367</td>\n",
       "      <td>-0.010286</td>\n",
       "      <td>-0.002253</td>\n",
       "      <td>-0.003586</td>\n",
       "      <td>0.006144</td>\n",
       "      <td>0.027875</td>\n",
       "      <td>0.005699</td>\n",
       "      <td>-0.006108</td>\n",
       "      <td>-0.013784</td>\n",
       "      <td>-0.007918</td>\n",
       "    </tr>\n",
       "  </tbody>\n",
       "</table>\n",
       "<p>5 rows × 50 columns</p>\n",
       "</div>"
      ],
      "text/plain": [
       "      Arch1     Arch2     Arch3     Arch4     Arch5     Arch6     Arch7  \\\n",
       "0  0.023792 -0.026192  0.046124  0.057997 -0.009326 -0.001649 -0.017347   \n",
       "1  0.015966  0.008177 -0.018576  0.056036  0.001167 -0.021675 -0.026182   \n",
       "2  0.023379 -0.024775  0.024896  0.046084 -0.016003 -0.015837 -0.028512   \n",
       "3  0.029712 -0.034318 -0.030695  0.060731  0.012181 -0.016642  0.008723   \n",
       "4  0.025381  0.002224  0.003834  0.058334 -0.019646 -0.050778 -0.010127   \n",
       "\n",
       "      Arch8     Arch9    Arch10    ...       Arch41    Arch42    Arch43  \\\n",
       "0 -0.026566 -0.008624  0.000035    ...     0.002778 -0.008535  0.015007   \n",
       "1  0.016670 -0.004948 -0.045923    ...    -0.005090  0.000951 -0.000059   \n",
       "2 -0.031474  0.003878  0.001142    ...    -0.009765  0.002476  0.024092   \n",
       "3 -0.017834  0.010362  0.002657    ...    -0.008416 -0.000520  0.008658   \n",
       "4 -0.063004 -0.016856 -0.001206    ...    -0.006367 -0.010286 -0.002253   \n",
       "\n",
       "     Arch44    Arch45    Arch46    Arch47    Arch48    Arch49    Arch50  \n",
       "0  0.015596  0.015161  0.002198  0.033403 -0.000672  0.000058  0.004005  \n",
       "1 -0.006419 -0.004279  0.014486 -0.000354  0.008224 -0.003906 -0.000082  \n",
       "2  0.009326  0.009890 -0.014078  0.020853 -0.008587  0.006990 -0.014452  \n",
       "3  0.010348 -0.006410 -0.021849  0.012883 -0.011390  0.010977  0.001848  \n",
       "4 -0.003586  0.006144  0.027875  0.005699 -0.006108 -0.013784 -0.007918  \n",
       "\n",
       "[5 rows x 50 columns]"
      ]
     },
     "execution_count": 8,
     "metadata": {},
     "output_type": "execute_result"
    }
   ],
   "source": [
    "df.head()"
   ]
  },
  {
   "cell_type": "code",
   "execution_count": 62,
   "metadata": {
    "collapsed": true
   },
   "outputs": [],
   "source": [
    "# records number is too large, use a sample to perform analysis\n",
    "import random\n",
    "random.seed(123)\n",
    "df_sample = df.sample(frac=0.0125, replace=False)\n",
    "df_sample = df_sample.fillna(df_sample.mean())\n",
    "X = StandardScaler().fit_transform(df_sample)"
   ]
  },
  {
   "cell_type": "code",
   "execution_count": 63,
   "metadata": {},
   "outputs": [
    {
     "name": "stdout",
     "output_type": "stream",
     "text": [
      "00:04:09.06\n"
     ]
    },
    {
     "data": {
      "text/plain": [
       "Text(0.5,1,'Variance Explained vs. k')"
      ]
     },
     "execution_count": 63,
     "metadata": {},
     "output_type": "execute_result"
    },
    {
     "data": {
      "image/png": "[encoded data removed]",
      "text/plain": [
       "<matplotlib.figure.Figure at 0x7fd28efb3710>"
      ]
     },
     "metadata": {},
     "output_type": "display_data"
    }
   ],
   "source": [
    "import time\n",
    "start = time.time()\n",
    "# Determine your k range\n",
    "k_range = range(3,14)\n",
    "\n",
    "# Fit the kmeans model for each n_clusters = k\n",
    "k_means_var = [KMeans(n_clusters=k).fit(X) for k in k_range]\n",
    "\n",
    "# Pull out the cluster centers for each model\n",
    "centroids = [X.cluster_centers_ for X in k_means_var]\n",
    "\n",
    "# Calculate the Euclidean distance from \n",
    "# each point to each cluster center\n",
    "k_euclid = [cdist(X, cent, 'euclidean') for cent in centroids]\n",
    "dist = [np.min(ke,axis=1) for ke in k_euclid]\n",
    "\n",
    "# Total within-cluster sum of squares\n",
    "wcss = [sum(d**2) for d in dist]\n",
    "\n",
    "# The total sum of squares\n",
    "tss = sum(pdist(X)**2)/X.shape[0]\n",
    "\n",
    "# The between-cluster sum of squares\n",
    "bss = tss - wcss\n",
    "\n",
    "end = time.time()\n",
    "\n",
    "hours, rem = divmod(end-start, 3600)\n",
    "minutes, seconds = divmod(rem, 60)\n",
    "print(\"{:0>2}:{:0>2}:{:05.2f}\".format(int(hours),int(minutes),seconds))\n",
    "\n",
    "# elbow curve\n",
    "fig = plt.figure()\n",
    "ax = fig.add_subplot(111)\n",
    "ax.plot(k_range, bss/tss*100, 'b*-')\n",
    "ax.set_ylim((0,100))\n",
    "plt.grid(True)\n",
    "plt.xlabel('n_clusters')\n",
    "plt.ylabel('Percentage of variance explained')\n",
    "plt.title('Variance Explained vs. k')"
   ]
  },
  {
   "cell_type": "markdown",
   "metadata": {},
   "source": [
    "#### Approach II. Drop all the categorical values and impute the numerical values with means, the method will be applied on three parallel ramdonly generated subsamples (1.25%) of the original size data"
   ]
  },
  {
   "cell_type": "code",
   "execution_count": 64,
   "metadata": {
    "collapsed": true
   },
   "outputs": [],
   "source": [
    "# Use a smaller data set to save time\n",
    "df1 = pd.read_csv('PHBsample14_sss.csv', low_memory=False)\n",
    "df2 = pd.read_csv('PHBsample15_sss.csv', low_memory=False)\n",
    "df3 = pd.read_csv('PHBsample16_sss.csv', low_memory=False)"
   ]
  },
  {
   "cell_type": "code",
   "execution_count": 65,
   "metadata": {
    "collapsed": true
   },
   "outputs": [],
   "source": [
    "# drop the column resulted from sampling of the original data set\n",
    "df1.drop('Unnamed: 0', axis=1, inplace=True)\n",
    "df2.drop('Unnamed: 0', axis=1, inplace=True)\n",
    "df3.drop('Unnamed: 0', axis=1, inplace=True)"
   ]
  },
  {
   "cell_type": "code",
   "execution_count": 66,
   "metadata": {
    "collapsed": true
   },
   "outputs": [],
   "source": [
    "selected_variable = pd.read_csv('selectedVariables.csv')\n",
    "selected_variable.drop('Unnamed: 0', axis=1, inplace=True)\n",
    "df1_1 = df1[df1.columns.intersection(selected_variable.columns)]\n",
    "df2_1 = df2[df2.columns.intersection(selected_variable.columns)]\n",
    "df3_1 = df3[df3.columns.intersection(selected_variable.columns)]"
   ]
  },
  {
   "cell_type": "code",
   "execution_count": 67,
   "metadata": {
    "collapsed": true
   },
   "outputs": [],
   "source": [
    "# Drop all the categoricald data for now.\n",
    "df1_2 = df1_1.select_dtypes(include=['float64', 'int64'])\n",
    "# Impute missing values with means\n",
    "df1_3 = df1_2.fillna(df1_2.mean())\n",
    "# Standarize the data points\n",
    "X = StandardScaler().fit_transform(df1_3)"
   ]
  },
  {
   "cell_type": "markdown",
   "metadata": {},
   "source": [
    "##### Subsample 1"
   ]
  },
  {
   "cell_type": "code",
   "execution_count": 8,
   "metadata": {},
   "outputs": [
    {
     "name": "stdout",
     "output_type": "stream",
     "text": [
      "00:43:51.34\n"
     ]
    },
    {
     "data": {
      "text/plain": [
       "Text(0.5,1,'Variance Explained vs. k')"
      ]
     },
     "execution_count": 8,
     "metadata": {},
     "output_type": "execute_result"
    },
    {
     "data": {
      "image/png": "[encoded data removed]",
      "text/plain": [
       "<matplotlib.figure.Figure at 0x7fafdf93b630>"
      ]
     },
     "metadata": {},
     "output_type": "display_data"
    }
   ],
   "source": [
    "import time\n",
    "start = time.time()\n",
    "# Determine your k range\n",
    "k_range = range(1,14)\n",
    "\n",
    "# Fit the kmeans model for each n_clusters = k\n",
    "k_means_var = [KMeans(n_clusters=k).fit(X) for k in k_range]\n",
    "\n",
    "# Pull out the cluster centers for each model\n",
    "centroids = [X.cluster_centers_ for X in k_means_var]\n",
    "\n",
    "# Calculate the Euclidean distance from \n",
    "# each point to each cluster center\n",
    "k_euclid = [cdist(X, cent, 'euclidean') for cent in centroids]\n",
    "dist = [np.min(ke,axis=1) for ke in k_euclid]\n",
    "\n",
    "# Total within-cluster sum of squares\n",
    "wcss = [sum(d**2) for d in dist]\n",
    "\n",
    "# The total sum of squares\n",
    "tss = sum(pdist(X)**2)/X.shape[0]\n",
    "\n",
    "# The between-cluster sum of squares\n",
    "bss = tss - wcss\n",
    "\n",
    "end = time.time()\n",
    "\n",
    "hours, rem = divmod(end-start, 3600)\n",
    "minutes, seconds = divmod(rem, 60)\n",
    "print(\"{:0>2}:{:0>2}:{:05.2f}\".format(int(hours),int(minutes),seconds))\n",
    "\n",
    "# elbow curve\n",
    "fig = plt.figure()\n",
    "ax = fig.add_subplot(111)\n",
    "ax.plot(k_range, bss/tss*100, 'b*-')\n",
    "ax.set_ylim((0,100))\n",
    "plt.grid(True)\n",
    "plt.xlabel('n_clusters')\n",
    "plt.ylabel('Percentage of variance explained')\n",
    "plt.title('Variance Explained vs. k')"
   ]
  },
  {
   "cell_type": "markdown",
   "metadata": {},
   "source": [
    "##### Subsample 2"
   ]
  },
  {
   "cell_type": "code",
   "execution_count": 6,
   "metadata": {
    "collapsed": true
   },
   "outputs": [],
   "source": [
    "# Drop all the categoricald data for now.\n",
    "df2_2 = df2_1.select_dtypes(include=['float64', 'int64'])\n",
    "# Impute missing values with means\n",
    "df2_3 = df2_2.fillna(df2_2.mean())\n",
    "# Standarize the data points\n",
    "X = StandardScaler().fit_transform(df2_3)"
   ]
  },
  {
   "cell_type": "code",
   "execution_count": 8,
   "metadata": {},
   "outputs": [
    {
     "name": "stdout",
     "output_type": "stream",
     "text": [
      "00:29:36.52\n"
     ]
    },
    {
     "data": {
      "text/plain": [
       "Text(0.5,1,'Variance Explained vs. k')"
      ]
     },
     "execution_count": 8,
     "metadata": {},
     "output_type": "execute_result"
    },
    {
     "data": {
      "image/png": "[encoded data removed]",
      "text/plain": [
       "<matplotlib.figure.Figure at 0x7fdf900a9c18>"
      ]
     },
     "metadata": {},
     "output_type": "display_data"
    }
   ],
   "source": [
    "import time\n",
    "start = time.time()\n",
    "# Determine your k range\n",
    "k_range = range(1,14)\n",
    "\n",
    "# Fit the kmeans model for each n_clusters = k\n",
    "k_means_var = [KMeans(n_clusters=k).fit(X) for k in k_range]\n",
    "\n",
    "# Pull out the cluster centers for each model\n",
    "centroids = [X.cluster_centers_ for X in k_means_var]\n",
    "\n",
    "# Calculate the Euclidean distance from \n",
    "# each point to each cluster center\n",
    "k_euclid = [cdist(X, cent, 'euclidean') for cent in centroids]\n",
    "dist = [np.min(ke,axis=1) for ke in k_euclid]\n",
    "\n",
    "# Total within-cluster sum of squares\n",
    "wcss = [sum(d**2) for d in dist]\n",
    "\n",
    "# The total sum of squares\n",
    "tss = sum(pdist(X)**2)/X.shape[0]\n",
    "\n",
    "# The between-cluster sum of squares\n",
    "bss = tss - wcss\n",
    "\n",
    "end = time.time()\n",
    "\n",
    "hours, rem = divmod(end-start, 3600)\n",
    "minutes, seconds = divmod(rem, 60)\n",
    "print(\"{:0>2}:{:0>2}:{:05.2f}\".format(int(hours),int(minutes),seconds))\n",
    "\n",
    "# elbow curve\n",
    "fig = plt.figure()\n",
    "ax = fig.add_subplot(111)\n",
    "ax.plot(k_range, bss/tss*100, 'b*-')\n",
    "ax.set_ylim((0,100))\n",
    "plt.grid(True)\n",
    "plt.xlabel('n_clusters')\n",
    "plt.ylabel('Percentage of variance explained')\n",
    "plt.title('Variance Explained vs. k')"
   ]
  },
  {
   "cell_type": "markdown",
   "metadata": {},
   "source": [
    "##### Subsample 3"
   ]
  },
  {
   "cell_type": "code",
   "execution_count": 15,
   "metadata": {
    "collapsed": true
   },
   "outputs": [],
   "source": [
    "# Drop all the categoricald data for now.\n",
    "df3_2 = df3_1.select_dtypes(include=['float64', 'int64'])\n",
    "# Impute missing values with means\n",
    "df3_3 = df3_2.fillna(df3_2.mean())\n",
    "# Standarize the data points\n",
    "X = StandardScaler().fit_transform(df3_3)"
   ]
  },
  {
   "cell_type": "code",
   "execution_count": 18,
   "metadata": {},
   "outputs": [
    {
     "name": "stdout",
     "output_type": "stream",
     "text": [
      "00:38:08.87\n"
     ]
    },
    {
     "data": {
      "text/plain": [
       "Text(0.5,1,'Variance Explained vs. k')"
      ]
     },
     "execution_count": 18,
     "metadata": {},
     "output_type": "execute_result"
    },
    {
     "data": {
      "image/png": "[encoded data removed]",
      "text/plain": [
       "<matplotlib.figure.Figure at 0x7fdbf2e23908>"
      ]
     },
     "metadata": {},
     "output_type": "display_data"
    }
   ],
   "source": [
    "import time\n",
    "start = time.time()\n",
    "# Determine your k range\n",
    "k_range = range(1,14)\n",
    "\n",
    "# Fit the kmeans model for each n_clusters = k\n",
    "k_means_var = [KMeans(n_clusters=k).fit(X) for k in k_range]\n",
    "\n",
    "# Pull out the cluster centers for each model\n",
    "centroids = [X.cluster_centers_ for X in k_means_var]\n",
    "\n",
    "# Calculate the Euclidean distance from \n",
    "# each point to each cluster center\n",
    "k_euclid = [cdist(X, cent, 'euclidean') for cent in centroids]\n",
    "dist = [np.min(ke,axis=1) for ke in k_euclid]\n",
    "\n",
    "# Total within-cluster sum of squares\n",
    "wcss = [sum(d**2) for d in dist]\n",
    "\n",
    "# The total sum of squares\n",
    "tss = sum(pdist(X)**2)/X.shape[0]\n",
    "\n",
    "# The between-cluster sum of squares\n",
    "bss = tss - wcss\n",
    "\n",
    "end = time.time()\n",
    "\n",
    "hours, rem = divmod(end-start, 3600)\n",
    "minutes, seconds = divmod(rem, 60)\n",
    "print(\"{:0>2}:{:0>2}:{:05.2f}\".format(int(hours),int(minutes),seconds))\n",
    "\n",
    "# elbow curve\n",
    "fig = plt.figure()\n",
    "ax = fig.add_subplot(111)\n",
    "ax.plot(k_range, bss/tss*100, 'b*-')\n",
    "ax.set_ylim((0,100))\n",
    "plt.grid(True)\n",
    "plt.xlabel('n_clusters')\n",
    "plt.ylabel('Percentage of variance explained')\n",
    "plt.title('Variance Explained vs. k')"
   ]
  },
  {
   "cell_type": "code",
   "execution_count": 8,
   "metadata": {
    "collapsed": true
   },
   "outputs": [],
   "source": [
    "fig.savefig('OptimalK_elbum.png', dpi=100)"
   ]
  },
  {
   "cell_type": "markdown",
   "metadata": {},
   "source": [
    "#### Approach III. Use PCA to reduce the original 1063 dimensions. Drop all the categorical values and impute the numerical values with means, the method will be applied on a ramdonly generated subsamples (1.25%) of the original size data."
   ]
  },
  {
   "cell_type": "markdown",
   "metadata": {},
   "source": [
    "##### subsample 1"
   ]
  },
  {
   "cell_type": "code",
   "execution_count": 2,
   "metadata": {
    "collapsed": true
   },
   "outputs": [],
   "source": [
    "df = pd.read_csv('PHBsample14_sss.csv', low_memory=False)"
   ]
  },
  {
   "cell_type": "code",
   "execution_count": 3,
   "metadata": {
    "collapsed": true
   },
   "outputs": [],
   "source": [
    "# drop the column resulted from sampling of the original data set\n",
    "df.drop('Unnamed: 0', axis=1, inplace=True)\n",
    "# In order to run K-means, drop all the categoricald data for now.\n",
    "df = df.select_dtypes(include=['float64', 'int64'])\n",
    "# Impute missing values with means\n",
    "df = df.fillna(df.mean())\n",
    "pca = PCA(2, svd_solver='randomized')\n",
    "pca.fit(df)\n",
    "df_reduced = pca.fit_transform(df)\n",
    "df_reduced = StandardScaler().fit_transform(df_reduced)"
   ]
  },
  {
   "cell_type": "code",
   "execution_count": 5,
   "metadata": {},
   "outputs": [
    {
     "name": "stdout",
     "output_type": "stream",
     "text": [
      "00:02:47.30\n"
     ]
    },
    {
     "data": {
      "text/plain": [
       "Text(0.5,1,'Variance Explained vs. k')"
      ]
     },
     "execution_count": 5,
     "metadata": {},
     "output_type": "execute_result"
    },
    {
     "data": {
      "image/png": "[encoded data removed]",
      "text/plain": [
       "<matplotlib.figure.Figure at 0x7fd28f067400>"
      ]
     },
     "metadata": {},
     "output_type": "display_data"
    }
   ],
   "source": [
    "X = df_reduced\n",
    "import time\n",
    "start = time.time()\n",
    "# Determine your k range\n",
    "k_range = range(1,14)\n",
    "\n",
    "# Fit the kmeans model for each n_clusters = k\n",
    "k_means_var = [KMeans(n_clusters=k).fit(X) for k in k_range]\n",
    "\n",
    "# Pull out the cluster centers for each model\n",
    "centroids = [X.cluster_centers_ for X in k_means_var]\n",
    "\n",
    "# Calculate the Euclidean distance from \n",
    "# each point to each cluster center\n",
    "k_euclid = [cdist(X, cent, 'euclidean') for cent in centroids]\n",
    "dist = [np.min(ke,axis=1) for ke in k_euclid]\n",
    "\n",
    "# Total within-cluster sum of squares\n",
    "wcss = [sum(d**2) for d in dist]\n",
    "\n",
    "# The total sum of squares\n",
    "tss = sum(pdist(X)**2)/X.shape[0]\n",
    "\n",
    "# The between-cluster sum of squares\n",
    "bss = tss - wcss\n",
    "\n",
    "end = time.time()\n",
    "\n",
    "hours, rem = divmod(end-start, 3600)\n",
    "minutes, seconds = divmod(rem, 60)\n",
    "print(\"{:0>2}:{:0>2}:{:05.2f}\".format(int(hours),int(minutes),seconds))\n",
    "\n",
    "# elbow curve\n",
    "fig = plt.figure()\n",
    "ax = fig.add_subplot(111)\n",
    "ax.plot(k_range, bss/tss*100, 'b*-')\n",
    "ax.set_ylim((0,100))\n",
    "plt.grid(True)\n",
    "plt.xlabel('n_clusters')\n",
    "plt.ylabel('Percentage of variance explained')\n",
    "plt.title('Variance Explained vs. k')"
   ]
  },
  {
   "cell_type": "markdown",
   "metadata": {},
   "source": [
    "##### subsample 2"
   ]
  },
  {
   "cell_type": "code",
   "execution_count": 6,
   "metadata": {
    "collapsed": true
   },
   "outputs": [],
   "source": [
    "df = pd.read_csv('PHBsample15_sss.csv', low_memory=False)"
   ]
  },
  {
   "cell_type": "code",
   "execution_count": 7,
   "metadata": {
    "collapsed": true
   },
   "outputs": [],
   "source": [
    "# drop the column resulted from sampling of the original data set\n",
    "df.drop('Unnamed: 0', axis=1, inplace=True)\n",
    "# In order to run K-means, drop all the categoricald data for now.\n",
    "df = df.select_dtypes(include=['float64', 'int64'])\n",
    "# Impute missing values with means\n",
    "df = df.fillna(df.mean())\n",
    "pca = PCA(2, svd_solver='randomized')\n",
    "pca.fit(df)\n",
    "df_reduced = pca.fit_transform(df)\n",
    "df_reduced = StandardScaler().fit_transform(df_reduced)"
   ]
  },
  {
   "cell_type": "code",
   "execution_count": 8,
   "metadata": {},
   "outputs": [
    {
     "name": "stdout",
     "output_type": "stream",
     "text": [
      "00:02:35.05\n"
     ]
    },
    {
     "data": {
      "text/plain": [
       "Text(0.5,1,'Variance Explained vs. k')"
      ]
     },
     "execution_count": 8,
     "metadata": {},
     "output_type": "execute_result"
    },
    {
     "data": {
      "image/png": "[encoded data removed]",
      "text/plain": [
       "<matplotlib.figure.Figure at 0x7fd28f067438>"
      ]
     },
     "metadata": {},
     "output_type": "display_data"
    }
   ],
   "source": [
    "X = df_reduced\n",
    "import time\n",
    "start = time.time()\n",
    "# Determine your k range\n",
    "k_range = range(1,14)\n",
    "\n",
    "# Fit the kmeans model for each n_clusters = k\n",
    "k_means_var = [KMeans(n_clusters=k).fit(X) for k in k_range]\n",
    "\n",
    "# Pull out the cluster centers for each model\n",
    "centroids = [X.cluster_centers_ for X in k_means_var]\n",
    "\n",
    "# Calculate the Euclidean distance from \n",
    "# each point to each cluster center\n",
    "k_euclid = [cdist(X, cent, 'euclidean') for cent in centroids]\n",
    "dist = [np.min(ke,axis=1) for ke in k_euclid]\n",
    "\n",
    "# Total within-cluster sum of squares\n",
    "wcss = [sum(d**2) for d in dist]\n",
    "\n",
    "# The total sum of squares\n",
    "tss = sum(pdist(X)**2)/X.shape[0]\n",
    "\n",
    "# The between-cluster sum of squares\n",
    "bss = tss - wcss\n",
    "\n",
    "end = time.time()\n",
    "\n",
    "hours, rem = divmod(end-start, 3600)\n",
    "minutes, seconds = divmod(rem, 60)\n",
    "print(\"{:0>2}:{:0>2}:{:05.2f}\".format(int(hours),int(minutes),seconds))\n",
    "\n",
    "# elbow curve\n",
    "fig = plt.figure()\n",
    "ax = fig.add_subplot(111)\n",
    "ax.plot(k_range, bss/tss*100, 'b*-')\n",
    "ax.set_ylim((0,100))\n",
    "plt.grid(True)\n",
    "plt.xlabel('n_clusters')\n",
    "plt.ylabel('Percentage of variance explained')\n",
    "plt.title('Variance Explained vs. k')"
   ]
  },
  {
   "cell_type": "markdown",
   "metadata": {},
   "source": [
    "##### subsample 3"
   ]
  },
  {
   "cell_type": "code",
   "execution_count": 9,
   "metadata": {
    "collapsed": true
   },
   "outputs": [],
   "source": [
    "df = pd.read_csv('PHBsample16_sss.csv', low_memory=False)"
   ]
  },
  {
   "cell_type": "code",
   "execution_count": 10,
   "metadata": {
    "collapsed": true
   },
   "outputs": [],
   "source": [
    "# drop the column resulted from sampling of the original data set\n",
    "df.drop('Unnamed: 0', axis=1, inplace=True)\n",
    "# In order to run K-means, drop all the categoricald data for now.\n",
    "df = df.select_dtypes(include=['float64', 'int64'])\n",
    "# Impute missing values with means\n",
    "df = df.fillna(df.mean())\n",
    "pca = PCA(2, svd_solver='randomized')\n",
    "pca.fit(df)\n",
    "df_reduced = pca.fit_transform(df)\n",
    "df_reduced = StandardScaler().fit_transform(df_reduced)"
   ]
  },
  {
   "cell_type": "code",
   "execution_count": 11,
   "metadata": {},
   "outputs": [
    {
     "name": "stdout",
     "output_type": "stream",
     "text": [
      "00:02:41.88\n"
     ]
    },
    {
     "data": {
      "text/plain": [
       "Text(0.5,1,'Variance Explained vs. k')"
      ]
     },
     "execution_count": 11,
     "metadata": {},
     "output_type": "execute_result"
    },
    {
     "data": {
      "image/png": "[encoded data removed]",
      "text/plain": [
       "<matplotlib.figure.Figure at 0x7fd28f0ed0f0>"
      ]
     },
     "metadata": {},
     "output_type": "display_data"
    }
   ],
   "source": [
    "X = df_reduced\n",
    "import time\n",
    "start = time.time()\n",
    "# Determine your k range\n",
    "k_range = range(1,14)\n",
    "\n",
    "# Fit the kmeans model for each n_clusters = k\n",
    "k_means_var = [KMeans(n_clusters=k).fit(X) for k in k_range]\n",
    "\n",
    "# Pull out the cluster centers for each model\n",
    "centroids = [X.cluster_centers_ for X in k_means_var]\n",
    "\n",
    "# Calculate the Euclidean distance from \n",
    "# each point to each cluster center\n",
    "k_euclid = [cdist(X, cent, 'euclidean') for cent in centroids]\n",
    "dist = [np.min(ke,axis=1) for ke in k_euclid]\n",
    "\n",
    "# Total within-cluster sum of squares\n",
    "wcss = [sum(d**2) for d in dist]\n",
    "\n",
    "# The total sum of squares\n",
    "tss = sum(pdist(X)**2)/X.shape[0]\n",
    "\n",
    "# The between-cluster sum of squares\n",
    "bss = tss - wcss\n",
    "\n",
    "end = time.time()\n",
    "\n",
    "hours, rem = divmod(end-start, 3600)\n",
    "minutes, seconds = divmod(rem, 60)\n",
    "print(\"{:0>2}:{:0>2}:{:05.2f}\".format(int(hours),int(minutes),seconds))\n",
    "\n",
    "# elbow curve\n",
    "fig = plt.figure()\n",
    "ax = fig.add_subplot(111)\n",
    "ax.plot(k_range, bss/tss*100, 'b*-')\n",
    "ax.set_ylim((0,100))\n",
    "plt.grid(True)\n",
    "plt.xlabel('n_clusters')\n",
    "plt.ylabel('Percentage of variance explained')\n",
    "plt.title('Variance Explained vs. k')"
   ]
  },
  {
   "cell_type": "markdown",
   "metadata": {},
   "source": [
    "#### Approach IV 514 features were selected out of the 1063 features. Then use LASSO and PCA to contidue reduce dimension to 44 variables (all of them turned out to be numerical variables). Impute NA with means."
   ]
  },
  {
   "cell_type": "code",
   "execution_count": 25,
   "metadata": {
    "collapsed": true
   },
   "outputs": [],
   "source": [
    "df = pd.read_csv('/mnt/UW/outputDataset/pca_reduced_LASSO.csv')"
   ]
  },
  {
   "cell_type": "code",
   "execution_count": 48,
   "metadata": {},
   "outputs": [],
   "source": [
    "# records number is too large, use a sample to perform analysis\n",
    "import random\n",
    "random.seed(123)\n",
    "df_sample = df.sample(frac=0.0125, replace=False)"
   ]
  },
  {
   "cell_type": "code",
   "execution_count": 43,
   "metadata": {},
   "outputs": [
    {
     "data": {
      "text/plain": [
       "(118317, 44)"
      ]
     },
     "execution_count": 43,
     "metadata": {},
     "output_type": "execute_result"
    }
   ],
   "source": [
    "df_sample.shape"
   ]
  },
  {
   "cell_type": "code",
   "execution_count": 54,
   "metadata": {
    "collapsed": true
   },
   "outputs": [],
   "source": [
    "df_sample = df_sample.fillna(df_sample.mean())\n",
    "X = StandardScaler().fit_transform(df_sample)"
   ]
  },
  {
   "cell_type": "code",
   "execution_count": 57,
   "metadata": {},
   "outputs": [
    {
     "name": "stdout",
     "output_type": "stream",
     "text": [
      "00:05:07.19\n"
     ]
    },
    {
     "data": {
      "text/plain": [
       "Text(0.5,1,'Variance Explained vs. k')"
      ]
     },
     "execution_count": 57,
     "metadata": {},
     "output_type": "execute_result"
    },
    {
     "data": {
      "image/png": "[encoded data removed]",
      "text/plain": [
       "<matplotlib.figure.Figure at 0x7fd28efb47f0>"
      ]
     },
     "metadata": {},
     "output_type": "display_data"
    }
   ],
   "source": [
    "import time\n",
    "start = time.time()\n",
    "# Determine your k range\n",
    "k_range = range(3,14)\n",
    "\n",
    "# Fit the kmeans model for each n_clusters = k\n",
    "k_means_var = [KMeans(n_clusters=k).fit(X) for k in k_range]\n",
    "\n",
    "# Pull out the cluster centers for each model\n",
    "centroids = [X.cluster_centers_ for X in k_means_var]\n",
    "\n",
    "# Calculate the Euclidean distance from \n",
    "# each point to each cluster center\n",
    "k_euclid = [cdist(X, cent, 'euclidean') for cent in centroids]\n",
    "dist = [np.min(ke,axis=1) for ke in k_euclid]\n",
    "\n",
    "# Total within-cluster sum of squares also known as inertia\n",
    "wcss = [sum(d**2) for d in dist]\n",
    "\n",
    "# The total sum of squares\n",
    "tss = sum(pdist(X)**2)/X.shape[0]\n",
    "\n",
    "# The between-cluster sum of squares\n",
    "bss = tss - wcss\n",
    "\n",
    "end = time.time()\n",
    "\n",
    "hours, rem = divmod(end-start, 3600)\n",
    "minutes, seconds = divmod(rem, 60)\n",
    "print(\"{:0>2}:{:0>2}:{:05.2f}\".format(int(hours),int(minutes),seconds))\n",
    "\n",
    "# elbow curve\n",
    "fig = plt.figure()\n",
    "ax = fig.add_subplot(111)\n",
    "ax.plot(k_range, bss/tss*100, 'b*-')\n",
    "ax.set_ylim((0,100))\n",
    "plt.grid(True)\n",
    "plt.xlabel('n_clusters')\n",
    "plt.ylabel('Percentage of variance explained')\n",
    "plt.title('Variance Explained vs. k')"
   ]
  }
 ],
 "metadata": {
  "kernelspec": {
   "display_name": "Python 3",
   "language": "python",
   "name": "python3"
  },
  "language_info": {
   "codemirror_mode": {
    "name": "ipython",
    "version": 3
   },
   "file_extension": ".py",
   "mimetype": "text/x-python",
   "name": "python",
   "nbconvert_exporter": "python",
   "pygments_lexer": "ipython3",
   "version": "3.6.4"
  }
 },
 "nbformat": 4,
 "nbformat_minor": 2
}
