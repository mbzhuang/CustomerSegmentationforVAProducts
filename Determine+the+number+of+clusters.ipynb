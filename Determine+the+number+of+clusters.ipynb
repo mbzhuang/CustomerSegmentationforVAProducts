{
 "cells": [
  {
   "cell_type": "markdown",
   "metadata": {},
   "source": [
    "### Determine the optimal K number\n",
    "* Elbow method\n",
    "* Average silhouette method"
   ]
  },
  {
   "cell_type": "code",
   "execution_count": 18,
   "metadata": {
    "collapsed": true
   },
   "outputs": [],
   "source": [
    "from sklearn.cluster import KMeans\n",
    "import pandas as pd\n",
    "import numpy as np\n",
    "from scipy.spatial.distance import cdist, pdist\n",
    "from matplotlib import pyplot as plt\n",
    "%matplotlib inline"
   ]
  },
  {
   "cell_type": "code",
   "execution_count": 3,
   "metadata": {
    "collapsed": true
   },
   "outputs": [],
   "source": [
    "#df = pd.read_csv('PHBsample11_ss.csv', low_memory=False)"
   ]
  },
  {
   "cell_type": "code",
   "execution_count": 19,
   "metadata": {
    "collapsed": true
   },
   "outputs": [],
   "source": [
    "# Use a smaller data set to save time\n",
    "df_s = pd.read_csv('PHBsample14_sss.csv', low_memory=False)"
   ]
  },
  {
   "cell_type": "code",
   "execution_count": 20,
   "metadata": {},
   "outputs": [],
   "source": [
    "# drop the column resulted from sampling of the original data set\n",
    "df_s.drop('Unnamed: 0', axis=1, inplace=True)"
   ]
  },
  {
   "cell_type": "code",
   "execution_count": 4,
   "metadata": {},
   "outputs": [
    {
     "data": {
      "text/plain": [
       "(59159, 1063)"
      ]
     },
     "execution_count": 4,
     "metadata": {},
     "output_type": "execute_result"
    }
   ],
   "source": [
    "df_s.shape"
   ]
  },
  {
   "cell_type": "code",
   "execution_count": 21,
   "metadata": {
    "collapsed": true
   },
   "outputs": [],
   "source": [
    "# In order to run K-means, drop all the categoricald data for now.\n",
    "df_s = df_s.select_dtypes(include=['float64', 'int64'])"
   ]
  },
  {
   "cell_type": "code",
   "execution_count": 6,
   "metadata": {},
   "outputs": [
    {
     "data": {
      "text/plain": [
       "(59159, 907)"
      ]
     },
     "execution_count": 6,
     "metadata": {},
     "output_type": "execute_result"
    }
   ],
   "source": [
    "df_s.shape"
   ]
  },
  {
   "cell_type": "code",
   "execution_count": 50,
   "metadata": {},
   "outputs": [
    {
     "data": {
      "text/html": [
       "<div>\n",
       "<style>\n",
       "    .dataframe thead tr:only-child th {\n",
       "        text-align: right;\n",
       "    }\n",
       "\n",
       "    .dataframe thead th {\n",
       "        text-align: left;\n",
       "    }\n",
       "\n",
       "    .dataframe tbody tr th {\n",
       "        vertical-align: top;\n",
       "    }\n",
       "</style>\n",
       "<table border=\"1\" class=\"dataframe\">\n",
       "  <thead>\n",
       "    <tr style=\"text-align: right;\">\n",
       "      <th></th>\n",
       "      <th>ValDate</th>\n",
       "      <th>IssDate</th>\n",
       "      <th>IssAgeALB</th>\n",
       "      <th>Dur</th>\n",
       "      <th>AttAge</th>\n",
       "      <th>JointInd</th>\n",
       "      <th>AV</th>\n",
       "      <th>CSV</th>\n",
       "      <th>SCPeriod</th>\n",
       "      <th>WDtoDate</th>\n",
       "      <th>...</th>\n",
       "      <th>Match4</th>\n",
       "      <th>tie3</th>\n",
       "      <th>HealthScore_C5</th>\n",
       "      <th>Surr</th>\n",
       "      <th>EligibleInd</th>\n",
       "      <th>WDResponse</th>\n",
       "      <th>FirstEligQInd</th>\n",
       "      <th>UtilizationInd</th>\n",
       "      <th>WDModelFilterIn</th>\n",
       "      <th>PolNum_UW</th>\n",
       "    </tr>\n",
       "  </thead>\n",
       "  <tbody>\n",
       "    <tr>\n",
       "      <th>0</th>\n",
       "      <td>16343.0</td>\n",
       "      <td>16104.0</td>\n",
       "      <td>65.0</td>\n",
       "      <td>1.0</td>\n",
       "      <td>65.8</td>\n",
       "      <td>0.0</td>\n",
       "      <td>448559.96</td>\n",
       "      <td>421076.98</td>\n",
       "      <td>5</td>\n",
       "      <td>0.00</td>\n",
       "      <td>...</td>\n",
       "      <td>1.0</td>\n",
       "      <td>64.859049</td>\n",
       "      <td>0.500000</td>\n",
       "      <td>0.0</td>\n",
       "      <td>1.0</td>\n",
       "      <td>0.0</td>\n",
       "      <td>0.0</td>\n",
       "      <td>0.0</td>\n",
       "      <td>1.0</td>\n",
       "      <td>294692</td>\n",
       "    </tr>\n",
       "    <tr>\n",
       "      <th>1</th>\n",
       "      <td>15613.0</td>\n",
       "      <td>14397.0</td>\n",
       "      <td>69.0</td>\n",
       "      <td>4.0</td>\n",
       "      <td>72.4</td>\n",
       "      <td>0.0</td>\n",
       "      <td>67321.31</td>\n",
       "      <td>64451.77</td>\n",
       "      <td>7</td>\n",
       "      <td>0.00</td>\n",
       "      <td>...</td>\n",
       "      <td>1.0</td>\n",
       "      <td>53.000000</td>\n",
       "      <td>0.869053</td>\n",
       "      <td>0.0</td>\n",
       "      <td>1.0</td>\n",
       "      <td>0.0</td>\n",
       "      <td>0.0</td>\n",
       "      <td>0.0</td>\n",
       "      <td>1.0</td>\n",
       "      <td>281394</td>\n",
       "    </tr>\n",
       "    <tr>\n",
       "      <th>2</th>\n",
       "      <td>16070.0</td>\n",
       "      <td>13518.0</td>\n",
       "      <td>55.0</td>\n",
       "      <td>7.0</td>\n",
       "      <td>62.6</td>\n",
       "      <td>0.0</td>\n",
       "      <td>301121.04</td>\n",
       "      <td>295758.92</td>\n",
       "      <td>7</td>\n",
       "      <td>56438.97</td>\n",
       "      <td>...</td>\n",
       "      <td>1.0</td>\n",
       "      <td>57.000000</td>\n",
       "      <td>0.500000</td>\n",
       "      <td>0.0</td>\n",
       "      <td>1.0</td>\n",
       "      <td>0.0</td>\n",
       "      <td>0.0</td>\n",
       "      <td>1.0</td>\n",
       "      <td>0.0</td>\n",
       "      <td>475776</td>\n",
       "    </tr>\n",
       "    <tr>\n",
       "      <th>3</th>\n",
       "      <td>16343.0</td>\n",
       "      <td>14419.0</td>\n",
       "      <td>53.0</td>\n",
       "      <td>6.0</td>\n",
       "      <td>58.3</td>\n",
       "      <td>0.0</td>\n",
       "      <td>187344.04</td>\n",
       "      <td>180762.56</td>\n",
       "      <td>7</td>\n",
       "      <td>0.00</td>\n",
       "      <td>...</td>\n",
       "      <td>1.0</td>\n",
       "      <td>104.000000</td>\n",
       "      <td>0.500000</td>\n",
       "      <td>0.0</td>\n",
       "      <td>1.0</td>\n",
       "      <td>0.0</td>\n",
       "      <td>0.0</td>\n",
       "      <td>0.0</td>\n",
       "      <td>1.0</td>\n",
       "      <td>288738</td>\n",
       "    </tr>\n",
       "    <tr>\n",
       "      <th>4</th>\n",
       "      <td>15613.0</td>\n",
       "      <td>15044.0</td>\n",
       "      <td>63.0</td>\n",
       "      <td>2.0</td>\n",
       "      <td>65.2</td>\n",
       "      <td>0.0</td>\n",
       "      <td>183155.51</td>\n",
       "      <td>171789.66</td>\n",
       "      <td>6</td>\n",
       "      <td>1845.38</td>\n",
       "      <td>...</td>\n",
       "      <td>0.0</td>\n",
       "      <td>64.859049</td>\n",
       "      <td>0.869053</td>\n",
       "      <td>0.0</td>\n",
       "      <td>1.0</td>\n",
       "      <td>0.0</td>\n",
       "      <td>0.0</td>\n",
       "      <td>1.0</td>\n",
       "      <td>1.0</td>\n",
       "      <td>15320</td>\n",
       "    </tr>\n",
       "  </tbody>\n",
       "</table>\n",
       "<p>5 rows × 907 columns</p>\n",
       "</div>"
      ],
      "text/plain": [
       "   ValDate  IssDate  IssAgeALB  Dur  AttAge  JointInd         AV        CSV  \\\n",
       "0  16343.0  16104.0       65.0  1.0    65.8       0.0  448559.96  421076.98   \n",
       "1  15613.0  14397.0       69.0  4.0    72.4       0.0   67321.31   64451.77   \n",
       "2  16070.0  13518.0       55.0  7.0    62.6       0.0  301121.04  295758.92   \n",
       "3  16343.0  14419.0       53.0  6.0    58.3       0.0  187344.04  180762.56   \n",
       "4  15613.0  15044.0       63.0  2.0    65.2       0.0  183155.51  171789.66   \n",
       "\n",
       "   SCPeriod  WDtoDate    ...      Match4        tie3  HealthScore_C5  Surr  \\\n",
       "0         5      0.00    ...         1.0   64.859049        0.500000   0.0   \n",
       "1         7      0.00    ...         1.0   53.000000        0.869053   0.0   \n",
       "2         7  56438.97    ...         1.0   57.000000        0.500000   0.0   \n",
       "3         7      0.00    ...         1.0  104.000000        0.500000   0.0   \n",
       "4         6   1845.38    ...         0.0   64.859049        0.869053   0.0   \n",
       "\n",
       "   EligibleInd  WDResponse  FirstEligQInd  UtilizationInd  WDModelFilterIn  \\\n",
       "0          1.0         0.0            0.0             0.0              1.0   \n",
       "1          1.0         0.0            0.0             0.0              1.0   \n",
       "2          1.0         0.0            0.0             1.0              0.0   \n",
       "3          1.0         0.0            0.0             0.0              1.0   \n",
       "4          1.0         0.0            0.0             1.0              1.0   \n",
       "\n",
       "   PolNum_UW  \n",
       "0     294692  \n",
       "1     281394  \n",
       "2     475776  \n",
       "3     288738  \n",
       "4      15320  \n",
       "\n",
       "[5 rows x 907 columns]"
      ]
     },
     "execution_count": 50,
     "metadata": {},
     "output_type": "execute_result"
    }
   ],
   "source": [
    "df_s.head()"
   ]
  },
  {
   "cell_type": "code",
   "execution_count": 51,
   "metadata": {},
   "outputs": [
    {
     "data": {
      "text/plain": [
       "{dtype('int64'): Index(['SCPeriod', 'PurchasePrice_C1', 'PctLandValue_C1', 'YearBuilt_C1',\n",
       "        'BuildingArea_C1', 'NoOfBuildings_C1', 'NoOfStories_C1', 'NoOfRooms_C1',\n",
       "        'NoOfUnits_C1', 'Bedrooms_C1',\n",
       "        ...\n",
       "        'Population.16.Employed.Civilian.Occupation.Percent.White.Collar_C3',\n",
       "        'Households.Average.Household.Income_C3',\n",
       "        'Households.Median.Household.Income_C3',\n",
       "        'Housing.Units.Percent.1.Unit.Detached_C3',\n",
       "        'Housing.Units.Percent.5.Units_C3',\n",
       "        'Housing.Units.Percent.Built.2000.to.2004_C3',\n",
       "        'Housing.Units.Percent.Built.2005.or.Later_C3',\n",
       "        'Occupied.Housing.Units.Average.Number.of.Vehicles.Available_C3',\n",
       "        'Owner.Occupied.Housing.Units.Median.Value.Owner.Occupied.Housing.Units_C3',\n",
       "        'PolNum_UW'],\n",
       "       dtype='object', length=153),\n",
       " dtype('float64'): Index(['ValDate', 'IssDate', 'IssAgeALB', 'Dur', 'AttAge', 'JointInd', 'AV',\n",
       "        'CSV', 'WDtoDate', 'WDCount',\n",
       "        ...\n",
       "        'i06txsb1_C4', 'Match4', 'tie3', 'HealthScore_C5', 'Surr',\n",
       "        'EligibleInd', 'WDResponse', 'FirstEligQInd', 'UtilizationInd',\n",
       "        'WDModelFilterIn'],\n",
       "       dtype='object', length=754)}"
      ]
     },
     "execution_count": 51,
     "metadata": {},
     "output_type": "execute_result"
    }
   ],
   "source": [
    "df_s.columns.to_series().groupby(df_s.dtypes).groups"
   ]
  },
  {
   "cell_type": "code",
   "execution_count": 22,
   "metadata": {
    "collapsed": true
   },
   "outputs": [],
   "source": [
    "df_s = df_s.fillna(df_s.mean())"
   ]
  },
  {
   "cell_type": "code",
   "execution_count": 23,
   "metadata": {},
   "outputs": [
    {
     "data": {
      "text/plain": [
       "ValDate             0\n",
       "IssDate             0\n",
       "IssAgeALB           0\n",
       "Dur                 0\n",
       "AttAge              0\n",
       "JointInd            0\n",
       "AV                  0\n",
       "CSV                 0\n",
       "SCPeriod            0\n",
       "WDtoDate            0\n",
       "WDCount             0\n",
       "DeptoDate           0\n",
       "GMDBInd             0\n",
       "AVPctEq             0\n",
       "Pol_TermDt          0\n",
       "Death               0\n",
       "PurchaseDt_C1       0\n",
       "PurchasePrice_C1    0\n",
       "PctLandValue_C1     0\n",
       "YearBuilt_C1        0\n",
       "LotSize_C1          0\n",
       "BuildingArea_C1     0\n",
       "NoOfBuildings_C1    0\n",
       "NoOfStories_C1      0\n",
       "NoOfRooms_C1        0\n",
       "NoOfUnits_C1        0\n",
       "Bedrooms_C1         0\n",
       "Baths_C1            0\n",
       "PartialBaths_C1     0\n",
       "NoOfCars_C1         0\n",
       "                   ..\n",
       "i12ccne1_C4         0\n",
       "i03ccpe1_C4         0\n",
       "i12ccpe1_C4         0\n",
       "i03cctl1_C4         0\n",
       "i12cctl1_C4         0\n",
       "i12ccnl2_C4         0\n",
       "i12ccnl1_C4         0\n",
       "i99bcnl1_C4         0\n",
       "i12bctu1_C4         0\n",
       "i01bcnt1_C4         0\n",
       "i24txtb1_C4         0\n",
       "i99atpb1_C4         0\n",
       "i24hesu1_C4         0\n",
       "i06fisl1_C4         0\n",
       "i12mtsq1_C4         0\n",
       "i06finu1_C4         0\n",
       "i24henu1_C4         0\n",
       "i24aunf1_C4         0\n",
       "i12txvb1_C4         0\n",
       "i06txsb1_C4         0\n",
       "Match4              0\n",
       "tie3                0\n",
       "HealthScore_C5      0\n",
       "Surr                0\n",
       "EligibleInd         0\n",
       "WDResponse          0\n",
       "FirstEligQInd       0\n",
       "UtilizationInd      0\n",
       "WDModelFilterIn     0\n",
       "PolNum_UW           0\n",
       "Length: 907, dtype: int64"
      ]
     },
     "execution_count": 23,
     "metadata": {},
     "output_type": "execute_result"
    }
   ],
   "source": [
    "df_s.isnull().sum()"
   ]
  },
  {
   "cell_type": "code",
   "execution_count": 24,
   "metadata": {},
   "outputs": [
    {
     "data": {
      "text/plain": [
       "(59159, 907)"
      ]
     },
     "execution_count": 24,
     "metadata": {},
     "output_type": "execute_result"
    }
   ],
   "source": [
    "X = df_s.values\n",
    "X.shape"
   ]
  },
  {
   "cell_type": "code",
   "execution_count": 25,
   "metadata": {},
   "outputs": [],
   "source": [
    "from sklearn.preprocessing import StandardScaler\n",
    "X = StandardScaler().fit_transform(X)"
   ]
  },
  {
   "cell_type": "code",
   "execution_count": 9,
   "metadata": {
    "collapsed": true
   },
   "outputs": [],
   "source": [
    "# kmeans = KMeans(n_clusters=7, random_state=0).fit(X)"
   ]
  },
  {
   "cell_type": "code",
   "execution_count": 58,
   "metadata": {},
   "outputs": [
    {
     "data": {
      "text/plain": [
       "array([2, 5, 1, ..., 6, 5, 5], dtype=int32)"
      ]
     },
     "execution_count": 58,
     "metadata": {},
     "output_type": "execute_result"
    }
   ],
   "source": [
    "# kmeans.labels_"
   ]
  },
  {
   "cell_type": "code",
   "execution_count": 59,
   "metadata": {},
   "outputs": [
    {
     "data": {
      "text/plain": [
       "2.3354450906000497e+24"
      ]
     },
     "execution_count": 59,
     "metadata": {},
     "output_type": "execute_result"
    }
   ],
   "source": [
    "# kmeans.inertia_"
   ]
  },
  {
   "cell_type": "markdown",
   "metadata": {},
   "source": [
    "The elbow method looks at the percentage of variance explained as a function of the number of clusters: One should choose a number of clusters so that adding another cluster doesn't give much better modeling of the data. More precisely, if one plots the percentage of variance explained by the clusters against the number of clusters, the first clusters will add much information (explain a lot of variance), but at some point the marginal gain will drop, giving an angle in the graph. The number of clusters is chosen at this point, hence the \"elbow criterion\". This \"elbow\" cannot always be unambiguously identified.[1] Percentage of variance explained is the ratio of the between-group variance to the total variance, also known as an F-test. A slight variation of this method plots the curvature of the within group variance.[2]\n",
    "\n",
    "Reference: https://en.wikipedia.org/wiki/Determining_the_number_of_clusters_in_a_data_set#The_Elbow_Method"
   ]
  },
  {
   "cell_type": "code",
   "execution_count": 32,
   "metadata": {},
   "outputs": [
    {
     "name": "stdout",
     "output_type": "stream",
     "text": [
      "01:01:02.98\n"
     ]
    },
    {
     "data": {
      "text/plain": [
       "Text(0.5,1,'Variance Explained vs. k')"
      ]
     },
     "execution_count": 32,
     "metadata": {},
     "output_type": "execute_result"
    },
    {
     "data": {
      "image/png": "[encoded data removed]",
      "text/plain": [
       "<matplotlib.figure.Figure at 0x7fc3ea48ae80>"
      ]
     },
     "metadata": {},
     "output_type": "display_data"
    }
   ],
   "source": [
    "# Reference: https://github.com/sarguido/k-means-clustering/blob/master/k-means-clustering.ipynb\n",
    "import time\n",
    "start = time.time()\n",
    "# Determine your k range\n",
    "k_range = range(1,14)\n",
    "\n",
    "# Fit the kmeans model for each n_clusters = k\n",
    "k_means_var = [KMeans(n_clusters=k).fit(X) for k in k_range]\n",
    "\n",
    "# Pull out the cluster centers for each model\n",
    "centroids = [X.cluster_centers_ for X in k_means_var]\n",
    "\n",
    "# Calculate the Euclidean distance from \n",
    "# each point to each cluster center\n",
    "k_euclid = [cdist(X, cent, 'euclidean') for cent in centroids]\n",
    "dist = [np.min(ke,axis=1) for ke in k_euclid]\n",
    "\n",
    "# Total within-cluster sum of squares\n",
    "wcss = [sum(d**2) for d in dist]\n",
    "\n",
    "# The total sum of squares\n",
    "tss = sum(pdist(X)**2)/X.shape[0]\n",
    "\n",
    "# The between-cluster sum of squares\n",
    "bss = tss - wcss\n",
    "\n",
    "end = time.time()\n",
    "\n",
    "hours, rem = divmod(end-start, 3600)\n",
    "minutes, seconds = divmod(rem, 60)\n",
    "print(\"{:0>2}:{:0>2}:{:05.2f}\".format(int(hours),int(minutes),seconds))\n",
    "\n",
    "# elbow curve\n",
    "fig = plt.figure()\n",
    "ax = fig.add_subplot(111)\n",
    "ax.plot(k_range, bss/tss*100, 'b*-')\n",
    "ax.set_ylim((0,100))\n",
    "plt.grid(True)\n",
    "plt.xlabel('n_clusters')\n",
    "plt.ylabel('Percentage of variance explained')\n",
    "plt.title('Variance Explained vs. k')"
   ]
  },
  {
   "cell_type": "code",
   "execution_count": null,
   "metadata": {
    "collapsed": true
   },
   "outputs": [],
   "source": [
    "# from sklearn.metrics import silhouette_score\n",
    "# labels = [model.labels_ for model in k_means_var]\n",
    "# score = [silhouette_score(X, label, metric='euclidean') for label in labels]\n",
    "    \n",
    "# fig = plt.figure()\n",
    "# ax = fig.add_subplot(111)\n",
    "# ax.plot(k_range, score, 'b*-')\n",
    "# ax.set_ylim((0,100))\n",
    "# plt.grid(True)\n",
    "# plt.xlabel('n_clusters')\n",
    "# plt.ylabel('Silhouetee score')\n",
    "# plt.title('Silhouetee score vs. k')"
   ]
  }
 ],
 "metadata": {
  "kernelspec": {
   "display_name": "Python 3",
   "language": "python",
   "name": "python3"
  },
  "language_info": {
   "codemirror_mode": {
    "name": "ipython",
    "version": 3
   },
   "file_extension": ".py",
   "mimetype": "text/x-python",
   "name": "python",
   "nbconvert_exporter": "python",
   "pygments_lexer": "ipython3",
   "version": "3.6.3"
  }
 },
 "nbformat": 4,
 "nbformat_minor": 2
}
