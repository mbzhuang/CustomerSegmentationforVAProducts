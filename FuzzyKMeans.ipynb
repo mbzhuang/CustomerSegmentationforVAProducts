{
 "cells": [
  {
   "cell_type": "code",
   "execution_count": 1,
   "metadata": {
    "collapsed": true
   },
   "outputs": [],
   "source": [
    "import sklearn_extensions as ske"
   ]
  },
  {
   "cell_type": "code",
   "execution_count": 2,
   "metadata": {
    "collapsed": false
   },
   "outputs": [],
   "source": [
    "from sklearn_extensions.fuzzy_kmeans import FuzzyKMeans"
   ]
  },
  {
   "cell_type": "code",
   "execution_count": 3,
   "metadata": {
    "collapsed": true
   },
   "outputs": [],
   "source": [
    "import pandas as pd\n",
    "import numpy as np\n",
    "import random"
   ]
  },
  {
   "cell_type": "code",
   "execution_count": 4,
   "metadata": {
    "collapsed": true
   },
   "outputs": [],
   "source": [
    "df = pd.read_csv('cluster.csv', header = None)\n",
    "\n",
    "# convert dataframe into numpy array\n",
    "X = df.values"
   ]
  },
  {
   "cell_type": "code",
   "execution_count": 5,
   "metadata": {
    "collapsed": true
   },
   "outputs": [],
   "source": [
    "from sklearn.preprocessing import StandardScaler\n",
    "\n",
    "sc = StandardScaler()\n",
    "X_sc = sc.fit_transform(X)"
   ]
  },
  {
   "cell_type": "code",
   "execution_count": 6,
   "metadata": {
    "collapsed": false
   },
   "outputs": [
    {
     "data": {
      "text/plain": [
       "FuzzyKMeans(k=3, m=2, max_iter=100, random_state=0, tol=0.0001)"
      ]
     },
     "execution_count": 6,
     "metadata": {},
     "output_type": "execute_result"
    }
   ],
   "source": [
    "# m > 1: fuzzy-ness parameter\n",
    "# the closer m is to 1, the closer to hard kmeans\n",
    "# the bigger m, the fuzzier(converge to the global cluster)\n",
    "# set m=2 for now\n",
    "fuzzy_kmeans = FuzzyKMeans(k=3, m=2)\n",
    "fuzzy_kmeans.fit(X_sc)"
   ]
  },
  {
   "cell_type": "code",
   "execution_count": 7,
   "metadata": {
    "collapsed": false
   },
   "outputs": [
    {
     "data": {
      "text/plain": [
       "array([[ 1.32101983,  1.32925894,  1.33140973,  1.33930371,  1.32412483,\n",
       "         1.34370979,  1.32634761,  1.31733299,  1.33257097,  1.31276333,\n",
       "         1.31584215,  1.32090158,  1.32308242,  1.33714576,  1.32736925,\n",
       "         1.33191637,  1.33259779,  1.33192829,  1.322429  ,  1.33643199,\n",
       "         1.32513034,  1.31718709,  1.33400556,  1.33084596,  1.3352329 ,\n",
       "         1.33357662,  1.32753423,  1.3322522 ,  1.32398365,  1.32293196,\n",
       "         1.33070355,  1.33659529,  1.33790373,  1.33777508,  1.32764104,\n",
       "         1.3395123 ,  1.3428467 ,  1.32299202,  1.32791823,  1.33096095,\n",
       "         1.3279151 ,  1.31390097,  1.32455575,  1.33768003,  1.33692549,\n",
       "         1.33634099,  1.31559918,  1.31954164,  1.33381633,  1.32519286],\n",
       "       [-0.23924197, -0.26863442, -0.27319329, -0.29495837, -0.25089202,\n",
       "        -0.31557366, -0.26043553, -0.23228551, -0.27329218, -0.22350677,\n",
       "        -0.23200968, -0.23749959, -0.24417138, -0.2979418 , -0.26421153,\n",
       "        -0.28045027, -0.28056175, -0.29521085, -0.24450163, -0.2868319 ,\n",
       "        -0.25185974, -0.22874771, -0.28643532, -0.26999103, -0.29429427,\n",
       "        -0.27967649, -0.26432122, -0.28522673, -0.25778612, -0.24761455,\n",
       "        -0.27122788, -0.29572181, -0.29721981, -0.29242009, -0.25670944,\n",
       "        -0.299774  , -0.30440078, -0.25198457, -0.25715639, -0.27581937,\n",
       "        -0.27012653, -0.22677323, -0.2493918 , -0.30268186, -0.28957731,\n",
       "        -0.29118067, -0.23673365, -0.24585835, -0.28481793, -0.25316715],\n",
       "       [-1.08080789, -1.05977595, -1.05675307, -1.04280625, -1.07161572,\n",
       "        -1.02619719, -1.06481938, -1.08385134, -1.05841298, -1.08763014,\n",
       "        -1.08229299, -1.0824821 , -1.07833239, -1.03804493, -1.06255968,\n",
       "        -1.05052716, -1.05060161, -1.03649193, -1.0770744 , -1.04944237,\n",
       "        -1.07205973, -1.08678599, -1.04670377, -1.06045544, -1.03975231,\n",
       "        -1.05465655, -1.06356837, -1.04596049, -1.06525774, -1.07459907,\n",
       "        -1.05784139, -1.03989713, -1.0411752 , -1.04400676, -1.07018147,\n",
       "        -1.03817629, -1.03723494, -1.06907321, -1.07011202, -1.05473214,\n",
       "        -1.05777776, -1.08518404, -1.07409472, -1.0347065 , -1.04508012,\n",
       "        -1.04383487, -1.07815952, -1.07399522, -1.04861806, -1.07117199]])"
      ]
     },
     "execution_count": 7,
     "metadata": {},
     "output_type": "execute_result"
    }
   ],
   "source": [
    "# centroids\n",
    "fuzzy_kmeans.cluster_centers_"
   ]
  },
  {
   "cell_type": "code",
   "execution_count": 8,
   "metadata": {
    "collapsed": false
   },
   "outputs": [],
   "source": [
    "fuzzy_labels = fuzzy_kmeans.fuzzy_labels_"
   ]
  },
  {
   "cell_type": "code",
   "execution_count": 9,
   "metadata": {
    "collapsed": false,
    "scrolled": true
   },
   "outputs": [],
   "source": [
    "labels = fuzzy_kmeans.labels_"
   ]
  },
  {
   "cell_type": "code",
   "execution_count": 10,
   "metadata": {
    "collapsed": false
   },
   "outputs": [],
   "source": [
    "from sklearn.metrics import silhouette_samples, silhouette_score\n",
    "silhouette_avg = silhouette_score(X_sc, labels)\n",
    "sample_silhouette_values = silhouette_samples(X_sc, labels)"
   ]
  },
  {
   "cell_type": "code",
   "execution_count": 11,
   "metadata": {
    "collapsed": false,
    "scrolled": true
   },
   "outputs": [
    {
     "data": {
      "text/plain": [
       "0.84040314629599244"
      ]
     },
     "execution_count": 11,
     "metadata": {},
     "output_type": "execute_result"
    }
   ],
   "source": [
    "silhouette_avg"
   ]
  },
  {
   "cell_type": "code",
   "execution_count": 12,
   "metadata": {
    "collapsed": false
   },
   "outputs": [
    {
     "data": {
      "text/plain": [
       "array([[ 2.        ,  2.        ,  2.        ,  2.        ,  2.        ,\n",
       "         2.        ,  2.        ,  2.        ,  2.        ,  2.        ,\n",
       "         2.        ,  2.        ,  2.        ,  2.        ,  2.        ,\n",
       "         2.        ,  2.        ,  2.        ,  2.        ,  2.        ,\n",
       "         1.        ,  1.        ,  1.        ,  1.        ,  1.        ,\n",
       "         1.        ,  1.        ,  1.        ,  1.        ,  1.        ,\n",
       "         1.        ,  1.        ,  1.        ,  1.        ,  1.        ,\n",
       "         1.        ,  1.        ,  1.        ,  1.        ,  1.        ,\n",
       "         0.        ,  0.        ,  0.        ,  0.        ,  0.        ,\n",
       "         0.        ,  0.        ,  0.        ,  0.        ,  0.        ,\n",
       "         0.        ,  0.        ,  0.        ,  0.        ,  0.        ,\n",
       "         0.        ,  0.        ,  0.        ,  0.        ,  0.        ],\n",
       "       [ 0.85686564,  0.86009145,  0.86914009,  0.86342721,  0.85747855,\n",
       "         0.85763865,  0.85798922,  0.87048471,  0.86319259,  0.87033444,\n",
       "         0.86843885,  0.87433559,  0.86236905,  0.87514563,  0.85832243,\n",
       "         0.86420392,  0.87378052,  0.86859148,  0.87531277,  0.86081408,\n",
       "         0.70405987,  0.73334583,  0.74472925,  0.73954046,  0.70571408,\n",
       "         0.74295943,  0.7404704 ,  0.71419747,  0.74317962,  0.74372142,\n",
       "         0.70869815,  0.75313321,  0.7263558 ,  0.70406392,  0.7344859 ,\n",
       "         0.7168527 ,  0.72969043,  0.71637331,  0.70828457,  0.70882257,\n",
       "         0.92408238,  0.93677667,  0.93192608,  0.93581774,  0.9261191 ,\n",
       "         0.92617291,  0.93025016,  0.9317069 ,  0.92622782,  0.9317773 ,\n",
       "         0.92822254,  0.93311883,  0.92803775,  0.93263074,  0.93139541,\n",
       "         0.9335803 ,  0.92850335,  0.9238027 ,  0.93037458,  0.9270303 ]])"
      ]
     },
     "execution_count": 12,
     "metadata": {},
     "output_type": "execute_result"
    }
   ],
   "source": [
    "np.vstack((labels, sample_silhouette_values))"
   ]
  }
 ],
 "metadata": {
  "kernelspec": {
   "display_name": "Python 3",
   "language": "python",
   "name": "python3"
  },
  "language_info": {
   "codemirror_mode": {
    "name": "ipython",
    "version": 3
   },
   "file_extension": ".py",
   "mimetype": "text/x-python",
   "name": "python",
   "nbconvert_exporter": "python",
   "pygments_lexer": "ipython3",
   "version": "3.5.2"
  }
 },
 "nbformat": 4,
 "nbformat_minor": 2
}
