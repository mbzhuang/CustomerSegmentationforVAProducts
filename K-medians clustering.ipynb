{
 "cells": [
  {
   "cell_type": "code",
   "execution_count": 1,
   "metadata": {
    "collapsed": true
   },
   "outputs": [],
   "source": [
    "import pandas as pd\n",
    "import numpy as np\n",
    "import random\n",
    "from collections import defaultdict\n",
    "import statistics"
   ]
  },
  {
   "cell_type": "markdown",
   "metadata": {},
   "source": [
    "#### import data"
   ]
  },
  {
   "cell_type": "code",
   "execution_count": 2,
   "metadata": {
    "collapsed": false
   },
   "outputs": [],
   "source": [
    "df = pd.read_csv('cluster.csv', header = None)\n",
    "\n",
    "# convert dataframe into numpy array\n",
    "X = df.values"
   ]
  },
  {
   "cell_type": "code",
   "execution_count": 3,
   "metadata": {
    "collapsed": false
   },
   "outputs": [
    {
     "data": {
      "text/plain": [
       "(60, 50)"
      ]
     },
     "execution_count": 3,
     "metadata": {},
     "output_type": "execute_result"
    }
   ],
   "source": [
    "X.shape"
   ]
  },
  {
   "cell_type": "markdown",
   "metadata": {},
   "source": [
    "#### Standardize the data points"
   ]
  },
  {
   "cell_type": "code",
   "execution_count": 4,
   "metadata": {
    "collapsed": true
   },
   "outputs": [],
   "source": [
    "from sklearn.preprocessing import StandardScaler\n",
    "\n",
    "sc = StandardScaler()\n",
    "X_sc = sc.fit_transform(X)"
   ]
  },
  {
   "cell_type": "markdown",
   "metadata": {},
   "source": [
    " #### Define a function to calculate distances to centroids for all data points - can be further optimized (with the np.vectorize function etc.)"
   ]
  },
  {
   "cell_type": "code",
   "execution_count": 5,
   "metadata": {
    "collapsed": true
   },
   "outputs": [],
   "source": [
    "def distance(points1, points2):\n",
    "    distances = np.zeros(shape=(points1.shape[0], points2.shape[0]))\n",
    "    distanceToCentroids = lambda point: \\\n",
    "        np.array([np.linalg.norm((point - centroid), ord=1) for centroid in points2],dtype = float)\n",
    "\n",
    "    # Loop over data points:\n",
    "    for i in range(points1.shape[0]):\n",
    "        distances[i,] = distanceToCentroids(points1[i, ])\n",
    "    \n",
    "    return(distances)"
   ]
  },
  {
   "cell_type": "markdown",
   "metadata": {},
   "source": [
    "#### Define the function to iteratively get find the cluster centroids"
   ]
  },
  {
   "cell_type": "code",
   "execution_count": 6,
   "metadata": {
    "collapsed": true
   },
   "outputs": [],
   "source": [
    "def k_centroids(X, n_clusters, init='k-means++'\n",
    "                , precompute_distances='auto', n_init=10\n",
    "                , max_iter=1000, tol=1e-4\n",
    "#                 , random_state=None, n_jobs=1\n",
    "#                 ,algorithm=\"auto\", return_n_iter=False\n",
    "               ):\n",
    "    # X : array-like matrix, already standardized\n",
    "    \n",
    "    n_samples = X.shape[0]\n",
    "    n_features = X.shape[1]\n",
    "    \n",
    "    # initialize the centroids\n",
    "    # random sampling, can use other methods like kmeans++\n",
    "    centroids = X[random.sample(range(n_features), n_clusters), ]\n",
    "    \n",
    "    # calculate the distances to clusters, clustering labels and the resulting inertia\n",
    "    distances = distance(X, centroids)\n",
    "    labels = np.argmin(distances, axis = 1)\n",
    "    inertia = np.sum((X - centroids[labels])**2, dtype=np.float64)\n",
    "    \n",
    "    # initiate an array to store the silhouette scores for all data points\n",
    "    silhouettes = np.zeros(shape=(n_samples, )) \n",
    "    \n",
    "    for iteration in range(max_iter):\n",
    "        \n",
    "        n_samples_in_cluster = np.bincount(labels, minlength = n_clusters)\n",
    "\n",
    "        # calculate the new centroids by taking the medians of data points in the same cluster\n",
    "       \n",
    "        centroids = np.zeros(shape = (n_clusters, n_features))\n",
    "        \n",
    "        for j in range(n_features):\n",
    "            adic = defaultdict(list)\n",
    "            for i in range(n_samples):\n",
    "                adic[labels[i]].append(X[i, j])\n",
    "            centroids[labels[i], j] = statistics.median(adic[labels[i]])\n",
    "\n",
    "        distances = distance(X, centroids)\n",
    "        labels = np.argmin(distances, axis = 1)\n",
    "        inertia_previous = inertia\n",
    "        inertia = np.sum((X - centroids[labels])**2, dtype=np.float64)\n",
    "        \n",
    "        # calculate the silhouette scores for each data point based on the new clusters\n",
    "        for i in range(n_samples):\n",
    "            a_i = np.average(np.ma.masked_equal(distance(X[labels == labels[i,], ], X[i:i+1,]),0))\n",
    "            b_i = np.min(distance(X[labels != labels[i,], ], X[i:i+1,]))\n",
    "            silhouettes[i,] = (b_i - a_i)/np.max([a_i, b_i])\n",
    "\n",
    "        if (np.linalg.norm(inertia - inertia_previous) < tol):\n",
    "            break\n",
    "        \n",
    "        return(centroids, inertia, labels, silhouettes)"
   ]
  },
  {
   "cell_type": "code",
   "execution_count": 7,
   "metadata": {
    "collapsed": false
   },
   "outputs": [],
   "source": [
    "centroids, inertia, labels, silhouettes = k_centroids(X_sc, 3)"
   ]
  },
  {
   "cell_type": "code",
   "execution_count": 8,
   "metadata": {
    "collapsed": true
   },
   "outputs": [],
   "source": [
    "from sklearn.metrics import silhouette_samples, silhouette_score\n",
    "silhouette_avg = silhouette_score(X_sc, labels)\n",
    "sample_silhouette_values = silhouette_samples(X_sc, labels)"
   ]
  },
  {
   "cell_type": "code",
   "execution_count": 9,
   "metadata": {
    "collapsed": false
   },
   "outputs": [
    {
     "data": {
      "text/plain": [
       "0.80698556176490543"
      ]
     },
     "execution_count": 9,
     "metadata": {},
     "output_type": "execute_result"
    }
   ],
   "source": [
    "silhouette_avg"
   ]
  },
  {
   "cell_type": "code",
   "execution_count": 10,
   "metadata": {
    "collapsed": false
   },
   "outputs": [
    {
     "data": {
      "text/plain": [
       "0.81864425576108435"
      ]
     },
     "execution_count": 10,
     "metadata": {},
     "output_type": "execute_result"
    }
   ],
   "source": [
    "np.average(silhouettes)"
   ]
  },
  {
   "cell_type": "code",
   "execution_count": 11,
   "metadata": {
    "collapsed": false
   },
   "outputs": [
    {
     "data": {
      "text/plain": [
       "array([[ 0.        ,  0.        ,  0.        ,  0.        ,  0.        ,\n",
       "         0.        ,  0.        ,  0.        ,  0.        ,  0.        ,\n",
       "         0.        ,  0.        ,  0.        ,  0.        ,  0.        ,\n",
       "         0.        ,  0.        ,  0.        ,  0.        ,  0.        ,\n",
       "         0.        ,  0.        ,  0.        ,  0.        ,  0.        ,\n",
       "         0.        ,  0.        ,  0.        ,  0.        ,  0.        ,\n",
       "         0.        ,  0.        ,  0.        ,  0.        ,  0.        ,\n",
       "         0.        ,  0.        ,  0.        ,  0.        ,  0.        ,\n",
       "         1.        ,  1.        ,  1.        ,  1.        ,  1.        ,\n",
       "         1.        ,  1.        ,  1.        ,  1.        ,  1.        ,\n",
       "         1.        ,  1.        ,  1.        ,  1.        ,  1.        ,\n",
       "         1.        ,  1.        ,  1.        ,  1.        ,  1.        ],\n",
       "       [ 0.81288498,  0.81630294,  0.81655221,  0.81734408,  0.81645173,\n",
       "         0.81116968,  0.8130444 ,  0.81340673,  0.81584987,  0.81430818,\n",
       "         0.81630788,  0.81798203,  0.81483204,  0.81654241,  0.81560651,\n",
       "         0.81668939,  0.81422724,  0.81690797,  0.81459256,  0.81480069,\n",
       "         0.6894952 ,  0.68517807,  0.70129058,  0.681547  ,  0.7107158 ,\n",
       "         0.70071296,  0.68241404,  0.70075811,  0.68219075,  0.69186463,\n",
       "         0.70237036,  0.70459677,  0.7024972 ,  0.6949701 ,  0.70150186,\n",
       "         0.69237412,  0.69799487,  0.68676261,  0.69926771,  0.69586628,\n",
       "         0.94117277,  0.95038881,  0.9473376 ,  0.9500929 ,  0.9425134 ,\n",
       "         0.94213055,  0.94522488,  0.94673959,  0.9436406 ,  0.94721263,\n",
       "         0.94423858,  0.94853928,  0.9436587 ,  0.94734139,  0.94706641,\n",
       "         0.94850001,  0.94392027,  0.9397139 ,  0.94565575,  0.94339479]])"
      ]
     },
     "execution_count": 11,
     "metadata": {},
     "output_type": "execute_result"
    }
   ],
   "source": [
    "np.vstack((labels, silhouettes))"
   ]
  }
 ],
 "metadata": {
  "kernelspec": {
   "display_name": "Python 3",
   "language": "python",
   "name": "python3"
  },
  "language_info": {
   "codemirror_mode": {
    "name": "ipython",
    "version": 3
   },
   "file_extension": ".py",
   "mimetype": "text/x-python",
   "name": "python",
   "nbconvert_exporter": "python",
   "pygments_lexer": "ipython3",
   "version": "3.6.0"
  }
 },
 "nbformat": 4,
 "nbformat_minor": 2
}
