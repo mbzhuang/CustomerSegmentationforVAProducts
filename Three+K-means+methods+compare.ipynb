{
 "cells": [
  {
   "cell_type": "code",
   "execution_count": 1,
   "metadata": {
    "collapsed": true
   },
   "outputs": [],
   "source": [
    "from sklearn.cluster import KMeans\n",
    "import pandas as pd\n",
    "import numpy as np\n",
    "from scipy.spatial.distance import cdist, pdist\n",
    "from matplotlib import pyplot as plt\n",
    "from sklearn.preprocessing import StandardScaler\n",
    "from sklearn.metrics import silhouette_score, silhouette_samples\n",
    "import matplotlib.cm as cm\n",
    "from sklearn.decomposition import PCA\n",
    "import random\n",
    "from collections import defaultdict\n",
    "import statistics\n",
    "%matplotlib inline"
   ]
  },
  {
   "cell_type": "code",
   "execution_count": 2,
   "metadata": {
    "collapsed": true
   },
   "outputs": [],
   "source": [
    "# Use a smaller data set to save time\n",
    "df = pd.read_csv('PHBsample14_sss.csv', low_memory=False)"
   ]
  },
  {
   "cell_type": "code",
   "execution_count": 3,
   "metadata": {
    "collapsed": true
   },
   "outputs": [],
   "source": [
    "# drop the column resulted from sampling of the original data set\n",
    "df.drop('Unnamed: 0', axis=1, inplace=True)\n",
    "# In order to run K-means, drop all the categoricald data for now.\n",
    "df = df.select_dtypes(include=['float64', 'int64'])\n",
    "# Impute missing values with means\n",
    "df = df.fillna(df.mean())"
   ]
  },
  {
   "cell_type": "code",
   "execution_count": 4,
   "metadata": {
    "collapsed": true
   },
   "outputs": [],
   "source": [
    "pca = PCA(2, svd_solver='randomized')\n",
    "pca.fit(df)\n",
    "df_reduced = pca.fit_transform(df)\n",
    "df_reduced = StandardScaler().fit_transform(df_reduced)"
   ]
  },
  {
   "cell_type": "code",
   "execution_count": 5,
   "metadata": {
    "collapsed": true
   },
   "outputs": [],
   "source": [
    "X = df_reduced"
   ]
  },
  {
   "cell_type": "markdown",
   "metadata": {},
   "source": [
    "### K=7"
   ]
  },
  {
   "cell_type": "code",
   "execution_count": 17,
   "metadata": {},
   "outputs": [
    {
     "name": "stdout",
     "output_type": "stream",
     "text": [
      "Silhouette score KMeans:  0.647382011228912\n",
      "Silhouette score KMedians:  0.5274596390809579\n",
      "Silhouette score fuzzy KMeans:  0.6424193003948793\n"
     ]
    }
   ],
   "source": [
    "from sklearn_extensions.fuzzy_kmeans import KMedians, FuzzyKMeans, KMeans\n",
    "kmeans = KMeans(k=7)\n",
    "kmeans.fit(X)\n",
    "print('Silhouette score KMeans: ', silhouette_score(X, kmeans.labels_, sample_size=3000))\n",
    "\n",
    "kmedians = KMedians(k=7)\n",
    "kmedians.fit(X)\n",
    "print('Silhouette score KMedians: ', silhouette_score(X, kmedians.labels_, sample_size=3000))\n",
    "\n",
    "fuzzy_kmeans = FuzzyKMeans(k=7, m=2)\n",
    "fuzzy_kmeans.fit(X)\n",
    "print('Silhouette score fuzzy KMeans: ', silhouette_score(X, fuzzy_kmeans.labels_, sample_size=3000))"
   ]
  },
  {
   "cell_type": "code",
   "execution_count": 16,
   "metadata": {},
   "outputs": [
    {
     "name": "stdout",
     "output_type": "stream",
     "text": [
      "clusters KMeans: \n",
      " 4    15220\n",
      "2    13964\n",
      "0     8762\n",
      "6     5890\n",
      "3     5886\n",
      "5     5584\n",
      "1     3853\n",
      "dtype: int64\n",
      "clusters KMedians: \n",
      " 4    15020\n",
      "1    12306\n",
      "0     9174\n",
      "6     5977\n",
      "3     5919\n",
      "5     5896\n",
      "2     4867\n",
      "dtype: int64\n",
      "clusters fuzzy KMeans: \n",
      " 3    15163\n",
      "5    13934\n",
      "6     8751\n",
      "4     5943\n",
      "0     5905\n",
      "2     5627\n",
      "1     3836\n",
      "dtype: int64\n"
     ]
    }
   ],
   "source": [
    "print('clusters KMeans: \\n', pd.value_counts(pd.Series(kmeans.labels_)))\n",
    "print('clusters KMedians: \\n', pd.value_counts(pd.Series(kmedians.labels_)))\n",
    "print('clusters fuzzy KMeans: \\n', pd.value_counts(pd.Series(fuzzy_kmeans.labels_)))"
   ]
  },
  {
   "cell_type": "markdown",
   "metadata": {},
   "source": [
    "### K=8"
   ]
  },
  {
   "cell_type": "code",
   "execution_count": 10,
   "metadata": {},
   "outputs": [
    {
     "name": "stdout",
     "output_type": "stream",
     "text": [
      "Silhouette score KMeans:  0.46745813570442624\n",
      "Silhouette score KMedians:  0.4655758909689016\n",
      "Silhouette score fuzzy KMeans:  0.5731961505837077\n"
     ]
    }
   ],
   "source": [
    "from sklearn_extensions.fuzzy_kmeans import KMedians, FuzzyKMeans, KMeans\n",
    "kmeans = KMeans(k=8)\n",
    "kmeans.fit(X)\n",
    "print('Silhouette score KMeans: ', silhouette_score(X, kmeans.labels_, sample_size=3000))\n",
    "\n",
    "kmedians = KMedians(k=8)\n",
    "kmedians.fit(X)\n",
    "print('Silhouette score KMedians: ', silhouette_score(X, kmedians.labels_, sample_size=3000))\n",
    "\n",
    "fuzzy_kmeans = FuzzyKMeans(k=8, m=2)\n",
    "fuzzy_kmeans.fit(X)\n",
    "print('Silhouette score fuzzy KMeans: ', silhouette_score(X, fuzzy_kmeans.labels_, sample_size=3000))"
   ]
  },
  {
   "cell_type": "code",
   "execution_count": 8,
   "metadata": {},
   "outputs": [
    {
     "name": "stdout",
     "output_type": "stream",
     "text": [
      "clusters KMeans: \n",
      " 1    12508\n",
      "4     8281\n",
      "0     7559\n",
      "6     7047\n",
      "2     6481\n",
      "7     5915\n",
      "3     5839\n",
      "5     5529\n",
      "dtype: int64\n",
      "clusters KMedians: \n",
      " 1    12303\n",
      "0     8922\n",
      "6     8476\n",
      "4     6726\n",
      "3     5924\n",
      "7     5919\n",
      "5     5863\n",
      "2     5026\n",
      "dtype: int64\n",
      "clusters fuzzy KMeans: \n",
      " 3    13832\n",
      "6     8686\n",
      "2     8229\n",
      "0     7062\n",
      "4     5902\n",
      "5     5877\n",
      "1     5655\n",
      "7     3916\n",
      "dtype: int64\n"
     ]
    }
   ],
   "source": [
    "print('clusters KMeans: \\n', pd.value_counts(pd.Series(kmeans.labels_)))\n",
    "print('clusters KMedians: \\n', pd.value_counts(pd.Series(kmedians.labels_)))\n",
    "print('clusters fuzzy KMeans: \\n', pd.value_counts(pd.Series(fuzzy_kmeans.labels_)))"
   ]
  },
  {
   "cell_type": "markdown",
   "metadata": {},
   "source": [
    "### K=9"
   ]
  },
  {
   "cell_type": "code",
   "execution_count": 12,
   "metadata": {},
   "outputs": [
    {
     "name": "stdout",
     "output_type": "stream",
     "text": [
      "Silhouette score KMeans:  0.4624245071209367\n",
      "Silhouette score KMedians:  0.5027918444912608\n",
      "Silhouette score fuzzy KMeans:  0.5903938670793397\n"
     ]
    }
   ],
   "source": [
    "from sklearn_extensions.fuzzy_kmeans import KMedians, FuzzyKMeans, KMeans\n",
    "kmeans = KMeans(k=9)\n",
    "kmeans.fit(X)\n",
    "print('Silhouette score KMeans: ', silhouette_score(X, kmeans.labels_, sample_size=3000))\n",
    "\n",
    "kmedians = KMedians(k=9)\n",
    "kmedians.fit(X)\n",
    "print('Silhouette score KMedians: ', silhouette_score(X, kmedians.labels_, sample_size=3000))\n",
    "\n",
    "fuzzy_kmeans = FuzzyKMeans(k=9, m=2)\n",
    "fuzzy_kmeans.fit(X)\n",
    "print('Silhouette score fuzzy KMeans: ', silhouette_score(X, fuzzy_kmeans.labels_, sample_size=3000))"
   ]
  },
  {
   "cell_type": "code",
   "execution_count": 13,
   "metadata": {},
   "outputs": [
    {
     "name": "stdout",
     "output_type": "stream",
     "text": [
      "clusters KMeans: \n",
      " 1    12509\n",
      "4     8148\n",
      "0     7677\n",
      "6     7165\n",
      "7     5915\n",
      "3     5838\n",
      "8     5424\n",
      "2     3573\n",
      "5     2910\n",
      "dtype: int64\n",
      "clusters KMedians: \n",
      " 0    9199\n",
      "1    8664\n",
      "6    8603\n",
      "4    6587\n",
      "3    5927\n",
      "7    5919\n",
      "8    5591\n",
      "2    4749\n",
      "5    3920\n",
      "dtype: int64\n",
      "clusters fuzzy KMeans: \n",
      " 6    13867\n",
      "3     8709\n",
      "2     8086\n",
      "4     7204\n",
      "7     5874\n",
      "8     5622\n",
      "1     3878\n",
      "0     3877\n",
      "5     2042\n",
      "dtype: int64\n"
     ]
    }
   ],
   "source": [
    "print('clusters KMeans: \\n', pd.value_counts(pd.Series(kmeans.labels_)))\n",
    "print('clusters KMedians: \\n', pd.value_counts(pd.Series(kmedians.labels_)))\n",
    "print('clusters fuzzy KMeans: \\n', pd.value_counts(pd.Series(fuzzy_kmeans.labels_)))"
   ]
  }
 ],
 "metadata": {
  "kernelspec": {
   "display_name": "Python 3",
   "language": "python",
   "name": "python3"
  },
  "language_info": {
   "codemirror_mode": {
    "name": "ipython",
    "version": 3
   },
   "file_extension": ".py",
   "mimetype": "text/x-python",
   "name": "python",
   "nbconvert_exporter": "python",
   "pygments_lexer": "ipython3",
   "version": "3.6.3"
  }
 },
 "nbformat": 4,
 "nbformat_minor": 2
}
