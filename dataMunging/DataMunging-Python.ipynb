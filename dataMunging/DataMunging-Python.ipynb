{
 "cells": [
  {
   "cell_type": "code",
   "execution_count": 1,
   "metadata": {
    "collapsed": true
   },
   "outputs": [],
   "source": [
    "import numpy as np\n",
    "import os\n",
    "import pandas as pd\n",
    "import random\n",
    "from time import time\n",
    "from rpy2.robjects import r, pandas2ri\n",
    "from rpy2.robjects.packages import importr"
   ]
  },
  {
   "cell_type": "markdown",
   "metadata": {},
   "source": [
    "### 1. Create the sample dataset with reduced number of variables (510)"
   ]
  },
  {
   "cell_type": "code",
   "execution_count": 2,
   "metadata": {
    "collapsed": true
   },
   "outputs": [],
   "source": [
    "# # Use a smaller data set to save time\n",
    "# df = pd.read_csv('PHBsample14_sss.csv', low_memory=False)\n",
    "\n",
    "# # drop the unnecessary columns due to csv import\n",
    "# df.drop('Unnamed: 0', axis=1, inplace=True)"
   ]
  },
  {
   "cell_type": "code",
   "execution_count": 3,
   "metadata": {},
   "outputs": [
    {
     "name": "stderr",
     "output_type": "stream",
     "text": [
      "/home/capsops/.conda/envs/capsenvs/lib/python3.6/site-packages/rpy2/rinterface/__init__.py:145: RRuntimeWarning: Error in (function (file, refhook = NULL)  : Interrupted\n",
      "\n",
      "  warnings.warn(x, RRuntimeWarning)\n"
     ]
    },
    {
     "ename": "KeyboardInterrupt",
     "evalue": "",
     "output_type": "error",
     "traceback": [
      "\u001b[0;31m---------------------------------------------------------------------------\u001b[0m",
      "\u001b[0;31mKeyboardInterrupt\u001b[0m                         Traceback (most recent call last)",
      "\u001b[0;32m<ipython-input-3-6d3fca0319b1>\u001b[0m in \u001b[0;36m<module>\u001b[0;34m()\u001b[0m\n\u001b[1;32m      3\u001b[0m \u001b[0mreadRDS\u001b[0m \u001b[0;34m=\u001b[0m \u001b[0mr\u001b[0m\u001b[0;34m[\u001b[0m\u001b[0;34m'readRDS'\u001b[0m\u001b[0;34m]\u001b[0m\u001b[0;34m\u001b[0m\u001b[0m\n\u001b[1;32m      4\u001b[0m \u001b[0mt0\u001b[0m \u001b[0;34m=\u001b[0m \u001b[0mtime\u001b[0m\u001b[0;34m(\u001b[0m\u001b[0;34m)\u001b[0m\u001b[0;34m\u001b[0m\u001b[0m\n\u001b[0;32m----> 5\u001b[0;31m \u001b[0mrdf\u001b[0m \u001b[0;34m=\u001b[0m \u001b[0mreadRDS\u001b[0m\u001b[0;34m(\u001b[0m\u001b[0;34m'/data/capstone_data/ClusterData_allPHB_allvendorvars_editedcolumns.rds'\u001b[0m\u001b[0;34m)\u001b[0m\u001b[0;34m\u001b[0m\u001b[0m\n\u001b[0m\u001b[1;32m      6\u001b[0m \u001b[0mdf\u001b[0m \u001b[0;34m=\u001b[0m \u001b[0mpandas2ri\u001b[0m\u001b[0;34m.\u001b[0m\u001b[0mri2py_dataframe\u001b[0m\u001b[0;34m(\u001b[0m\u001b[0mrdf\u001b[0m\u001b[0;34m)\u001b[0m\u001b[0;34m\u001b[0m\u001b[0m\n\u001b[1;32m      7\u001b[0m \u001b[0mt1\u001b[0m \u001b[0;34m=\u001b[0m \u001b[0mtime\u001b[0m\u001b[0;34m(\u001b[0m\u001b[0;34m)\u001b[0m\u001b[0;34m\u001b[0m\u001b[0m\n",
      "\u001b[0;32m~/.conda/envs/capsenvs/lib/python3.6/site-packages/rpy2/robjects/functions.py\u001b[0m in \u001b[0;36m__call__\u001b[0;34m(self, *args, **kwargs)\u001b[0m\n\u001b[1;32m    176\u001b[0m                 \u001b[0mv\u001b[0m \u001b[0;34m=\u001b[0m \u001b[0mkwargs\u001b[0m\u001b[0;34m.\u001b[0m\u001b[0mpop\u001b[0m\u001b[0;34m(\u001b[0m\u001b[0mk\u001b[0m\u001b[0;34m)\u001b[0m\u001b[0;34m\u001b[0m\u001b[0m\n\u001b[1;32m    177\u001b[0m                 \u001b[0mkwargs\u001b[0m\u001b[0;34m[\u001b[0m\u001b[0mr_k\u001b[0m\u001b[0;34m]\u001b[0m \u001b[0;34m=\u001b[0m \u001b[0mv\u001b[0m\u001b[0;34m\u001b[0m\u001b[0m\n\u001b[0;32m--> 178\u001b[0;31m         \u001b[0;32mreturn\u001b[0m \u001b[0msuper\u001b[0m\u001b[0;34m(\u001b[0m\u001b[0mSignatureTranslatedFunction\u001b[0m\u001b[0;34m,\u001b[0m \u001b[0mself\u001b[0m\u001b[0;34m)\u001b[0m\u001b[0;34m.\u001b[0m\u001b[0m__call__\u001b[0m\u001b[0;34m(\u001b[0m\u001b[0;34m*\u001b[0m\u001b[0margs\u001b[0m\u001b[0;34m,\u001b[0m \u001b[0;34m**\u001b[0m\u001b[0mkwargs\u001b[0m\u001b[0;34m)\u001b[0m\u001b[0;34m\u001b[0m\u001b[0m\n\u001b[0m\u001b[1;32m    179\u001b[0m \u001b[0;34m\u001b[0m\u001b[0m\n\u001b[1;32m    180\u001b[0m \u001b[0mpattern_link\u001b[0m \u001b[0;34m=\u001b[0m \u001b[0mre\u001b[0m\u001b[0;34m.\u001b[0m\u001b[0mcompile\u001b[0m\u001b[0;34m(\u001b[0m\u001b[0;34mr'\\\\link\\{(.+?)\\}'\u001b[0m\u001b[0;34m)\u001b[0m\u001b[0;34m\u001b[0m\u001b[0m\n",
      "\u001b[0;32m~/.conda/envs/capsenvs/lib/python3.6/site-packages/rpy2/robjects/functions.py\u001b[0m in \u001b[0;36m__call__\u001b[0;34m(self, *args, **kwargs)\u001b[0m\n\u001b[1;32m    104\u001b[0m         \u001b[0;32mfor\u001b[0m \u001b[0mk\u001b[0m\u001b[0;34m,\u001b[0m \u001b[0mv\u001b[0m \u001b[0;32min\u001b[0m \u001b[0mkwargs\u001b[0m\u001b[0;34m.\u001b[0m\u001b[0mitems\u001b[0m\u001b[0;34m(\u001b[0m\u001b[0;34m)\u001b[0m\u001b[0;34m:\u001b[0m\u001b[0;34m\u001b[0m\u001b[0m\n\u001b[1;32m    105\u001b[0m             \u001b[0mnew_kwargs\u001b[0m\u001b[0;34m[\u001b[0m\u001b[0mk\u001b[0m\u001b[0;34m]\u001b[0m \u001b[0;34m=\u001b[0m \u001b[0mconversion\u001b[0m\u001b[0;34m.\u001b[0m\u001b[0mpy2ri\u001b[0m\u001b[0;34m(\u001b[0m\u001b[0mv\u001b[0m\u001b[0;34m)\u001b[0m\u001b[0;34m\u001b[0m\u001b[0m\n\u001b[0;32m--> 106\u001b[0;31m         \u001b[0mres\u001b[0m \u001b[0;34m=\u001b[0m \u001b[0msuper\u001b[0m\u001b[0;34m(\u001b[0m\u001b[0mFunction\u001b[0m\u001b[0;34m,\u001b[0m \u001b[0mself\u001b[0m\u001b[0;34m)\u001b[0m\u001b[0;34m.\u001b[0m\u001b[0m__call__\u001b[0m\u001b[0;34m(\u001b[0m\u001b[0;34m*\u001b[0m\u001b[0mnew_args\u001b[0m\u001b[0;34m,\u001b[0m \u001b[0;34m**\u001b[0m\u001b[0mnew_kwargs\u001b[0m\u001b[0;34m)\u001b[0m\u001b[0;34m\u001b[0m\u001b[0m\n\u001b[0m\u001b[1;32m    107\u001b[0m         \u001b[0mres\u001b[0m \u001b[0;34m=\u001b[0m \u001b[0mconversion\u001b[0m\u001b[0;34m.\u001b[0m\u001b[0mri2ro\u001b[0m\u001b[0;34m(\u001b[0m\u001b[0mres\u001b[0m\u001b[0;34m)\u001b[0m\u001b[0;34m\u001b[0m\u001b[0m\n\u001b[1;32m    108\u001b[0m         \u001b[0;32mreturn\u001b[0m \u001b[0mres\u001b[0m\u001b[0;34m\u001b[0m\u001b[0m\n",
      "\u001b[0;31mKeyboardInterrupt\u001b[0m: "
     ]
    }
   ],
   "source": [
    "# Load the full dataset\n",
    "pandas2ri.activate()\n",
    "readRDS = r['readRDS']\n",
    "t0 = time()\n",
    "rdf = readRDS('/data/capstone_data/ClusterData_allPHB_allvendorvars_editedcolumns.rds')\n",
    "df = pandas2ri.ri2py_dataframe(rdf)\n",
    "t1 = time()"
   ]
  },
  {
   "cell_type": "code",
   "execution_count": null,
   "metadata": {
    "collapsed": true
   },
   "outputs": [],
   "source": [
    "df[8,].score_C4"
   ]
  },
  {
   "cell_type": "code",
   "execution_count": 9,
   "metadata": {},
   "outputs": [
    {
     "name": "stdout",
     "output_type": "stream",
     "text": [
      "(4732698, 1063)\n",
      "21.989818000793456\n"
     ]
    }
   ],
   "source": [
    "print(df.shape)\n",
    "print((t1-t0)/60)"
   ]
  },
  {
   "cell_type": "code",
   "execution_count": 2,
   "metadata": {
    "collapsed": true
   },
   "outputs": [],
   "source": [
    "df_vars = pd.read_csv('/home/capsops/mandy/selectedVariables.csv', encoding = 'latin1')\n",
    "# df_vars.drop('Unnamed: 0', axis=1, inplace=True)"
   ]
  },
  {
   "cell_type": "code",
   "execution_count": 13,
   "metadata": {},
   "outputs": [
    {
     "data": {
      "text/plain": [
       "(1063, 5)"
      ]
     },
     "execution_count": 13,
     "metadata": {},
     "output_type": "execute_result"
    }
   ],
   "source": [
    "df_vars.shape"
   ]
  },
  {
   "cell_type": "code",
   "execution_count": 15,
   "metadata": {},
   "outputs": [
    {
     "data": {
      "text/plain": [
       "510"
      ]
     },
     "execution_count": 15,
     "metadata": {},
     "output_type": "execute_result"
    }
   ],
   "source": [
    "len(df_vars.loc[df_vars.Delete == 0, ].Variable.values)"
   ]
  },
  {
   "cell_type": "code",
   "execution_count": 16,
   "metadata": {
    "collapsed": true
   },
   "outputs": [],
   "source": [
    "columnMask = [True if x in df_vars.loc[df_vars.Delete == 0, ].Variable.values else False for x in df.columns.values]\n",
    "\n",
    "df = df.iloc[:, columnMask]"
   ]
  },
  {
   "cell_type": "code",
   "execution_count": 17,
   "metadata": {},
   "outputs": [
    {
     "data": {
      "text/plain": [
       "(4732698, 510)"
      ]
     },
     "execution_count": 17,
     "metadata": {},
     "output_type": "execute_result"
    }
   ],
   "source": [
    "df.shape"
   ]
  },
  {
   "cell_type": "markdown",
   "metadata": {},
   "source": [
    "### how was the selectedVariables determined?\n",
    "\n",
    "1. manually deleted over 200 irrelevant features; deleted features with > 50% missing values\n",
    "2. run pandas_profiling to deleted over 200 correlated features\n",
    "3. delete variables with the value '-2147483648'\n",
    "4. delete variable 'CEN_bg_GINIIncome' since it's constant\n",
    "5. replace the value of 9992 in variable 'i24aunf1_C4' with NA\n",
    "6. rerun pandas_profiling to detect correlated variables, found the following 4: 'First.Mortgage.Amount.in.1000s.of.Dollars_C3', 'Target.Home.Market.Value_C3', 'Total.Mortgage.Amounts.in.1000s.of.Dollars_C3', 'WDModelFilterIn'\n",
    "7. add 'PolNum_UW' back\n",
    "8. delete the features with > 50% missing values\n",
    "9. delete Match1,3,4 (indicator variables -- if all C4 are NaN then Match4 is N, otherwise Y)\n",
    "10. delete 'Target.Narrow.Band.Income.Indicator_C3' -- categorization of variable 'Target.Narrow.Band.Income_num'"
   ]
  },
  {
   "cell_type": "markdown",
   "metadata": {},
   "source": [
    "### Codes used in the above steps:"
   ]
  },
  {
   "cell_type": "markdown",
   "metadata": {},
   "source": [
    "#### Replace strange values with NA\n",
    "\n",
    "-2147483648: appears in multiple variables \n",
    "\n",
    "df.replace(-2147483648, np.NaN, inplace = True)\n",
    "\n",
    "9992: i24aunf1_C4\n",
    "\n",
    "df.i24aunf1_C4.replace('9992.0', np.NaN, inplace = True)\n",
    "\n",
    "#### Remove the columns with more than 50% missing values\n",
    "\n",
    "percNA = df.isnull().sum()/df.shape[0]\n",
    "\n",
    "columnMask = percNA > 0.5\n",
    "\n",
    "df = df.loc[:, -columnMask]\n",
    "\n",
    "df.head(0).to_csv('selectedVariables.csv')"
   ]
  },
  {
   "cell_type": "markdown",
   "metadata": {},
   "source": [
    "### 2. replace the -2147483648 value with NaN"
   ]
  },
  {
   "cell_type": "code",
   "execution_count": 18,
   "metadata": {},
   "outputs": [
    {
     "name": "stderr",
     "output_type": "stream",
     "text": [
      "/home/capsops/.conda/envs/capsenvs/lib/python3.6/site-packages/pandas/core/missing.py:50: RuntimeWarning: invalid value encountered in equal\n",
      "  mask = arr == x\n"
     ]
    }
   ],
   "source": [
    "df.replace(-2147483648, np.NaN, inplace = True)"
   ]
  },
  {
   "cell_type": "markdown",
   "metadata": {},
   "source": [
    "### 3. Encode the following boolean variables"
   ]
  },
  {
   "cell_type": "code",
   "execution_count": 19,
   "metadata": {},
   "outputs": [
    {
     "name": "stderr",
     "output_type": "stream",
     "text": [
      "/home/capsops/.conda/envs/capsenvs/lib/python3.6/site-packages/pandas/core/missing.py:50: RuntimeWarning: invalid value encountered in equal\n",
      "  mask = arr == x\n"
     ]
    }
   ],
   "source": [
    "for col in ['JointInd', 'GMDBInd', 'EligibleInd', 'FirstEligQInd', 'UtilizationInd']:\n",
    "    df.loc[:, col].replace(1.0, 1, inplace = True)\n",
    "    df.loc[:, col].replace(0.0, -1, inplace = True)"
   ]
  },
  {
   "cell_type": "code",
   "execution_count": 20,
   "metadata": {
    "collapsed": true
   },
   "outputs": [],
   "source": [
    "df.loc[:, 'Qual'].replace('Q', 1, inplace = True)\n",
    "df.loc[:, 'Qual'].replace('N', -1, inplace = True)\n",
    "df.loc[:, 'OriginalOwner_C1'].replace('Y', 1, inplace = True)\n",
    "df.loc[:, 'OriginalOwner_C1'].replace('N', -1, inplace = True)"
   ]
  },
  {
   "cell_type": "markdown",
   "metadata": {},
   "source": [
    "### 4. Change the values in \"Percent\" columns into values between 0 and 1"
   ]
  },
  {
   "cell_type": "code",
   "execution_count": 21,
   "metadata": {},
   "outputs": [
    {
     "data": {
      "text/plain": [
       "array(['Housing.Units.Percent.5.Units_C3',\n",
       "       'Housing.Units.Percent.Built.2000.to.2004_C3',\n",
       "       'Housing.Units.Percent.Built.2005.or.Later_C3', 'i03ccpz1_C4',\n",
       "       'i03ccpp1_C4', 'i03inpp1_C4', 'i12inpp1_C4', 'i03ccpp2_C4',\n",
       "       'i03ccpq1_C4', 'i12ccpq1_C4', 'i03ccpq2_C4', 'i12ccpq2_C4',\n",
       "       'i03ccpq3_C4', 'i12ccpq3_C4', 'i03ccpc1_C4', 'i12ccpc1_C4',\n",
       "       'i03ccpc2_C4', 'i12ccpc2_C4', 'i03ccpq4_C4', 'i12ccpq4_C4',\n",
       "       'i03inpq4_C4', 'i12inpq4_C4', 'i03ccpe1_C4', 'i12ccpe1_C4'],\n",
       "      dtype=object)"
      ]
     },
     "execution_count": 21,
     "metadata": {},
     "output_type": "execute_result"
    }
   ],
   "source": [
    "df_vars.loc[(df_vars.Delete == 0)&(df_vars.DataMunging == 'divide by 100'), ].Variable.values"
   ]
  },
  {
   "cell_type": "code",
   "execution_count": 22,
   "metadata": {
    "collapsed": true
   },
   "outputs": [],
   "source": [
    "for col in df_vars.loc[(df_vars.Delete == 0)&(df_vars.DataMunging == 'divide by 100'), ].Variable.values:\n",
    "    df.loc[:, col] = df.loc[:, col]/100"
   ]
  },
  {
   "cell_type": "markdown",
   "metadata": {},
   "source": [
    "### 5. reorder the features by type (PolicyNum + Boolean + Categorical + Positive Integer variables + Positive Numeric + Percentage Numeric + Real Value Numeric) "
   ]
  },
  {
   "cell_type": "code",
   "execution_count": 23,
   "metadata": {
    "collapsed": true
   },
   "outputs": [],
   "source": [
    "# columnTypes = df.dtypes\n",
    "# columnUniqueCounts = df.T.apply(lambda x: x.nunique(), axis=1)\n",
    "# columnSummary = pd.concat((columnTypes, columnUniqueCounts), axis = 1)\n",
    "# columnSummary.columns = ['columnType', 'uniqueCounts']\n",
    "\n",
    "# columnSummary.loc[(columnSummary.columnType == 'float64') & (columnSummary.uniqueCounts < 10), ]"
   ]
  },
  {
   "cell_type": "code",
   "execution_count": 24,
   "metadata": {
    "collapsed": true
   },
   "outputs": [],
   "source": [
    "columnMask = np.concatenate(\n",
    "    [\n",
    "        df_vars.loc[(df_vars.Delete == 0)&(df_vars.Type == 'PK'), ].Variable.values\n",
    "      , df_vars.loc[(df_vars.Delete == 0)&(df_vars.Type == 'boolean'), ].Variable.values\n",
    "      , df_vars.loc[(df_vars.Delete == 0)&(df_vars.Type == 'categorical'), ].Variable.values\n",
    "      , df_vars.loc[(df_vars.Delete == 0)&(df_vars.Type == 'positive integer'), ].Variable.values\n",
    "      , df_vars.loc[(df_vars.Delete == 0)&(df_vars.Type == 'positive numeric'), ].Variable.values\n",
    "      , df_vars.loc[(df_vars.Delete == 0)&(df_vars.Type == 'numeric between 0 and 1'), ].Variable.values\n",
    "      , df_vars.loc[(df_vars.Delete == 0)&(df_vars.Type == 'real value numeric'), ].Variable.values\n",
    "    ]\n",
    ")"
   ]
  },
  {
   "cell_type": "code",
   "execution_count": 25,
   "metadata": {
    "collapsed": true
   },
   "outputs": [],
   "source": [
    "df = df.loc[:, columnMask]"
   ]
  },
  {
   "cell_type": "code",
   "execution_count": 26,
   "metadata": {},
   "outputs": [
    {
     "data": {
      "text/plain": [
       "[1, 7, 12, 115, 52, 313, 10]"
      ]
     },
     "execution_count": 26,
     "metadata": {},
     "output_type": "execute_result"
    }
   ],
   "source": [
    "[\n",
    "    len(df_vars.loc[(df_vars.Delete == 0)&(df_vars.Type == 'PK'), ].Variable.values)\n",
    "  , len(df_vars.loc[(df_vars.Delete == 0)&(df_vars.Type == 'boolean'), ].Variable.values)\n",
    "  , len(df_vars.loc[(df_vars.Delete == 0)&(df_vars.Type == 'categorical'), ].Variable.values)\n",
    "  , len(df_vars.loc[(df_vars.Delete == 0)&(df_vars.Type == 'positive integer'), ].Variable.values)\n",
    "  , len(df_vars.loc[(df_vars.Delete == 0)&(df_vars.Type == 'positive numeric'), ].Variable.values)\n",
    "  , len(df_vars.loc[(df_vars.Delete == 0)&(df_vars.Type == 'numeric between 0 and 1'), ].Variable.values)\n",
    "  , len(df_vars.loc[(df_vars.Delete == 0)&(df_vars.Type == 'real value numeric'), ].Variable.values)\n",
    "]"
   ]
  },
  {
   "cell_type": "code",
   "execution_count": 79,
   "metadata": {
    "collapsed": true
   },
   "outputs": [],
   "source": [
    "# PK: 1\n",
    "# Boolean: 2:8\n",
    "# Categorical: 9:20\n",
    "# Positive Integer: 21:135\n",
    "# Positive Numeric: 136:187\n",
    "# Percentage Numeric: 188:500\n",
    "# Real Value Numeric: 501:510"
   ]
  },
  {
   "cell_type": "markdown",
   "metadata": {},
   "source": [
    "### 6. Export cleaned data to RDS file"
   ]
  },
  {
   "cell_type": "code",
   "execution_count": 45,
   "metadata": {},
   "outputs": [
    {
     "data": {
      "text/plain": [
       "(4732698, 510)"
      ]
     },
     "execution_count": 45,
     "metadata": {},
     "output_type": "execute_result"
    }
   ],
   "source": [
    "df.shape"
   ]
  },
  {
   "cell_type": "code",
   "execution_count": 46,
   "metadata": {
    "collapsed": true
   },
   "outputs": [
    {
     "data": {
      "text/html": [
       "<div>\n",
       "<style>\n",
       "    .dataframe thead tr:only-child th {\n",
       "        text-align: right;\n",
       "    }\n",
       "\n",
       "    .dataframe thead th {\n",
       "        text-align: left;\n",
       "    }\n",
       "\n",
       "    .dataframe tbody tr th {\n",
       "        vertical-align: top;\n",
       "    }\n",
       "</style>\n",
       "<table border=\"1\" class=\"dataframe\">\n",
       "  <thead>\n",
       "    <tr style=\"text-align: right;\">\n",
       "      <th></th>\n",
       "      <th>PolNum_UW</th>\n",
       "      <th>JointInd</th>\n",
       "      <th>GMDBInd</th>\n",
       "      <th>OriginalOwner_C1</th>\n",
       "      <th>Qual</th>\n",
       "      <th>EligibleInd</th>\n",
       "      <th>FirstEligQInd</th>\n",
       "      <th>UtilizationInd</th>\n",
       "      <th>Number.of.Adults.Indicator_C3</th>\n",
       "      <th>Dist</th>\n",
       "      <th>...</th>\n",
       "      <th>i12ccsb1_C4</th>\n",
       "      <th>i12ccsu1_C4</th>\n",
       "      <th>i12ccsv1_C4</th>\n",
       "      <th>i12ccsc1_C4</th>\n",
       "      <th>i12ccsd1_C4</th>\n",
       "      <th>i12ccsc2_C4</th>\n",
       "      <th>i03cctl1_C4</th>\n",
       "      <th>i12cctl1_C4</th>\n",
       "      <th>i12mtsq1_C4</th>\n",
       "      <th>i06txsb1_C4</th>\n",
       "    </tr>\n",
       "  </thead>\n",
       "  <tbody>\n",
       "    <tr>\n",
       "      <th>1</th>\n",
       "      <td>481242</td>\n",
       "      <td>-1.0</td>\n",
       "      <td>-1.0</td>\n",
       "      <td>-1</td>\n",
       "      <td>-1</td>\n",
       "      <td>NaN</td>\n",
       "      <td>NaN</td>\n",
       "      <td>NaN</td>\n",
       "      <td>S</td>\n",
       "      <td>CA</td>\n",
       "      <td>...</td>\n",
       "      <td>16.6</td>\n",
       "      <td>0.1</td>\n",
       "      <td>0.0</td>\n",
       "      <td>0.30000</td>\n",
       "      <td>0.0</td>\n",
       "      <td>-0.400000</td>\n",
       "      <td>-4.3</td>\n",
       "      <td>0.3</td>\n",
       "      <td>0.0</td>\n",
       "      <td>0.1</td>\n",
       "    </tr>\n",
       "    <tr>\n",
       "      <th>2</th>\n",
       "      <td>279964</td>\n",
       "      <td>-1.0</td>\n",
       "      <td>1.0</td>\n",
       "      <td>-1</td>\n",
       "      <td>-1</td>\n",
       "      <td>NaN</td>\n",
       "      <td>NaN</td>\n",
       "      <td>NaN</td>\n",
       "      <td></td>\n",
       "      <td>IA</td>\n",
       "      <td>...</td>\n",
       "      <td>NaN</td>\n",
       "      <td>NaN</td>\n",
       "      <td>NaN</td>\n",
       "      <td>NaN</td>\n",
       "      <td>NaN</td>\n",
       "      <td>NaN</td>\n",
       "      <td>NaN</td>\n",
       "      <td>NaN</td>\n",
       "      <td>NaN</td>\n",
       "      <td>NaN</td>\n",
       "    </tr>\n",
       "    <tr>\n",
       "      <th>3</th>\n",
       "      <td>256127</td>\n",
       "      <td>-1.0</td>\n",
       "      <td>-1.0</td>\n",
       "      <td>-1</td>\n",
       "      <td>-1</td>\n",
       "      <td>NaN</td>\n",
       "      <td>NaN</td>\n",
       "      <td>NaN</td>\n",
       "      <td>S</td>\n",
       "      <td>CA</td>\n",
       "      <td>...</td>\n",
       "      <td>1.0</td>\n",
       "      <td>0.3</td>\n",
       "      <td>0.5</td>\n",
       "      <td>-1.20000</td>\n",
       "      <td>0.0</td>\n",
       "      <td>0.000000</td>\n",
       "      <td>0.0</td>\n",
       "      <td>2.7</td>\n",
       "      <td>0.0</td>\n",
       "      <td>0.0</td>\n",
       "    </tr>\n",
       "    <tr>\n",
       "      <th>4</th>\n",
       "      <td>515315</td>\n",
       "      <td>-1.0</td>\n",
       "      <td>-1.0</td>\n",
       "      <td>-1</td>\n",
       "      <td>-1</td>\n",
       "      <td>NaN</td>\n",
       "      <td>NaN</td>\n",
       "      <td>NaN</td>\n",
       "      <td></td>\n",
       "      <td>WH</td>\n",
       "      <td>...</td>\n",
       "      <td>6.2</td>\n",
       "      <td>0.0</td>\n",
       "      <td>0.0</td>\n",
       "      <td>-1.10000</td>\n",
       "      <td>0.0</td>\n",
       "      <td>1.308707</td>\n",
       "      <td>0.0</td>\n",
       "      <td>105.1</td>\n",
       "      <td>0.0</td>\n",
       "      <td>-0.3</td>\n",
       "    </tr>\n",
       "    <tr>\n",
       "      <th>5</th>\n",
       "      <td>156276</td>\n",
       "      <td>-1.0</td>\n",
       "      <td>-1.0</td>\n",
       "      <td>-1</td>\n",
       "      <td>-1</td>\n",
       "      <td>NaN</td>\n",
       "      <td>NaN</td>\n",
       "      <td>NaN</td>\n",
       "      <td>S</td>\n",
       "      <td>IA</td>\n",
       "      <td>...</td>\n",
       "      <td>-18.7</td>\n",
       "      <td>-2.0</td>\n",
       "      <td>0.0</td>\n",
       "      <td>43.27141</td>\n",
       "      <td>0.0</td>\n",
       "      <td>-0.100000</td>\n",
       "      <td>0.0</td>\n",
       "      <td>90.5</td>\n",
       "      <td>2.0</td>\n",
       "      <td>0.0</td>\n",
       "    </tr>\n",
       "  </tbody>\n",
       "</table>\n",
       "<p>5 rows × 510 columns</p>\n",
       "</div>"
      ],
      "text/plain": [
       "   PolNum_UW  JointInd  GMDBInd OriginalOwner_C1  Qual  EligibleInd  \\\n",
       "1     481242      -1.0     -1.0               -1    -1          NaN   \n",
       "2     279964      -1.0      1.0               -1    -1          NaN   \n",
       "3     256127      -1.0     -1.0               -1    -1          NaN   \n",
       "4     515315      -1.0     -1.0               -1    -1          NaN   \n",
       "5     156276      -1.0     -1.0               -1    -1          NaN   \n",
       "\n",
       "   FirstEligQInd  UtilizationInd Number.of.Adults.Indicator_C3 Dist  \\\n",
       "1            NaN             NaN                             S   CA   \n",
       "2            NaN             NaN                                 IA   \n",
       "3            NaN             NaN                             S   CA   \n",
       "4            NaN             NaN                                 WH   \n",
       "5            NaN             NaN                             S   IA   \n",
       "\n",
       "      ...     i12ccsb1_C4 i12ccsu1_C4 i12ccsv1_C4 i12ccsc1_C4 i12ccsd1_C4  \\\n",
       "1     ...            16.6         0.1         0.0     0.30000         0.0   \n",
       "2     ...             NaN         NaN         NaN         NaN         NaN   \n",
       "3     ...             1.0         0.3         0.5    -1.20000         0.0   \n",
       "4     ...             6.2         0.0         0.0    -1.10000         0.0   \n",
       "5     ...           -18.7        -2.0         0.0    43.27141         0.0   \n",
       "\n",
       "  i12ccsc2_C4 i03cctl1_C4 i12cctl1_C4 i12mtsq1_C4 i06txsb1_C4  \n",
       "1   -0.400000        -4.3         0.3         0.0         0.1  \n",
       "2         NaN         NaN         NaN         NaN         NaN  \n",
       "3    0.000000         0.0         2.7         0.0         0.0  \n",
       "4    1.308707         0.0       105.1         0.0        -0.3  \n",
       "5   -0.100000         0.0        90.5         2.0         0.0  \n",
       "\n",
       "[5 rows x 510 columns]"
      ]
     },
     "execution_count": 46,
     "metadata": {},
     "output_type": "execute_result"
    }
   ],
   "source": [
    "df.head()"
   ]
  },
  {
   "cell_type": "code",
   "execution_count": 50,
   "metadata": {
    "collapsed": true
   },
   "outputs": [
    {
     "ename": "NameError",
     "evalue": "name 'paste0' is not defined",
     "output_type": "error",
     "traceback": [
      "\u001b[0;31m---------------------------------------------------------------------------\u001b[0m",
      "\u001b[0;31mNameError\u001b[0m                                 Traceback (most recent call last)",
      "\u001b[0;32m<ipython-input-50-be0aadf3e3bf>\u001b[0m in \u001b[0;36m<module>\u001b[0;34m()\u001b[0m\n\u001b[1;32m      4\u001b[0m \u001b[0mdf\u001b[0m\u001b[0;34m.\u001b[0m\u001b[0mto_csv\u001b[0m\u001b[0;34m(\u001b[0m\u001b[0;34m\"allDataCleaned.csv\"\u001b[0m\u001b[0;34m,\u001b[0m \u001b[0mcompression\u001b[0m\u001b[0;34m=\u001b[0m\u001b[0;34m'gzip'\u001b[0m\u001b[0;34m)\u001b[0m\u001b[0;34m\u001b[0m\u001b[0m\n\u001b[1;32m      5\u001b[0m \u001b[0mt1\u001b[0m \u001b[0;34m=\u001b[0m \u001b[0mtime\u001b[0m\u001b[0;34m(\u001b[0m\u001b[0;34m)\u001b[0m\u001b[0;34m\u001b[0m\u001b[0m\n\u001b[0;32m----> 6\u001b[0;31m \u001b[0mpaste0\u001b[0m\u001b[0;34m(\u001b[0m\u001b[0mt1\u001b[0m\u001b[0;34m-\u001b[0m\u001b[0mt0\u001b[0m\u001b[0;34m)\u001b[0m\u001b[0;34m\u001b[0m\u001b[0m\n\u001b[0m",
      "\u001b[0;31mNameError\u001b[0m: name 'paste0' is not defined"
     ]
    }
   ],
   "source": [
    "t0 = time()\n",
    "df.to_csv(\"allDataCleaned.csv\", compression='gzip')\n",
    "t1 = time()"
   ]
  },
  {
   "cell_type": "code",
   "execution_count": 53,
   "metadata": {},
   "outputs": [
    {
     "name": "stdout",
     "output_type": "stream",
     "text": [
      "3.1714428997702067\n"
     ]
    }
   ],
   "source": [
    "print((t1-t0)/60/60)"
   ]
  }
 ],
 "metadata": {
  "kernelspec": {
   "display_name": "capsenvs",
   "language": "python",
   "name": "capsenvs"
  },
  "language_info": {
   "codemirror_mode": {
    "name": "ipython",
    "version": 3
   },
   "file_extension": ".py",
   "mimetype": "text/x-python",
   "name": "python",
   "nbconvert_exporter": "python",
   "pygments_lexer": "ipython3",
   "version": "3.6.4"
  }
 },
 "nbformat": 4,
 "nbformat_minor": 2
}
