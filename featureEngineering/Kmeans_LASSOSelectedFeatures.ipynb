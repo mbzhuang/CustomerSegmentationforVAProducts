{
 "cells": [
  {
   "cell_type": "markdown",
   "metadata": {},
   "source": [
    "### Initiate h2o cluster to run Kmeans"
   ]
  },
  {
   "cell_type": "code",
   "execution_count": 1,
   "metadata": {},
   "outputs": [
    {
     "name": "stderr",
     "output_type": "stream",
     "text": [
      "\n",
      "----------------------------------------------------------------------\n",
      "\n",
      "Your next step is to start H2O:\n",
      "    > h2o.init()\n",
      "\n",
      "For H2O package documentation, ask for help:\n",
      "    > ??h2o\n",
      "\n",
      "After starting H2O, you can use the Web UI at http://localhost:54321\n",
      "For more information visit http://docs.h2o.ai\n",
      "\n",
      "----------------------------------------------------------------------\n",
      "\n",
      "\n",
      "Attaching package: ‘h2o’\n",
      "\n",
      "The following object is masked from ‘package:RevoScaleR’:\n",
      "\n",
      "    colnames\n",
      "\n",
      "The following objects are masked from ‘package:stats’:\n",
      "\n",
      "    cor, sd, var\n",
      "\n",
      "The following objects are masked from ‘package:base’:\n",
      "\n",
      "    &&, %*%, %in%, ||, apply, as.factor, as.numeric, colnames,\n",
      "    colnames<-, ifelse, is.character, is.factor, is.numeric, log,\n",
      "    log10, log1p, log2, round, signif, trunc\n",
      "\n"
     ]
    },
    {
     "name": "stdout",
     "output_type": "stream",
     "text": [
      " Connection successful!\n",
      "\n",
      "R is connected to the H2O cluster: \n",
      "    H2O cluster uptime:         2 hours 23 minutes \n",
      "    H2O cluster version:        3.16.0.2 \n",
      "    H2O cluster version age:    2 months and 27 days  \n",
      "    H2O cluster name:           H2O_started_from_R_capsops_xoe811 \n",
      "    H2O cluster total nodes:    1 \n",
      "    H2O cluster total memory:   67.88 GB \n",
      "    H2O cluster total cores:    16 \n",
      "    H2O cluster allowed cores:  16 \n",
      "    H2O cluster healthy:        TRUE \n",
      "    H2O Connection ip:          localhost \n",
      "    H2O Connection port:        54321 \n",
      "    H2O Connection proxy:       NA \n",
      "    H2O Internal Security:      FALSE \n",
      "    H2O API Extensions:         XGBoost, Algos, AutoML, Core V3, Core V4 \n",
      "    R Version:                  R version 3.4.1 (2017-06-30) \n",
      "\n"
     ]
    }
   ],
   "source": [
    "library(h2o)\n",
    "h2o.init(nthreads = -1, max_mem_size = '90G')"
   ]
  },
  {
   "cell_type": "markdown",
   "metadata": {},
   "source": [
    "#### Data Munging"
   ]
  },
  {
   "cell_type": "code",
   "execution_count": 2,
   "metadata": {},
   "outputs": [
    {
     "name": "stdout",
     "output_type": "stream",
     "text": [
      "  |======================================================================| 100%\n"
     ]
    }
   ],
   "source": [
    "predictors <- h2o.importFile(path = \"https://s3-us-west-2.amazonaws.com/data516project/data/allDataCleaned.csv\"\n",
    "                           , destination_frame = \"predictors\")\n",
    "\n",
    "predictors$C1 <- NULL"
   ]
  },
  {
   "cell_type": "code",
   "execution_count": 3,
   "metadata": {
    "collapsed": true
   },
   "outputs": [],
   "source": [
    "## Get feature lists\n",
    "lasso_features1 <- read.csv('lassoFeatures1_categorized.csv')\n",
    "lasso_features2 <- read.csv('lassoFeatures2_categorized.csv')"
   ]
  },
  {
   "cell_type": "code",
   "execution_count": 4,
   "metadata": {
    "collapsed": true
   },
   "outputs": [],
   "source": [
    "## Subset lasso_features1 for clustering and split training and validation frames\n",
    "full <- predictors[, c(as.character(lasso_features1$Variable))]"
   ]
  },
  {
   "cell_type": "code",
   "execution_count": 5,
   "metadata": {},
   "outputs": [
    {
     "data": {
      "text/html": [
       "<ol class=list-inline>\n",
       "\t<li>4732698</li>\n",
       "\t<li>75</li>\n",
       "</ol>\n"
      ],
      "text/latex": [
       "\\begin{enumerate*}\n",
       "\\item 4732698\n",
       "\\item 75\n",
       "\\end{enumerate*}\n"
      ],
      "text/markdown": [
       "1. 4732698\n",
       "2. 75\n",
       "\n",
       "\n"
      ],
      "text/plain": [
       "[1] 4732698      75"
      ]
     },
     "metadata": {},
     "output_type": "display_data"
    }
   ],
   "source": [
    "dim(full)"
   ]
  },
  {
   "cell_type": "markdown",
   "metadata": {},
   "source": [
    "#### PCA transformation on the group of variables"
   ]
  },
  {
   "cell_type": "code",
   "execution_count": 6,
   "metadata": {},
   "outputs": [
    {
     "data": {
      "text/plain": [
       "\n",
       "                Auto score     Credit and Delinquency \n",
       "                         1                         18 \n",
       "              Credit Score                    Finance \n",
       "                         1                          9 \n",
       "                    Health                    Housing \n",
       "                         1                          8 \n",
       "                    Income                Life Status \n",
       "                         1                          2 \n",
       "    Neighborhood - Housing      Neighborhood - Income \n",
       "                         3                          4 \n",
       "Neighborhood - Life Status  Neighborhood - Occupation \n",
       "                         1                          4 \n",
       "   Neighborhood- Education                      Trade \n",
       "                         1                         21 "
      ]
     },
     "metadata": {},
     "output_type": "display_data"
    }
   ],
   "source": [
    "table(lasso_features1$Category)"
   ]
  },
  {
   "cell_type": "code",
   "execution_count": 7,
   "metadata": {
    "collapsed": true
   },
   "outputs": [],
   "source": [
    "pca_features1 <- lasso_features1[lasso_features1$Category == \"Credit and Delinquency\", ]$Variable\n",
    "pca_features2 <- lasso_features1[lasso_features1$Category == \"Finance\", ]$Variable\n",
    "pca_features3 <- lasso_features1[lasso_features1$Category == \"Housing\", ]$Variable\n",
    "pca_features4 <- lasso_features1[grep(\"Neighborhood\", lasso_features1$Category), ]$Variable\n",
    "pca_features5 <- lasso_features1[lasso_features1$Category == \"Trade\", ]$Variable"
   ]
  },
  {
   "cell_type": "code",
   "execution_count": 8,
   "metadata": {
    "collapsed": true
   },
   "outputs": [],
   "source": [
    "pca_group_variables <- function(features, k){\n",
    "    training_frame = predictors[, c(as.character(features))]\n",
    "    pca_fit = h2o.prcomp(training_frame, transform = \"STANDARDIZE\", pca_method = \"GramSVD\", seed = 1234, k = k,\n",
    "                         impute_missing = TRUE)\n",
    "    return(pca_fit)\n",
    "}"
   ]
  },
  {
   "cell_type": "markdown",
   "metadata": {},
   "source": [
    "#### Train PCA for each features group"
   ]
  },
  {
   "cell_type": "code",
   "execution_count": 9,
   "metadata": {},
   "outputs": [
    {
     "name": "stdout",
     "output_type": "stream",
     "text": [
      "  |======================================================================| 100%\n",
      "  |======================================================================| 100%\n",
      "  |======================================================================| 100%\n",
      "  |======================================================================| 100%\n",
      "  |======================================================================| 100%\n"
     ]
    }
   ],
   "source": [
    "# Credit and Delinquency\n",
    "pca_fit1 <- pca_group_variables(pca_features1, 18)\n",
    "\n",
    "# Finance\n",
    "pca_fit2 <- pca_group_variables(pca_features2, 9)\n",
    "\n",
    "# Housing\n",
    "pca_fit3 <- pca_group_variables(pca_features3, 8)\n",
    "\n",
    "# Neighborhood\n",
    "pca_fit4 <- pca_group_variables(pca_features4, 13)\n",
    "\n",
    "# Trade\n",
    "pca_fit5 <- pca_group_variables(pca_features5, 21)\n"
   ]
  },
  {
   "cell_type": "code",
   "execution_count": 10,
   "metadata": {},
   "outputs": [
    {
     "data": {
      "text/plain": [
       "Model Details:\n",
       "==============\n",
       "\n",
       "H2ODimReductionModel: pca\n",
       "Model ID:  PCA_model_R_1519665318376_34 \n",
       "Importance of components: \n",
       "                            pc1      pc2      pc3      pc4      pc5      pc6\n",
       "Standard deviation     1.703557 1.321111 1.292487 1.214450 1.030396 0.957053\n",
       "Proportion of Variance 0.188883 0.113595 0.108726 0.095993 0.069102 0.059614\n",
       "Cumulative Proportion  0.188883 0.302478 0.411203 0.507196 0.576298 0.635912\n",
       "                            pc7      pc8      pc9     pc10     pc11     pc12\n",
       "Standard deviation     0.943650 0.884162 0.852380 0.791477 0.733113 0.676878\n",
       "Proportion of Variance 0.057956 0.050880 0.047288 0.040771 0.034980 0.029820\n",
       "Cumulative Proportion  0.693869 0.744748 0.792036 0.832807 0.867787 0.897607\n",
       "                           pc13     pc14     pc15     pc16     pc17     pc18\n",
       "Standard deviation     0.618593 0.589542 0.569201 0.454090 0.422591 0.366382\n",
       "Proportion of Variance 0.024905 0.022621 0.021087 0.013420 0.011623 0.008737\n",
       "Cumulative Proportion  0.922512 0.945133 0.966220 0.979640 0.991263 1.000000\n",
       "\n",
       "\n",
       "H2ODimReductionMetrics: pca\n",
       "\n",
       "No model metrics available for PCA\n",
       "\n"
      ]
     },
     "metadata": {},
     "output_type": "display_data"
    }
   ],
   "source": [
    "pca_fit1\n",
    "# 10 PC to achieve 80% variance explaination"
   ]
  },
  {
   "cell_type": "code",
   "execution_count": 11,
   "metadata": {},
   "outputs": [
    {
     "data": {
      "text/plain": [
       "Model Details:\n",
       "==============\n",
       "\n",
       "H2ODimReductionModel: pca\n",
       "Model ID:  PCA_model_R_1519665318376_35 \n",
       "Importance of components: \n",
       "                            pc1      pc2      pc3      pc4      pc5      pc6\n",
       "Standard deviation     1.664275 1.139534 0.930131 0.834485 0.677704 0.568163\n",
       "Proportion of Variance 0.400599 0.187808 0.125126 0.100716 0.066426 0.046688\n",
       "Cumulative Proportion  0.400599 0.588407 0.713533 0.814248 0.880675 0.927363\n",
       "                            pc7      pc8      pc9\n",
       "Standard deviation     0.525510 0.356451 0.314658\n",
       "Proportion of Variance 0.039941 0.018376 0.014320\n",
       "Cumulative Proportion  0.967304 0.985680 1.000000\n",
       "\n",
       "\n",
       "H2ODimReductionMetrics: pca\n",
       "\n",
       "No model metrics available for PCA\n",
       "\n"
      ]
     },
     "metadata": {},
     "output_type": "display_data"
    }
   ],
   "source": [
    "pca_fit2\n",
    "# 4 PC to achieve 80% variance explaination"
   ]
  },
  {
   "cell_type": "code",
   "execution_count": 12,
   "metadata": {},
   "outputs": [
    {
     "data": {
      "text/plain": [
       "Model Details:\n",
       "==============\n",
       "\n",
       "H2ODimReductionModel: pca\n",
       "Model ID:  PCA_model_R_1519665318376_36 \n",
       "Importance of components: \n",
       "                            pc1      pc2      pc3      pc4      pc5      pc6\n",
       "Standard deviation     1.176689 1.146177 0.952183 0.842264 0.788457 0.757577\n",
       "Proportion of Variance 0.218369 0.207191 0.142991 0.111883 0.098044 0.090515\n",
       "Cumulative Proportion  0.218369 0.425559 0.568550 0.680433 0.778477 0.868992\n",
       "                            pc7      pc8\n",
       "Standard deviation     0.692273 0.592814\n",
       "Proportion of Variance 0.075583 0.055425\n",
       "Cumulative Proportion  0.944575 1.000000\n",
       "\n",
       "\n",
       "H2ODimReductionMetrics: pca\n",
       "\n",
       "No model metrics available for PCA\n",
       "\n"
      ]
     },
     "metadata": {},
     "output_type": "display_data"
    }
   ],
   "source": [
    "pca_fit3\n",
    "# 6 PC to achieve 80% variance explaination"
   ]
  },
  {
   "cell_type": "code",
   "execution_count": 13,
   "metadata": {},
   "outputs": [
    {
     "data": {
      "text/plain": [
       "Model Details:\n",
       "==============\n",
       "\n",
       "H2ODimReductionModel: pca\n",
       "Model ID:  PCA_model_R_1519665318376_37 \n",
       "Importance of components: \n",
       "                            pc1      pc2      pc3      pc4      pc5      pc6\n",
       "Standard deviation     1.839093 1.378522 1.244483 1.134288 0.963519 0.854839\n",
       "Proportion of Variance 0.262912 0.147717 0.120387 0.100011 0.072164 0.056803\n",
       "Cumulative Proportion  0.262912 0.410629 0.531017 0.631028 0.703192 0.759996\n",
       "                            pc7      pc8      pc9     pc10     pc11     pc12\n",
       "Standard deviation     0.823014 0.810653 0.721892 0.650289 0.603279 0.507489\n",
       "Proportion of Variance 0.052652 0.051083 0.040509 0.032871 0.028290 0.020020\n",
       "Cumulative Proportion  0.812648 0.863730 0.904239 0.937110 0.965401 0.985420\n",
       "                           pc13\n",
       "Standard deviation     0.433086\n",
       "Proportion of Variance 0.014580\n",
       "Cumulative Proportion  1.000000\n",
       "\n",
       "\n",
       "H2ODimReductionMetrics: pca\n",
       "\n",
       "No model metrics available for PCA\n",
       "\n"
      ]
     },
     "metadata": {},
     "output_type": "display_data"
    }
   ],
   "source": [
    "pca_fit4\n",
    "# 7 PC to achieve 80% variance explaination"
   ]
  },
  {
   "cell_type": "code",
   "execution_count": 14,
   "metadata": {},
   "outputs": [
    {
     "data": {
      "text/plain": [
       "Model Details:\n",
       "==============\n",
       "\n",
       "H2ODimReductionModel: pca\n",
       "Model ID:  PCA_model_R_1519665318376_38 \n",
       "Importance of components: \n",
       "                            pc1      pc2      pc3      pc4      pc5      pc6\n",
       "Standard deviation     1.947521 1.308992 1.263122 1.142624 1.106834 0.967275\n",
       "Proportion of Variance 0.241992 0.109323 0.101795 0.083300 0.078163 0.059695\n",
       "Cumulative Proportion  0.241992 0.351315 0.453110 0.536409 0.614572 0.674267\n",
       "                            pc7      pc8      pc9     pc10     pc11     pc12\n",
       "Standard deviation     0.871763 0.826412 0.800318 0.746853 0.679142 0.649597\n",
       "Proportion of Variance 0.048488 0.043574 0.040866 0.035588 0.029428 0.026923\n",
       "Cumulative Proportion  0.722755 0.766329 0.807195 0.842784 0.872212 0.899135\n",
       "                           pc13     pc14     pc15     pc16     pc17     pc18\n",
       "Standard deviation     0.619018 0.497375 0.451491 0.438133 0.402839 0.381038\n",
       "Proportion of Variance 0.024448 0.015784 0.013006 0.012248 0.010354 0.009263\n",
       "Cumulative Proportion  0.923583 0.939366 0.952372 0.964619 0.974973 0.984237\n",
       "                           pc19     pc20     pc21\n",
       "Standard deviation     0.298999 0.289540 0.271722\n",
       "Proportion of Variance 0.005704 0.005349 0.004711\n",
       "Cumulative Proportion  0.989941 0.995289 1.000000\n",
       "\n",
       "\n",
       "H2ODimReductionMetrics: pca\n",
       "\n",
       "No model metrics available for PCA\n",
       "\n"
      ]
     },
     "metadata": {},
     "output_type": "display_data"
    }
   ],
   "source": [
    "pca_fit5\n",
    "# 9 PC to achieve 80% variance explaination"
   ]
  },
  {
   "cell_type": "markdown",
   "metadata": {},
   "source": [
    "#### Represent original dataset with principal components"
   ]
  },
  {
   "cell_type": "code",
   "execution_count": 15,
   "metadata": {},
   "outputs": [
    {
     "name": "stdout",
     "output_type": "stream",
     "text": [
      "  |======================================================================| 100%\n",
      "  |======================================================================| 100%\n",
      "  |======================================================================| 100%\n",
      "  |======================================================================| 100%\n"
     ]
    }
   ],
   "source": [
    "features_pca1 <- h2o.predict(pca_fit1, predictors[, c(as.character(pca_features1))])\n",
    "features_pca2 <- h2o.predict(pca_fit2, predictors[, c(as.character(pca_features2))])\n",
    "#features_pca3 <- h2o.predict(pca_fit3, predictors[, c(as.character(pca_features3))])\n",
    "# Housing variables are not chosen to be PCA transformed bacause 6 out of 8 dimensions are needed for \n",
    "# representing 80% of the variance.\n",
    "features_pca4 <- h2o.predict(pca_fit4, predictors[, c(as.character(pca_features4))])\n",
    "features_pca5 <- h2o.predict(pca_fit5, predictors[, c(as.character(pca_features5))])"
   ]
  },
  {
   "cell_type": "code",
   "execution_count": 16,
   "metadata": {
    "collapsed": true
   },
   "outputs": [],
   "source": [
    "names(features_pca1) = paste0(\"credit_\", names(features_pca1))\n",
    "names(features_pca2) = paste0(\"finance_\", names(features_pca2))\n",
    "names(features_pca4) = paste0(\"neighborhood_\", names(features_pca4))\n",
    "names(features_pca5) = paste0(\"trade_\", names(features_pca5))"
   ]
  },
  {
   "cell_type": "code",
   "execution_count": 17,
   "metadata": {},
   "outputs": [
    {
     "data": {
      "text/html": [
       "<ol class=list-inline>\n",
       "\t<li>'credit_PC1'</li>\n",
       "\t<li>'credit_PC2'</li>\n",
       "\t<li>'credit_PC3'</li>\n",
       "\t<li>'credit_PC4'</li>\n",
       "\t<li>'credit_PC5'</li>\n",
       "\t<li>'credit_PC6'</li>\n",
       "\t<li>'credit_PC7'</li>\n",
       "\t<li>'credit_PC8'</li>\n",
       "\t<li>'credit_PC9'</li>\n",
       "\t<li>'credit_PC10'</li>\n",
       "\t<li>'credit_PC11'</li>\n",
       "\t<li>'credit_PC12'</li>\n",
       "\t<li>'credit_PC13'</li>\n",
       "\t<li>'credit_PC14'</li>\n",
       "\t<li>'credit_PC15'</li>\n",
       "\t<li>'credit_PC16'</li>\n",
       "\t<li>'credit_PC17'</li>\n",
       "\t<li>'credit_PC18'</li>\n",
       "</ol>\n"
      ],
      "text/latex": [
       "\\begin{enumerate*}\n",
       "\\item 'credit\\_PC1'\n",
       "\\item 'credit\\_PC2'\n",
       "\\item 'credit\\_PC3'\n",
       "\\item 'credit\\_PC4'\n",
       "\\item 'credit\\_PC5'\n",
       "\\item 'credit\\_PC6'\n",
       "\\item 'credit\\_PC7'\n",
       "\\item 'credit\\_PC8'\n",
       "\\item 'credit\\_PC9'\n",
       "\\item 'credit\\_PC10'\n",
       "\\item 'credit\\_PC11'\n",
       "\\item 'credit\\_PC12'\n",
       "\\item 'credit\\_PC13'\n",
       "\\item 'credit\\_PC14'\n",
       "\\item 'credit\\_PC15'\n",
       "\\item 'credit\\_PC16'\n",
       "\\item 'credit\\_PC17'\n",
       "\\item 'credit\\_PC18'\n",
       "\\end{enumerate*}\n"
      ],
      "text/markdown": [
       "1. 'credit_PC1'\n",
       "2. 'credit_PC2'\n",
       "3. 'credit_PC3'\n",
       "4. 'credit_PC4'\n",
       "5. 'credit_PC5'\n",
       "6. 'credit_PC6'\n",
       "7. 'credit_PC7'\n",
       "8. 'credit_PC8'\n",
       "9. 'credit_PC9'\n",
       "10. 'credit_PC10'\n",
       "11. 'credit_PC11'\n",
       "12. 'credit_PC12'\n",
       "13. 'credit_PC13'\n",
       "14. 'credit_PC14'\n",
       "15. 'credit_PC15'\n",
       "16. 'credit_PC16'\n",
       "17. 'credit_PC17'\n",
       "18. 'credit_PC18'\n",
       "\n",
       "\n"
      ],
      "text/plain": [
       " [1] \"credit_PC1\"  \"credit_PC2\"  \"credit_PC3\"  \"credit_PC4\"  \"credit_PC5\" \n",
       " [6] \"credit_PC6\"  \"credit_PC7\"  \"credit_PC8\"  \"credit_PC9\"  \"credit_PC10\"\n",
       "[11] \"credit_PC11\" \"credit_PC12\" \"credit_PC13\" \"credit_PC14\" \"credit_PC15\"\n",
       "[16] \"credit_PC16\" \"credit_PC17\" \"credit_PC18\""
      ]
     },
     "metadata": {},
     "output_type": "display_data"
    }
   ],
   "source": [
    "names(features_pca1)"
   ]
  },
  {
   "cell_type": "code",
   "execution_count": 18,
   "metadata": {
    "collapsed": true
   },
   "outputs": [],
   "source": [
    "full <- predictors[, c(as.character(lasso_features1$Variable))]\n",
    "full = h2o.cbind(full, features_pca1[, 1:10])\n",
    "full = h2o.cbind(full, features_pca2[, 1:4])\n",
    "full = h2o.cbind(full, features_pca4[, 1:7])\n",
    "full = h2o.cbind(full, features_pca5[, 1:9])"
   ]
  },
  {
   "cell_type": "code",
   "execution_count": 19,
   "metadata": {},
   "outputs": [
    {
     "data": {
      "text/html": [
       "<ol class=list-inline>\n",
       "\t<li>4732698</li>\n",
       "\t<li>105</li>\n",
       "</ol>\n"
      ],
      "text/latex": [
       "\\begin{enumerate*}\n",
       "\\item 4732698\n",
       "\\item 105\n",
       "\\end{enumerate*}\n"
      ],
      "text/markdown": [
       "1. 4732698\n",
       "2. 105\n",
       "\n",
       "\n"
      ],
      "text/plain": [
       "[1] 4732698     105"
      ]
     },
     "metadata": {},
     "output_type": "display_data"
    }
   ],
   "source": [
    "dim(full)"
   ]
  },
  {
   "cell_type": "code",
   "execution_count": 20,
   "metadata": {},
   "outputs": [
    {
     "data": {
      "text/html": [
       "<ol class=list-inline>\n",
       "\t<li>'score_C4'</li>\n",
       "\t<li>'iat51y5_C4'</li>\n",
       "\t<li>'iat52_C4'</li>\n",
       "\t<li>'icc31_C4'</li>\n",
       "\t<li>'i12ccpq2_C4'</li>\n",
       "\t<li>'i12ccpc1_C4'</li>\n",
       "\t<li>'i12ccpq4_C4'</li>\n",
       "\t<li>'icc41_C4'</li>\n",
       "\t<li>'i03inpq4_C4'</li>\n",
       "\t<li>'i12inpq4_C4'</li>\n",
       "\t<li>'i12ccnb1_C4'</li>\n",
       "\t<li>'icc21_C4'</li>\n",
       "\t<li>'iat89_C4'</li>\n",
       "\t<li>'icc33_C4'</li>\n",
       "\t<li>'i12ccdu1_C4'</li>\n",
       "\t<li>'i12cctc1_C4'</li>\n",
       "\t<li>'i12cctq1_C4'</li>\n",
       "\t<li>'i24txtb1_C4'</li>\n",
       "\t<li>'i12cctl1_C4'</li>\n",
       "\t<li>'finscr_C4'</li>\n",
       "\t<li>'iat31xam_C4'</li>\n",
       "\t<li>'imt31_C4'</li>\n",
       "\t<li>'ire31_C4'</li>\n",
       "\t<li>'ifn102_C4'</li>\n",
       "\t<li>'ihi20_C4'</li>\n",
       "\t<li>'imt20_C4'</li>\n",
       "\t<li>'iat33_C4'</li>\n",
       "\t<li>'iat34_C4'</li>\n",
       "\t<li>'iat34xam_C4'</li>\n",
       "\t<li>'HealthScore_C5'</li>\n",
       "\t<li>'OriginalOwner_C1'</li>\n",
       "\t<li>'Housing.Units.Percent.5.Units_C3'</li>\n",
       "\t<li>'curaddr_C4'</li>\n",
       "\t<li>'LotSize_C1'</li>\n",
       "\t<li>'EstMarketValue_C1'</li>\n",
       "\t<li>'Mortgage.Liability_C3'</li>\n",
       "\t<li>'Living.Area.Square.Feet_num'</li>\n",
       "\t<li>'Length.of.Residence_num'</li>\n",
       "\t<li>'Target.Narrow.Band.Income_num'</li>\n",
       "\t<li>'Number.of.Active.Sources_C3'</li>\n",
       "\t<li>'IssAgeALB'</li>\n",
       "\t<li>'CEN_tr_pctOwnOccValGE100K'</li>\n",
       "\t<li>'CEN_tr_pctOwnOccSecondMort'</li>\n",
       "\t<li>'CEN_bg_pctSeasonalHousingUnits'</li>\n",
       "\t<li>'CEN_bg_pctHHincomeLT15K'</li>\n",
       "\t<li>'CEN_tr_pctHHincomeGE200K'</li>\n",
       "\t<li>'CEN_tr_pctHHInvestIncome'</li>\n",
       "\t<li>'CEN_tr_pctHHSocialSecurityIncome'</li>\n",
       "\t<li>'CEN_bg_pctLiveAloneHH'</li>\n",
       "\t<li>'CEN_bg_pctWorkforceForProfit'</li>\n",
       "\t<li>'CEN_bg_pctConstructionIndustry'</li>\n",
       "\t<li>'CEN_bg_pctEducationIndustry'</li>\n",
       "\t<li>'CEN_tr_pctWorkforceGovt'</li>\n",
       "\t<li>'CEN_tr_pctHSGrad'</li>\n",
       "\t<li>'iat01_C4'</li>\n",
       "\t<li>'iat02_C4'</li>\n",
       "\t<li>'iat07_C4'</li>\n",
       "\t<li>'iau01y5_C4'</li>\n",
       "\t<li>'ibr07_C4'</li>\n",
       "\t<li>'ibr41_C4'</li>\n",
       "\t<li>'ifn01_C4'</li>\n",
       "\t<li>'ifn01y5_C4'</li>\n",
       "\t<li>'ihi01y5_C4'</li>\n",
       "\t<li>'iin01y5_C4'</li>\n",
       "\t<li>'imt01_C4'</li>\n",
       "\t<li>'imt01y5_C4'</li>\n",
       "\t<li>'imt02y5_C4'</li>\n",
       "\t<li>'imt07_C4'</li>\n",
       "\t<li>'imt41_C4'</li>\n",
       "\t<li>'imt96_C4'</li>\n",
       "\t<li>'ire103_C4'</li>\n",
       "\t<li>'is004_C4'</li>\n",
       "\t<li>'is004y5_C4'</li>\n",
       "\t<li>'ibr33_C4'</li>\n",
       "\t<li>'ibr34_C4'</li>\n",
       "\t<li>'credit_PC1'</li>\n",
       "\t<li>'credit_PC2'</li>\n",
       "\t<li>'credit_PC3'</li>\n",
       "\t<li>'credit_PC4'</li>\n",
       "\t<li>'credit_PC5'</li>\n",
       "\t<li>'credit_PC6'</li>\n",
       "\t<li>'credit_PC7'</li>\n",
       "\t<li>'credit_PC8'</li>\n",
       "\t<li>'credit_PC9'</li>\n",
       "\t<li>'credit_PC10'</li>\n",
       "\t<li>'finance_PC1'</li>\n",
       "\t<li>'finance_PC2'</li>\n",
       "\t<li>'finance_PC3'</li>\n",
       "\t<li>'finance_PC4'</li>\n",
       "\t<li>'neighborhood_PC1'</li>\n",
       "\t<li>'neighborhood_PC2'</li>\n",
       "\t<li>'neighborhood_PC3'</li>\n",
       "\t<li>'neighborhood_PC4'</li>\n",
       "\t<li>'neighborhood_PC5'</li>\n",
       "\t<li>'neighborhood_PC6'</li>\n",
       "\t<li>'neighborhood_PC7'</li>\n",
       "\t<li>'trade_PC1'</li>\n",
       "\t<li>'trade_PC2'</li>\n",
       "\t<li>'trade_PC3'</li>\n",
       "\t<li>'trade_PC4'</li>\n",
       "\t<li>'trade_PC5'</li>\n",
       "\t<li>'trade_PC6'</li>\n",
       "\t<li>'trade_PC7'</li>\n",
       "\t<li>'trade_PC8'</li>\n",
       "\t<li>'trade_PC9'</li>\n",
       "</ol>\n"
      ],
      "text/latex": [
       "\\begin{enumerate*}\n",
       "\\item 'score\\_C4'\n",
       "\\item 'iat51y5\\_C4'\n",
       "\\item 'iat52\\_C4'\n",
       "\\item 'icc31\\_C4'\n",
       "\\item 'i12ccpq2\\_C4'\n",
       "\\item 'i12ccpc1\\_C4'\n",
       "\\item 'i12ccpq4\\_C4'\n",
       "\\item 'icc41\\_C4'\n",
       "\\item 'i03inpq4\\_C4'\n",
       "\\item 'i12inpq4\\_C4'\n",
       "\\item 'i12ccnb1\\_C4'\n",
       "\\item 'icc21\\_C4'\n",
       "\\item 'iat89\\_C4'\n",
       "\\item 'icc33\\_C4'\n",
       "\\item 'i12ccdu1\\_C4'\n",
       "\\item 'i12cctc1\\_C4'\n",
       "\\item 'i12cctq1\\_C4'\n",
       "\\item 'i24txtb1\\_C4'\n",
       "\\item 'i12cctl1\\_C4'\n",
       "\\item 'finscr\\_C4'\n",
       "\\item 'iat31xam\\_C4'\n",
       "\\item 'imt31\\_C4'\n",
       "\\item 'ire31\\_C4'\n",
       "\\item 'ifn102\\_C4'\n",
       "\\item 'ihi20\\_C4'\n",
       "\\item 'imt20\\_C4'\n",
       "\\item 'iat33\\_C4'\n",
       "\\item 'iat34\\_C4'\n",
       "\\item 'iat34xam\\_C4'\n",
       "\\item 'HealthScore\\_C5'\n",
       "\\item 'OriginalOwner\\_C1'\n",
       "\\item 'Housing.Units.Percent.5.Units\\_C3'\n",
       "\\item 'curaddr\\_C4'\n",
       "\\item 'LotSize\\_C1'\n",
       "\\item 'EstMarketValue\\_C1'\n",
       "\\item 'Mortgage.Liability\\_C3'\n",
       "\\item 'Living.Area.Square.Feet\\_num'\n",
       "\\item 'Length.of.Residence\\_num'\n",
       "\\item 'Target.Narrow.Band.Income\\_num'\n",
       "\\item 'Number.of.Active.Sources\\_C3'\n",
       "\\item 'IssAgeALB'\n",
       "\\item 'CEN\\_tr\\_pctOwnOccValGE100K'\n",
       "\\item 'CEN\\_tr\\_pctOwnOccSecondMort'\n",
       "\\item 'CEN\\_bg\\_pctSeasonalHousingUnits'\n",
       "\\item 'CEN\\_bg\\_pctHHincomeLT15K'\n",
       "\\item 'CEN\\_tr\\_pctHHincomeGE200K'\n",
       "\\item 'CEN\\_tr\\_pctHHInvestIncome'\n",
       "\\item 'CEN\\_tr\\_pctHHSocialSecurityIncome'\n",
       "\\item 'CEN\\_bg\\_pctLiveAloneHH'\n",
       "\\item 'CEN\\_bg\\_pctWorkforceForProfit'\n",
       "\\item 'CEN\\_bg\\_pctConstructionIndustry'\n",
       "\\item 'CEN\\_bg\\_pctEducationIndustry'\n",
       "\\item 'CEN\\_tr\\_pctWorkforceGovt'\n",
       "\\item 'CEN\\_tr\\_pctHSGrad'\n",
       "\\item 'iat01\\_C4'\n",
       "\\item 'iat02\\_C4'\n",
       "\\item 'iat07\\_C4'\n",
       "\\item 'iau01y5\\_C4'\n",
       "\\item 'ibr07\\_C4'\n",
       "\\item 'ibr41\\_C4'\n",
       "\\item 'ifn01\\_C4'\n",
       "\\item 'ifn01y5\\_C4'\n",
       "\\item 'ihi01y5\\_C4'\n",
       "\\item 'iin01y5\\_C4'\n",
       "\\item 'imt01\\_C4'\n",
       "\\item 'imt01y5\\_C4'\n",
       "\\item 'imt02y5\\_C4'\n",
       "\\item 'imt07\\_C4'\n",
       "\\item 'imt41\\_C4'\n",
       "\\item 'imt96\\_C4'\n",
       "\\item 'ire103\\_C4'\n",
       "\\item 'is004\\_C4'\n",
       "\\item 'is004y5\\_C4'\n",
       "\\item 'ibr33\\_C4'\n",
       "\\item 'ibr34\\_C4'\n",
       "\\item 'credit\\_PC1'\n",
       "\\item 'credit\\_PC2'\n",
       "\\item 'credit\\_PC3'\n",
       "\\item 'credit\\_PC4'\n",
       "\\item 'credit\\_PC5'\n",
       "\\item 'credit\\_PC6'\n",
       "\\item 'credit\\_PC7'\n",
       "\\item 'credit\\_PC8'\n",
       "\\item 'credit\\_PC9'\n",
       "\\item 'credit\\_PC10'\n",
       "\\item 'finance\\_PC1'\n",
       "\\item 'finance\\_PC2'\n",
       "\\item 'finance\\_PC3'\n",
       "\\item 'finance\\_PC4'\n",
       "\\item 'neighborhood\\_PC1'\n",
       "\\item 'neighborhood\\_PC2'\n",
       "\\item 'neighborhood\\_PC3'\n",
       "\\item 'neighborhood\\_PC4'\n",
       "\\item 'neighborhood\\_PC5'\n",
       "\\item 'neighborhood\\_PC6'\n",
       "\\item 'neighborhood\\_PC7'\n",
       "\\item 'trade\\_PC1'\n",
       "\\item 'trade\\_PC2'\n",
       "\\item 'trade\\_PC3'\n",
       "\\item 'trade\\_PC4'\n",
       "\\item 'trade\\_PC5'\n",
       "\\item 'trade\\_PC6'\n",
       "\\item 'trade\\_PC7'\n",
       "\\item 'trade\\_PC8'\n",
       "\\item 'trade\\_PC9'\n",
       "\\end{enumerate*}\n"
      ],
      "text/markdown": [
       "1. 'score_C4'\n",
       "2. 'iat51y5_C4'\n",
       "3. 'iat52_C4'\n",
       "4. 'icc31_C4'\n",
       "5. 'i12ccpq2_C4'\n",
       "6. 'i12ccpc1_C4'\n",
       "7. 'i12ccpq4_C4'\n",
       "8. 'icc41_C4'\n",
       "9. 'i03inpq4_C4'\n",
       "10. 'i12inpq4_C4'\n",
       "11. 'i12ccnb1_C4'\n",
       "12. 'icc21_C4'\n",
       "13. 'iat89_C4'\n",
       "14. 'icc33_C4'\n",
       "15. 'i12ccdu1_C4'\n",
       "16. 'i12cctc1_C4'\n",
       "17. 'i12cctq1_C4'\n",
       "18. 'i24txtb1_C4'\n",
       "19. 'i12cctl1_C4'\n",
       "20. 'finscr_C4'\n",
       "21. 'iat31xam_C4'\n",
       "22. 'imt31_C4'\n",
       "23. 'ire31_C4'\n",
       "24. 'ifn102_C4'\n",
       "25. 'ihi20_C4'\n",
       "26. 'imt20_C4'\n",
       "27. 'iat33_C4'\n",
       "28. 'iat34_C4'\n",
       "29. 'iat34xam_C4'\n",
       "30. 'HealthScore_C5'\n",
       "31. 'OriginalOwner_C1'\n",
       "32. 'Housing.Units.Percent.5.Units_C3'\n",
       "33. 'curaddr_C4'\n",
       "34. 'LotSize_C1'\n",
       "35. 'EstMarketValue_C1'\n",
       "36. 'Mortgage.Liability_C3'\n",
       "37. 'Living.Area.Square.Feet_num'\n",
       "38. 'Length.of.Residence_num'\n",
       "39. 'Target.Narrow.Band.Income_num'\n",
       "40. 'Number.of.Active.Sources_C3'\n",
       "41. 'IssAgeALB'\n",
       "42. 'CEN_tr_pctOwnOccValGE100K'\n",
       "43. 'CEN_tr_pctOwnOccSecondMort'\n",
       "44. 'CEN_bg_pctSeasonalHousingUnits'\n",
       "45. 'CEN_bg_pctHHincomeLT15K'\n",
       "46. 'CEN_tr_pctHHincomeGE200K'\n",
       "47. 'CEN_tr_pctHHInvestIncome'\n",
       "48. 'CEN_tr_pctHHSocialSecurityIncome'\n",
       "49. 'CEN_bg_pctLiveAloneHH'\n",
       "50. 'CEN_bg_pctWorkforceForProfit'\n",
       "51. 'CEN_bg_pctConstructionIndustry'\n",
       "52. 'CEN_bg_pctEducationIndustry'\n",
       "53. 'CEN_tr_pctWorkforceGovt'\n",
       "54. 'CEN_tr_pctHSGrad'\n",
       "55. 'iat01_C4'\n",
       "56. 'iat02_C4'\n",
       "57. 'iat07_C4'\n",
       "58. 'iau01y5_C4'\n",
       "59. 'ibr07_C4'\n",
       "60. 'ibr41_C4'\n",
       "61. 'ifn01_C4'\n",
       "62. 'ifn01y5_C4'\n",
       "63. 'ihi01y5_C4'\n",
       "64. 'iin01y5_C4'\n",
       "65. 'imt01_C4'\n",
       "66. 'imt01y5_C4'\n",
       "67. 'imt02y5_C4'\n",
       "68. 'imt07_C4'\n",
       "69. 'imt41_C4'\n",
       "70. 'imt96_C4'\n",
       "71. 'ire103_C4'\n",
       "72. 'is004_C4'\n",
       "73. 'is004y5_C4'\n",
       "74. 'ibr33_C4'\n",
       "75. 'ibr34_C4'\n",
       "76. 'credit_PC1'\n",
       "77. 'credit_PC2'\n",
       "78. 'credit_PC3'\n",
       "79. 'credit_PC4'\n",
       "80. 'credit_PC5'\n",
       "81. 'credit_PC6'\n",
       "82. 'credit_PC7'\n",
       "83. 'credit_PC8'\n",
       "84. 'credit_PC9'\n",
       "85. 'credit_PC10'\n",
       "86. 'finance_PC1'\n",
       "87. 'finance_PC2'\n",
       "88. 'finance_PC3'\n",
       "89. 'finance_PC4'\n",
       "90. 'neighborhood_PC1'\n",
       "91. 'neighborhood_PC2'\n",
       "92. 'neighborhood_PC3'\n",
       "93. 'neighborhood_PC4'\n",
       "94. 'neighborhood_PC5'\n",
       "95. 'neighborhood_PC6'\n",
       "96. 'neighborhood_PC7'\n",
       "97. 'trade_PC1'\n",
       "98. 'trade_PC2'\n",
       "99. 'trade_PC3'\n",
       "100. 'trade_PC4'\n",
       "101. 'trade_PC5'\n",
       "102. 'trade_PC6'\n",
       "103. 'trade_PC7'\n",
       "104. 'trade_PC8'\n",
       "105. 'trade_PC9'\n",
       "\n",
       "\n"
      ],
      "text/plain": [
       "  [1] \"score_C4\"                         \"iat51y5_C4\"                      \n",
       "  [3] \"iat52_C4\"                         \"icc31_C4\"                        \n",
       "  [5] \"i12ccpq2_C4\"                      \"i12ccpc1_C4\"                     \n",
       "  [7] \"i12ccpq4_C4\"                      \"icc41_C4\"                        \n",
       "  [9] \"i03inpq4_C4\"                      \"i12inpq4_C4\"                     \n",
       " [11] \"i12ccnb1_C4\"                      \"icc21_C4\"                        \n",
       " [13] \"iat89_C4\"                         \"icc33_C4\"                        \n",
       " [15] \"i12ccdu1_C4\"                      \"i12cctc1_C4\"                     \n",
       " [17] \"i12cctq1_C4\"                      \"i24txtb1_C4\"                     \n",
       " [19] \"i12cctl1_C4\"                      \"finscr_C4\"                       \n",
       " [21] \"iat31xam_C4\"                      \"imt31_C4\"                        \n",
       " [23] \"ire31_C4\"                         \"ifn102_C4\"                       \n",
       " [25] \"ihi20_C4\"                         \"imt20_C4\"                        \n",
       " [27] \"iat33_C4\"                         \"iat34_C4\"                        \n",
       " [29] \"iat34xam_C4\"                      \"HealthScore_C5\"                  \n",
       " [31] \"OriginalOwner_C1\"                 \"Housing.Units.Percent.5.Units_C3\"\n",
       " [33] \"curaddr_C4\"                       \"LotSize_C1\"                      \n",
       " [35] \"EstMarketValue_C1\"                \"Mortgage.Liability_C3\"           \n",
       " [37] \"Living.Area.Square.Feet_num\"      \"Length.of.Residence_num\"         \n",
       " [39] \"Target.Narrow.Band.Income_num\"    \"Number.of.Active.Sources_C3\"     \n",
       " [41] \"IssAgeALB\"                        \"CEN_tr_pctOwnOccValGE100K\"       \n",
       " [43] \"CEN_tr_pctOwnOccSecondMort\"       \"CEN_bg_pctSeasonalHousingUnits\"  \n",
       " [45] \"CEN_bg_pctHHincomeLT15K\"          \"CEN_tr_pctHHincomeGE200K\"        \n",
       " [47] \"CEN_tr_pctHHInvestIncome\"         \"CEN_tr_pctHHSocialSecurityIncome\"\n",
       " [49] \"CEN_bg_pctLiveAloneHH\"            \"CEN_bg_pctWorkforceForProfit\"    \n",
       " [51] \"CEN_bg_pctConstructionIndustry\"   \"CEN_bg_pctEducationIndustry\"     \n",
       " [53] \"CEN_tr_pctWorkforceGovt\"          \"CEN_tr_pctHSGrad\"                \n",
       " [55] \"iat01_C4\"                         \"iat02_C4\"                        \n",
       " [57] \"iat07_C4\"                         \"iau01y5_C4\"                      \n",
       " [59] \"ibr07_C4\"                         \"ibr41_C4\"                        \n",
       " [61] \"ifn01_C4\"                         \"ifn01y5_C4\"                      \n",
       " [63] \"ihi01y5_C4\"                       \"iin01y5_C4\"                      \n",
       " [65] \"imt01_C4\"                         \"imt01y5_C4\"                      \n",
       " [67] \"imt02y5_C4\"                       \"imt07_C4\"                        \n",
       " [69] \"imt41_C4\"                         \"imt96_C4\"                        \n",
       " [71] \"ire103_C4\"                        \"is004_C4\"                        \n",
       " [73] \"is004y5_C4\"                       \"ibr33_C4\"                        \n",
       " [75] \"ibr34_C4\"                         \"credit_PC1\"                      \n",
       " [77] \"credit_PC2\"                       \"credit_PC3\"                      \n",
       " [79] \"credit_PC4\"                       \"credit_PC5\"                      \n",
       " [81] \"credit_PC6\"                       \"credit_PC7\"                      \n",
       " [83] \"credit_PC8\"                       \"credit_PC9\"                      \n",
       " [85] \"credit_PC10\"                      \"finance_PC1\"                     \n",
       " [87] \"finance_PC2\"                      \"finance_PC3\"                     \n",
       " [89] \"finance_PC4\"                      \"neighborhood_PC1\"                \n",
       " [91] \"neighborhood_PC2\"                 \"neighborhood_PC3\"                \n",
       " [93] \"neighborhood_PC4\"                 \"neighborhood_PC5\"                \n",
       " [95] \"neighborhood_PC6\"                 \"neighborhood_PC7\"                \n",
       " [97] \"trade_PC1\"                        \"trade_PC2\"                       \n",
       " [99] \"trade_PC3\"                        \"trade_PC4\"                       \n",
       "[101] \"trade_PC5\"                        \"trade_PC6\"                       \n",
       "[103] \"trade_PC7\"                        \"trade_PC8\"                       \n",
       "[105] \"trade_PC9\"                       "
      ]
     },
     "metadata": {},
     "output_type": "display_data"
    }
   ],
   "source": [
    "names(full)"
   ]
  },
  {
   "cell_type": "code",
   "execution_count": 21,
   "metadata": {
    "collapsed": true
   },
   "outputs": [],
   "source": [
    "pca_reduced_LASSO = full[, !(names(full) %in% c(as.character(pca_features1), as.character(pca_features2), \n",
    "                    as.character(pca_features4), as.character(pca_features5)))]"
   ]
  },
  {
   "cell_type": "code",
   "execution_count": 22,
   "metadata": {},
   "outputs": [
    {
     "data": {
      "text/html": [
       "'H2OFrame'"
      ],
      "text/latex": [
       "'H2OFrame'"
      ],
      "text/markdown": [
       "'H2OFrame'"
      ],
      "text/plain": [
       "[1] \"H2OFrame\""
      ]
     },
     "metadata": {},
     "output_type": "display_data"
    }
   ],
   "source": [
    "class(pca_reduced_LASSO)"
   ]
  },
  {
   "cell_type": "code",
   "execution_count": 23,
   "metadata": {},
   "outputs": [
    {
     "name": "stdout",
     "output_type": "stream",
     "text": [
      "  |======================================================================| 100%\n"
     ]
    }
   ],
   "source": [
    "h2o.exportFile(pca_reduced_LASSO, 'pca_reduced_LASSO.csv')"
   ]
  },
  {
   "cell_type": "markdown",
   "metadata": {},
   "source": [
    "#### Train Kmeans model on PCA reduced LASSO selected features data set"
   ]
  },
  {
   "cell_type": "code",
   "execution_count": 74,
   "metadata": {},
   "outputs": [
    {
     "name": "stdout",
     "output_type": "stream",
     "text": [
      "  |======================================================================| 100%\n"
     ]
    }
   ],
   "source": [
    "pca_reduced_predictors <- h2o.importFile(path = normalizePath(\"/mnt/UW/outputDataset/pca_reduced_LASSO.csv\")\n",
    "                                         , destination_frame = \"pca_reduced_predictors\")\n",
    "\n",
    "pca_reduced_predictors$C1 <- NULL"
   ]
  },
  {
   "cell_type": "code",
   "execution_count": 75,
   "metadata": {
    "collapsed": true
   },
   "outputs": [],
   "source": [
    "split <- h2o.splitFrame(pca_reduced_predictors, ratios = c(0.5, 0.2), seed = -1)\n",
    "training = split[[1]]\n",
    "validation = split[[2]]"
   ]
  },
  {
   "cell_type": "code",
   "execution_count": 76,
   "metadata": {},
   "outputs": [
    {
     "data": {
      "text/html": [
       "<ol class=list-inline>\n",
       "\t<li>2366306</li>\n",
       "\t<li>44</li>\n",
       "</ol>\n"
      ],
      "text/latex": [
       "\\begin{enumerate*}\n",
       "\\item 2366306\n",
       "\\item 44\n",
       "\\end{enumerate*}\n"
      ],
      "text/markdown": [
       "1. 2366306\n",
       "2. 44\n",
       "\n",
       "\n"
      ],
      "text/plain": [
       "[1] 2366306      44"
      ]
     },
     "metadata": {},
     "output_type": "display_data"
    }
   ],
   "source": [
    "dim(training)"
   ]
  },
  {
   "cell_type": "code",
   "execution_count": 78,
   "metadata": {
    "collapsed": true
   },
   "outputs": [],
   "source": [
    "x = names(training)"
   ]
  },
  {
   "cell_type": "markdown",
   "metadata": {},
   "source": [
    "#### Optimal K"
   ]
  },
  {
   "cell_type": "code",
   "execution_count": 90,
   "metadata": {
    "collapsed": true
   },
   "outputs": [],
   "source": [
    "## For h2o kmeans, missing values are automatically imputed by the column mean of the training data\n",
    "fit_kmeans <- function(training_frame, k, init){\n",
    "    kmeans_fit <- h2o.kmeans(training_frame = training_frame, x, validation_frame = validation, nfolds = 8,\n",
    "                             standardize = TRUE, seed = 1234, k = k, init = init)\n",
    "    return(kmeans_fit)\n",
    "}"
   ]
  },
  {
   "cell_type": "code",
   "execution_count": 101,
   "metadata": {},
   "outputs": [
    {
     "name": "stdout",
     "output_type": "stream",
     "text": [
      "  |======================================================================| 100%\n",
      "  |======================================================================| 100%\n",
      "  |======================================================================| 100%\n",
      "  |======================================================================| 100%\n",
      "  |======================================================================| 100%\n",
      "  |======================================================================| 100%\n",
      "  |======================================================================| 100%\n",
      "  |======================================================================| 100%\n",
      "  |======================================================================| 100%\n",
      "  |======================================================================| 100%\n",
      "  |======================================================================| 100%\n"
     ]
    }
   ],
   "source": [
    "var_explained_plusplus = c()\n",
    "i=1\n",
    "\n",
    "for (k in 3:13){\n",
    "    model <- fit_kmeans(training, k, \"PlusPlus\")\n",
    "    var_explained_plusplus[i] = (1-model@model$model_summary$within_cluster_sum_of_squares/model@model$model_summary$total_sum_of_squares)\n",
    "    i = i +1\n",
    "}"
   ]
  },
  {
   "cell_type": "code",
   "execution_count": 107,
   "metadata": {},
   "outputs": [
    {
     "data": {
      "text/html": [
       "<ol class=list-inline>\n",
       "\t<li>0.0597687089951119</li>\n",
       "\t<li>0.096327883540221</li>\n",
       "\t<li>0.115611837506245</li>\n",
       "\t<li>0.127794777302175</li>\n",
       "\t<li>0.146613136973891</li>\n",
       "\t<li>0.166066791077972</li>\n",
       "\t<li>0.175801572671087</li>\n",
       "\t<li>0.190469808905258</li>\n",
       "\t<li>0.201090953543222</li>\n",
       "\t<li>0.208295281790418</li>\n",
       "\t<li>0.212164275674265</li>\n",
       "</ol>\n"
      ],
      "text/latex": [
       "\\begin{enumerate*}\n",
       "\\item 0.0597687089951119\n",
       "\\item 0.096327883540221\n",
       "\\item 0.115611837506245\n",
       "\\item 0.127794777302175\n",
       "\\item 0.146613136973891\n",
       "\\item 0.166066791077972\n",
       "\\item 0.175801572671087\n",
       "\\item 0.190469808905258\n",
       "\\item 0.201090953543222\n",
       "\\item 0.208295281790418\n",
       "\\item 0.212164275674265\n",
       "\\end{enumerate*}\n"
      ],
      "text/markdown": [
       "1. 0.0597687089951119\n",
       "2. 0.096327883540221\n",
       "3. 0.115611837506245\n",
       "4. 0.127794777302175\n",
       "5. 0.146613136973891\n",
       "6. 0.166066791077972\n",
       "7. 0.175801572671087\n",
       "8. 0.190469808905258\n",
       "9. 0.201090953543222\n",
       "10. 0.208295281790418\n",
       "11. 0.212164275674265\n",
       "\n",
       "\n"
      ],
      "text/plain": [
       " [1] 0.05976871 0.09632788 0.11561184 0.12779478 0.14661314 0.16606679\n",
       " [7] 0.17580157 0.19046981 0.20109095 0.20829528 0.21216428"
      ]
     },
     "metadata": {},
     "output_type": "display_data"
    }
   ],
   "source": [
    "var_explained_plusplus"
   ]
  },
  {
   "cell_type": "code",
   "execution_count": 108,
   "metadata": {},
   "outputs": [
    {
     "data": {
      "image/png": "",
      "text/plain": [
       "plot without title"
      ]
     },
     "metadata": {},
     "output_type": "display_data"
    }
   ],
   "source": [
    "### PlusPlus initialization, elbow curve\n",
    "plot(c(3:13), var_explained_pluplus)"
   ]
  },
  {
   "cell_type": "code",
   "execution_count": 96,
   "metadata": {},
   "outputs": [
    {
     "name": "stdout",
     "output_type": "stream",
     "text": [
      "  |======================================================================| 100%\n",
      "  |======================================================================| 100%\n",
      "  |======================================================================| 100%\n",
      "  |======================================================================| 100%\n",
      "  |======================================================================| 100%\n",
      "  |======================================================================| 100%\n",
      "  |======================================================================| 100%\n",
      "  |======================================================================| 100%\n",
      "  |======================================================================| 100%\n",
      "  |======================================================================| 100%\n",
      "  |======================================================================| 100%\n"
     ]
    }
   ],
   "source": [
    "var_explained_random = c()\n",
    "i=1\n",
    "\n",
    "for (k in 3:13){\n",
    "    model <- fit_kmeans(training, k, \"Random\")\n",
    "    var_explained_random[i] = (1-model@model$model_summary$within_cluster_sum_of_squares/model@model$model_summary$total_sum_of_squares)\n",
    "    i = i + 1\n",
    "}"
   ]
  },
  {
   "cell_type": "code",
   "execution_count": 97,
   "metadata": {},
   "outputs": [
    {
     "data": {
      "text/html": [
       "<ol class=list-inline>\n",
       "\t<li>0.0754973519242649</li>\n",
       "\t<li>0.0997415257657646</li>\n",
       "\t<li>0.118748600391216</li>\n",
       "\t<li>0.137486301000206</li>\n",
       "\t<li>0.155617951461372</li>\n",
       "\t<li>0.167930944903426</li>\n",
       "\t<li>0.174435118670041</li>\n",
       "\t<li>0.192338934329902</li>\n",
       "\t<li>0.203493946504297</li>\n",
       "\t<li>0.21251172723262</li>\n",
       "\t<li>0.221611761069902</li>\n",
       "</ol>\n"
      ],
      "text/latex": [
       "\\begin{enumerate*}\n",
       "\\item 0.0754973519242649\n",
       "\\item 0.0997415257657646\n",
       "\\item 0.118748600391216\n",
       "\\item 0.137486301000206\n",
       "\\item 0.155617951461372\n",
       "\\item 0.167930944903426\n",
       "\\item 0.174435118670041\n",
       "\\item 0.192338934329902\n",
       "\\item 0.203493946504297\n",
       "\\item 0.21251172723262\n",
       "\\item 0.221611761069902\n",
       "\\end{enumerate*}\n"
      ],
      "text/markdown": [
       "1. 0.0754973519242649\n",
       "2. 0.0997415257657646\n",
       "3. 0.118748600391216\n",
       "4. 0.137486301000206\n",
       "5. 0.155617951461372\n",
       "6. 0.167930944903426\n",
       "7. 0.174435118670041\n",
       "8. 0.192338934329902\n",
       "9. 0.203493946504297\n",
       "10. 0.21251172723262\n",
       "11. 0.221611761069902\n",
       "\n",
       "\n"
      ],
      "text/plain": [
       " [1] 0.07549735 0.09974153 0.11874860 0.13748630 0.15561795 0.16793094\n",
       " [7] 0.17443512 0.19233893 0.20349395 0.21251173 0.22161176"
      ]
     },
     "metadata": {},
     "output_type": "display_data"
    }
   ],
   "source": [
    "var_explained_random"
   ]
  },
  {
   "cell_type": "code",
   "execution_count": 98,
   "metadata": {},
   "outputs": [
    {
     "name": "stdout",
     "output_type": "stream",
     "text": [
      "  |======================================================================| 100%\n",
      "  |======================================================================| 100%\n",
      "  |======================================================================| 100%\n",
      "  |======================================================================| 100%\n",
      "  |======================================================================| 100%\n",
      "  |======================================================================| 100%\n",
      "  |======================================================================| 100%\n",
      "  |======================================================================| 100%\n",
      "  |======================================================================| 100%\n",
      "  |======================================================================| 100%\n",
      "  |======================================================================| 100%\n"
     ]
    },
    {
     "data": {
      "text/html": [
       "<ol class=list-inline>\n",
       "\t<li>0.0542855704445211</li>\n",
       "\t<li>0.0924360665860998</li>\n",
       "\t<li>0.111482457929819</li>\n",
       "\t<li>0.135391229603175</li>\n",
       "\t<li>0.146149203007779</li>\n",
       "\t<li>0.157736018878911</li>\n",
       "\t<li>0.165812788367376</li>\n",
       "\t<li>0.175434841024479</li>\n",
       "\t<li>0.194074985200816</li>\n",
       "\t<li>0.207947318611407</li>\n",
       "\t<li>0.200367038163403</li>\n",
       "</ol>\n"
      ],
      "text/latex": [
       "\\begin{enumerate*}\n",
       "\\item 0.0542855704445211\n",
       "\\item 0.0924360665860998\n",
       "\\item 0.111482457929819\n",
       "\\item 0.135391229603175\n",
       "\\item 0.146149203007779\n",
       "\\item 0.157736018878911\n",
       "\\item 0.165812788367376\n",
       "\\item 0.175434841024479\n",
       "\\item 0.194074985200816\n",
       "\\item 0.207947318611407\n",
       "\\item 0.200367038163403\n",
       "\\end{enumerate*}\n"
      ],
      "text/markdown": [
       "1. 0.0542855704445211\n",
       "2. 0.0924360665860998\n",
       "3. 0.111482457929819\n",
       "4. 0.135391229603175\n",
       "5. 0.146149203007779\n",
       "6. 0.157736018878911\n",
       "7. 0.165812788367376\n",
       "8. 0.175434841024479\n",
       "9. 0.194074985200816\n",
       "10. 0.207947318611407\n",
       "11. 0.200367038163403\n",
       "\n",
       "\n"
      ],
      "text/plain": [
       " [1] 0.05428557 0.09243607 0.11148246 0.13539123 0.14614920 0.15773602\n",
       " [7] 0.16581279 0.17543484 0.19407499 0.20794732 0.20036704"
      ]
     },
     "metadata": {},
     "output_type": "display_data"
    }
   ],
   "source": [
    "var_explained_furthest = c()\n",
    "i=1\n",
    "\n",
    "for (k in 3:13){\n",
    "    model <- fit_kmeans(training, k, \"Furthest\")\n",
    "    var_explained_furthest[i] = (1-model@model$model_summary$within_cluster_sum_of_squares/model@model$model_summary$total_sum_of_squares)\n",
    "    i = i + 1\n",
    "}\n",
    "var_explained_furthest"
   ]
  },
  {
   "cell_type": "code",
   "execution_count": 109,
   "metadata": {
    "collapsed": true
   },
   "outputs": [],
   "source": [
    "# Save elbow curve data of three initialization methods\n",
    "df_Kmeans_LASSO_Cleaned <- data.frame(k = c(3:13), \n",
    "                                      plusplus = c(var_explained_plusplus),\n",
    "                                      random = c(var_explained_random), \n",
    "                                      furthest = c(var_explained_furthest))"
   ]
  },
  {
   "cell_type": "code",
   "execution_count": 111,
   "metadata": {
    "collapsed": true
   },
   "outputs": [],
   "source": [
    "saveRDS(df_Kmeans_LASSO_Cleaned, \"Kmeans_LASSO_Cleaned.rds\")"
   ]
  },
  {
   "cell_type": "code",
   "execution_count": null,
   "metadata": {
    "collapsed": true
   },
   "outputs": [],
   "source": [
    "ls()"
   ]
  }
 ],
 "metadata": {
  "kernelspec": {
   "display_name": "R",
   "language": "R",
   "name": "ir"
  },
  "language_info": {
   "codemirror_mode": "r",
   "file_extension": ".r",
   "mimetype": "text/x-r-source",
   "name": "R",
   "pygments_lexer": "r",
   "version": "3.4.1"
  }
 },
 "nbformat": 4,
 "nbformat_minor": 2
}
