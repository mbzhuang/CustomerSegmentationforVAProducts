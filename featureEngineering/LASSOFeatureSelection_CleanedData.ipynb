{
 "cells": [
  {
   "cell_type": "markdown",
   "metadata": {},
   "source": [
    "### Data munging to get response variables for lapse and withdrawal"
   ]
  },
  {
   "cell_type": "code",
   "execution_count": 1,
   "metadata": {
    "collapsed": true
   },
   "outputs": [],
   "source": [
    "raw <- readRDS('/data/capstone_data/ClusterData_allPHB_allvendorvars_editedcolumns.rds')"
   ]
  },
  {
   "cell_type": "code",
   "execution_count": 2,
   "metadata": {
    "collapsed": true
   },
   "outputs": [],
   "source": [
    "response_df <- raw[, c(\"Surr\", \"Efficiency_Category_Sub\", \"WDResponse\")]"
   ]
  },
  {
   "cell_type": "code",
   "execution_count": 14,
   "metadata": {},
   "outputs": [
    {
     "data": {
      "text/plain": [
       "\n",
       "      0       1 \n",
       "4685495   47203 "
      ]
     },
     "metadata": {},
     "output_type": "display_data"
    }
   ],
   "source": [
    "table(response_df$Surr)"
   ]
  },
  {
   "cell_type": "code",
   "execution_count": 15,
   "metadata": {},
   "outputs": [
    {
     "data": {
      "text/plain": [
       "\n",
       "     E      I     O1     O2     O3     U1     U2     U3 \n",
       "519840 137400  71663  59541  84352  97670  82640  89552 "
      ]
     },
     "metadata": {},
     "output_type": "display_data"
    }
   ],
   "source": [
    "table(response_df$Efficiency_Category_Sub)"
   ]
  },
  {
   "cell_type": "code",
   "execution_count": 16,
   "metadata": {},
   "outputs": [
    {
     "data": {
      "text/plain": [
       "\n",
       "      0       1 \n",
       "3990289   50387 "
      ]
     },
     "metadata": {},
     "output_type": "display_data"
    }
   ],
   "source": [
    "table(response_df$WDResponse)"
   ]
  },
  {
   "cell_type": "code",
   "execution_count": 17,
   "metadata": {
    "collapsed": true
   },
   "outputs": [],
   "source": [
    "write.csv(response_df, file = \"/mnt/UW/outputDataset/response_3col.csv\")"
   ]
  },
  {
   "cell_type": "markdown",
   "metadata": {},
   "source": [
    "### Initiate h2o cluster to run glm with LASSO regularization"
   ]
  },
  {
   "cell_type": "code",
   "execution_count": 18,
   "metadata": {},
   "outputs": [
    {
     "name": "stderr",
     "output_type": "stream",
     "text": [
      "\n",
      "----------------------------------------------------------------------\n",
      "\n",
      "Your next step is to start H2O:\n",
      "    > h2o.init()\n",
      "\n",
      "For H2O package documentation, ask for help:\n",
      "    > ??h2o\n",
      "\n",
      "After starting H2O, you can use the Web UI at http://localhost:54321\n",
      "For more information visit http://docs.h2o.ai\n",
      "\n",
      "----------------------------------------------------------------------\n",
      "\n",
      "\n",
      "Attaching package: ‘h2o’\n",
      "\n",
      "The following object is masked from ‘package:RevoScaleR’:\n",
      "\n",
      "    colnames\n",
      "\n",
      "The following objects are masked from ‘package:stats’:\n",
      "\n",
      "    cor, sd, var\n",
      "\n",
      "The following objects are masked from ‘package:base’:\n",
      "\n",
      "    &&, %*%, %in%, ||, apply, as.factor, as.numeric, colnames,\n",
      "    colnames<-, ifelse, is.character, is.factor, is.numeric, log,\n",
      "    log10, log1p, log2, round, signif, trunc\n",
      "\n"
     ]
    },
    {
     "name": "stdout",
     "output_type": "stream",
     "text": [
      " Connection successful!\n",
      "\n",
      "R is connected to the H2O cluster: \n",
      "    H2O cluster uptime:         1 days 9 hours \n",
      "    H2O cluster version:        3.16.0.2 \n",
      "    H2O cluster version age:    2 months and 23 days  \n",
      "    H2O cluster name:           H2O_started_from_R_capsops_osa286 \n",
      "    H2O cluster total nodes:    1 \n",
      "    H2O cluster total memory:   325.59 GB \n",
      "    H2O cluster total cores:    64 \n",
      "    H2O cluster allowed cores:  64 \n",
      "    H2O cluster healthy:        TRUE \n",
      "    H2O Connection ip:          localhost \n",
      "    H2O Connection port:        54321 \n",
      "    H2O Connection proxy:       NA \n",
      "    H2O Internal Security:      FALSE \n",
      "    H2O API Extensions:         XGBoost, Algos, AutoML, Core V3, Core V4 \n",
      "    R Version:                  R version 3.4.1 (2017-06-30) \n",
      "\n"
     ]
    }
   ],
   "source": [
    "library(h2o)\n",
    "h2o.init(nthreads = -1, max_mem_size = '400G')"
   ]
  },
  {
   "cell_type": "markdown",
   "metadata": {},
   "source": [
    "#### 1. Read in predictors from the cleaned data set"
   ]
  },
  {
   "cell_type": "code",
   "execution_count": 20,
   "metadata": {},
   "outputs": [
    {
     "name": "stdout",
     "output_type": "stream",
     "text": [
      "  |======================================================================| 100%\n"
     ]
    }
   ],
   "source": [
    "predictors <- h2o.importFile(path = normalizePath(\"/mnt/UW/outputDataset/allDataCleaned.csv\")\n",
    "                           , destination_frame = \"predictors\")\n",
    "\n",
    "predictors$C1 <- NULL"
   ]
  },
  {
   "cell_type": "code",
   "execution_count": 21,
   "metadata": {},
   "outputs": [
    {
     "name": "stdout",
     "output_type": "stream",
     "text": [
      "  |======================================================================| 100%\n"
     ]
    }
   ],
   "source": [
    "response <- h2o.importFile(path = normalizePath(\"/mnt/UW/outputDataset/response_3col.csv\")\n",
    "                           , destination_frame = \"response\")\n",
    "\n",
    "response$C1 <- NULL"
   ]
  },
  {
   "cell_type": "code",
   "execution_count": 22,
   "metadata": {
    "collapsed": true
   },
   "outputs": [],
   "source": [
    "full <- h2o.cbind(response, predictors)"
   ]
  },
  {
   "cell_type": "code",
   "execution_count": 32,
   "metadata": {
    "collapsed": true
   },
   "outputs": [],
   "source": [
    "full$Surr <- as.factor(full$Surr)"
   ]
  },
  {
   "cell_type": "code",
   "execution_count": 33,
   "metadata": {
    "collapsed": true
   },
   "outputs": [],
   "source": [
    "full$Efficiency_Category_Sub <- as.factor(full$Efficiency_Category_Sub)\n",
    "full$WDResponse <- as.factor(full$WDResponse)"
   ]
  },
  {
   "cell_type": "code",
   "execution_count": 34,
   "metadata": {},
   "outputs": [],
   "source": [
    "full.split <- h2o.splitFrame(full, ratios = c(0.5, 0.2), seed = -1)"
   ]
  },
  {
   "cell_type": "code",
   "execution_count": 99,
   "metadata": {
    "collapsed": true
   },
   "outputs": [],
   "source": [
    "training <- full.split[[1]]\n",
    "validation <- full.split[[2]]"
   ]
  },
  {
   "cell_type": "code",
   "execution_count": 36,
   "metadata": {},
   "outputs": [
    {
     "data": {
      "text/html": [
       "<table>\n",
       "<thead><tr><th scope=col>Surr</th><th scope=col>Efficiency_Category_Sub</th><th scope=col>WDResponse</th><th scope=col>PolNum_UW</th><th scope=col>JointInd</th><th scope=col>GMDBInd</th><th scope=col>OriginalOwner_C1</th><th scope=col>Qual</th><th scope=col>EligibleInd</th><th scope=col>FirstEligQInd</th><th scope=col>⋯</th><th scope=col>i12ccsb1_C4</th><th scope=col>i12ccsu1_C4</th><th scope=col>i12ccsv1_C4</th><th scope=col>i12ccsc1_C4</th><th scope=col>i12ccsd1_C4</th><th scope=col>i12ccsc2_C4</th><th scope=col>i03cctl1_C4</th><th scope=col>i12cctl1_C4</th><th scope=col>i12mtsq1_C4</th><th scope=col>i06txsb1_C4</th></tr></thead>\n",
       "<tbody>\n",
       "\t<tr><td>0        </td><td>NA       </td><td>NA       </td><td> 86766   </td><td> 1       </td><td>-1       </td><td> -1      </td><td>-1       </td><td>NaN      </td><td>NaN      </td><td>⋯        </td><td>  0.2    </td><td> 0.0     </td><td> 0.0     </td><td> 0.00000 </td><td>  0      </td><td>-0.500000</td><td> 13.1000 </td><td>100.300  </td><td>0.0      </td><td>0.0      </td></tr>\n",
       "\t<tr><td>0        </td><td>NA       </td><td>NA       </td><td>476073   </td><td> 1       </td><td>-1       </td><td> -1      </td><td>-1       </td><td>NaN      </td><td>NaN      </td><td>⋯        </td><td> 19.6    </td><td> 1.2     </td><td>-4.1     </td><td>43.27141 </td><td>  0      </td><td> 0.100000</td><td>-30.9000 </td><td>-22.200  </td><td>0.0      </td><td>0.2      </td></tr>\n",
       "\t<tr><td>0        </td><td>NA       </td><td>NA       </td><td>179630   </td><td> 1       </td><td>-1       </td><td>NaN      </td><td>-1       </td><td>NaN      </td><td>NaN      </td><td>⋯        </td><td>  NaN    </td><td> NaN     </td><td> NaN     </td><td>     NaN </td><td>NaN      </td><td>      NaN</td><td>     NaN </td><td>    NaN  </td><td>NaN      </td><td>NaN      </td></tr>\n",
       "\t<tr><td>0        </td><td>NA       </td><td>NA       </td><td>500356   </td><td>-1       </td><td>-1       </td><td> -1      </td><td>-1       </td><td>NaN      </td><td>NaN      </td><td>⋯        </td><td> -0.7    </td><td>-0.1     </td><td> 0.0     </td><td> 0.00000 </td><td>  0      </td><td> 0.000000</td><td>  0.0000 </td><td>  2.800  </td><td>0.0      </td><td>0.0      </td></tr>\n",
       "\t<tr><td>0        </td><td>NA       </td><td>NA       </td><td>204012   </td><td>-1       </td><td>-1       </td><td> -1      </td><td>-1       </td><td>NaN      </td><td>NaN      </td><td>⋯        </td><td>-34.1    </td><td>-0.7     </td><td>-1.0     </td><td>29.90000 </td><td>  0      </td><td>-1.303578</td><td>178.3204 </td><td>318.139  </td><td>0.0      </td><td>0.0      </td></tr>\n",
       "\t<tr><td>0        </td><td>NA       </td><td>NA       </td><td>481439   </td><td> 1       </td><td>-1       </td><td> -1      </td><td>-1       </td><td>NaN      </td><td>NaN      </td><td>⋯        </td><td>  0.0    </td><td> 0.0     </td><td>-0.9     </td><td>33.10000 </td><td>  0      </td><td> 1.100000</td><td>  0.0000 </td><td>  8.900  </td><td>0.1      </td><td>0.0      </td></tr>\n",
       "</tbody>\n",
       "</table>\n"
      ],
      "text/latex": [
       "\\begin{tabular}{r|lllllllllllllllllllllllllllllllllllllllllllllllllllllllllllllllllllllllllllllllllllllllllllllllllllllllllllllllllllllllllllllllllllllllllllllllllllllllllllllllllllllllllllllllllllllllllllllllllllllllllllllllllllllllllllllllllllllllllllllllllllllllllllllllllllllllllllllllllllllllllllllllllllllllllllllllllllllllllllllllllllllllllllllllllllllllllllllllllllllllllllllllllllllllllllllllllllllllllllllllllllllllllllllllllllllllllllllllllllllllllllllllllllllllllllllllllllllllllllllllllllllllllllllllllllllllllllllllll}\n",
       " Surr & Efficiency\\_Category\\_Sub & WDResponse & PolNum\\_UW & JointInd & GMDBInd & OriginalOwner\\_C1 & Qual & EligibleInd & FirstEligQInd & ⋯ & i12ccsb1\\_C4 & i12ccsu1\\_C4 & i12ccsv1\\_C4 & i12ccsc1\\_C4 & i12ccsd1\\_C4 & i12ccsc2\\_C4 & i03cctl1\\_C4 & i12cctl1\\_C4 & i12mtsq1\\_C4 & i06txsb1\\_C4\\\\\n",
       "\\hline\n",
       "\t 0         & NA        & NA        &  86766    &  1        & -1        &  -1       & -1        & NaN       & NaN       & ⋯         &   0.2     &  0.0      &  0.0      &  0.00000  &   0       & -0.500000 &  13.1000  & 100.300   & 0.0       & 0.0      \\\\\n",
       "\t 0         & NA        & NA        & 476073    &  1        & -1        &  -1       & -1        & NaN       & NaN       & ⋯         &  19.6     &  1.2      & -4.1      & 43.27141  &   0       &  0.100000 & -30.9000  & -22.200   & 0.0       & 0.2      \\\\\n",
       "\t 0         & NA        & NA        & 179630    &  1        & -1        & NaN       & -1        & NaN       & NaN       & ⋯         &   NaN     &  NaN      &  NaN      &      NaN  & NaN       &       NaN &      NaN  &     NaN   & NaN       & NaN      \\\\\n",
       "\t 0         & NA        & NA        & 500356    & -1        & -1        &  -1       & -1        & NaN       & NaN       & ⋯         &  -0.7     & -0.1      &  0.0      &  0.00000  &   0       &  0.000000 &   0.0000  &   2.800   & 0.0       & 0.0      \\\\\n",
       "\t 0         & NA        & NA        & 204012    & -1        & -1        &  -1       & -1        & NaN       & NaN       & ⋯         & -34.1     & -0.7      & -1.0      & 29.90000  &   0       & -1.303578 & 178.3204  & 318.139   & 0.0       & 0.0      \\\\\n",
       "\t 0         & NA        & NA        & 481439    &  1        & -1        &  -1       & -1        & NaN       & NaN       & ⋯         &   0.0     &  0.0      & -0.9      & 33.10000  &   0       &  1.100000 &   0.0000  &   8.900   & 0.1       & 0.0      \\\\\n",
       "\\end{tabular}\n"
      ],
      "text/markdown": [
       "\n",
       "Surr | Efficiency_Category_Sub | WDResponse | PolNum_UW | JointInd | GMDBInd | OriginalOwner_C1 | Qual | EligibleInd | FirstEligQInd | ⋯ | i12ccsb1_C4 | i12ccsu1_C4 | i12ccsv1_C4 | i12ccsc1_C4 | i12ccsd1_C4 | i12ccsc2_C4 | i03cctl1_C4 | i12cctl1_C4 | i12mtsq1_C4 | i06txsb1_C4 | \n",
       "|---|---|---|---|---|---|\n",
       "| 0         | NA        | NA        |  86766    |  1        | -1        |  -1       | -1        | NaN       | NaN       | ⋯         |   0.2     |  0.0      |  0.0      |  0.00000  |   0       | -0.500000 |  13.1000  | 100.300   | 0.0       | 0.0       | \n",
       "| 0         | NA        | NA        | 476073    |  1        | -1        |  -1       | -1        | NaN       | NaN       | ⋯         |  19.6     |  1.2      | -4.1      | 43.27141  |   0       |  0.100000 | -30.9000  | -22.200   | 0.0       | 0.2       | \n",
       "| 0         | NA        | NA        | 179630    |  1        | -1        | NaN       | -1        | NaN       | NaN       | ⋯         |   NaN     |  NaN      |  NaN      |      NaN  | NaN       |       NaN |      NaN  |     NaN   | NaN       | NaN       | \n",
       "| 0         | NA        | NA        | 500356    | -1        | -1        |  -1       | -1        | NaN       | NaN       | ⋯         |  -0.7     | -0.1      |  0.0      |  0.00000  |   0       |  0.000000 |   0.0000  |   2.800   | 0.0       | 0.0       | \n",
       "| 0         | NA        | NA        | 204012    | -1        | -1        |  -1       | -1        | NaN       | NaN       | ⋯         | -34.1     | -0.7      | -1.0      | 29.90000  |   0       | -1.303578 | 178.3204  | 318.139   | 0.0       | 0.0       | \n",
       "| 0         | NA        | NA        | 481439    |  1        | -1        |  -1       | -1        | NaN       | NaN       | ⋯         |   0.0     |  0.0      | -0.9      | 33.10000  |   0       |  1.100000 |   0.0000  |   8.900   | 0.1       | 0.0       | \n",
       "\n",
       "\n"
      ],
      "text/plain": [
       "  Surr Efficiency_Category_Sub WDResponse PolNum_UW JointInd GMDBInd\n",
       "1 0    NA                      NA          86766     1       -1     \n",
       "2 0    NA                      NA         476073     1       -1     \n",
       "3 0    NA                      NA         179630     1       -1     \n",
       "4 0    NA                      NA         500356    -1       -1     \n",
       "5 0    NA                      NA         204012    -1       -1     \n",
       "6 0    NA                      NA         481439     1       -1     \n",
       "  OriginalOwner_C1 Qual EligibleInd FirstEligQInd ⋯ i12ccsb1_C4 i12ccsu1_C4\n",
       "1  -1              -1   NaN         NaN           ⋯   0.2        0.0       \n",
       "2  -1              -1   NaN         NaN           ⋯  19.6        1.2       \n",
       "3 NaN              -1   NaN         NaN           ⋯   NaN        NaN       \n",
       "4  -1              -1   NaN         NaN           ⋯  -0.7       -0.1       \n",
       "5  -1              -1   NaN         NaN           ⋯ -34.1       -0.7       \n",
       "6  -1              -1   NaN         NaN           ⋯   0.0        0.0       \n",
       "  i12ccsv1_C4 i12ccsc1_C4 i12ccsd1_C4 i12ccsc2_C4 i03cctl1_C4 i12cctl1_C4\n",
       "1  0.0         0.00000      0         -0.500000    13.1000    100.300    \n",
       "2 -4.1        43.27141      0          0.100000   -30.9000    -22.200    \n",
       "3  NaN             NaN    NaN               NaN        NaN        NaN    \n",
       "4  0.0         0.00000      0          0.000000     0.0000      2.800    \n",
       "5 -1.0        29.90000      0         -1.303578   178.3204    318.139    \n",
       "6 -0.9        33.10000      0          1.100000     0.0000      8.900    \n",
       "  i12mtsq1_C4 i06txsb1_C4\n",
       "1 0.0         0.0        \n",
       "2 0.0         0.2        \n",
       "3 NaN         NaN        \n",
       "4 0.0         0.0        \n",
       "5 0.0         0.0        \n",
       "6 0.1         0.0        "
      ]
     },
     "metadata": {},
     "output_type": "display_data"
    }
   ],
   "source": [
    "head(validation)"
   ]
  },
  {
   "cell_type": "markdown",
   "metadata": {},
   "source": [
    "h2o.glm(x, y, training_frame = , model_id, validation_frame = NULL,\n",
    "  ignore_const_cols = TRUE, max_iterations = 50, beta_epsilon = 0,\n",
    "  solver = c(\"IRLSM\", \"L_BFGS\"), standardize = TRUE,\n",
    "  family = c(\"gaussian\", \"binomial\", \"poisson\", \"gamma\", \"tweedie\",\n",
    "  \"multinomial\"), link = c(\"family_default\", \"identity\", \"logit\", \"log\",\n",
    "  \"inverse\", \"tweedie\"), tweedie_variance_power = NaN,\n",
    "  tweedie_link_power = NaN, alpha = 0.5, prior = NULL, lambda = 1e-05,\n",
    "  lambda_search = FALSE, nlambdas = -1, lambda_min_ratio = -1,\n",
    "  nfolds = 0, fold_column = NULL, fold_assignment = c(\"AUTO\", \"Random\",\n",
    "  \"Modulo\"), keep_cross_validation_predictions = FALSE,\n",
    "  beta_constraints = NULL, offset_column = NULL, weights_column = NULL,\n",
    "  intercept = TRUE, max_active_predictors = -1, objective_epsilon = -1,\n",
    "  gradient_epsilon = -1, non_negative = FALSE, compute_p_values = FALSE,\n",
    "  remove_collinear_columns = FALSE, max_runtime_secs = 0,\n",
    "  missing_values_handling = c(\"MeanImputation\", \"Skip\"))"
   ]
  },
  {
   "cell_type": "code",
   "execution_count": 90,
   "metadata": {
    "collapsed": true
   },
   "outputs": [],
   "source": [
    "x <- names(full)[!names(full) %in% c(\"Surr\", \"Efficiency_Category_Sub\", \"WDResponse\", \"PolNum_UW\", \"AVPctEq\",\n",
    "                                     'JointInd', 'GMDBInd', 'Qual', 'EligibleInd', 'FirstEligQInd', 'UtilizationInd', \n",
    "                                     'Dist', 'Comm', 'Dur', 'SCPeriod', 'WDCount', 'AV', 'WDtoDate')]"
   ]
  },
  {
   "cell_type": "markdown",
   "metadata": {},
   "source": [
    "#### 2. Lapse glm model with LASSO regularization"
   ]
  },
  {
   "cell_type": "code",
   "execution_count": 91,
   "metadata": {},
   "outputs": [
    {
     "name": "stdout",
     "output_type": "stream",
     "text": [
      "  |======================================================================| 100%\n"
     ]
    }
   ],
   "source": [
    "surr_fit <- h2o.glm(x, \"Surr\", training_frame = training, validation_frame = validation, family = \"binomial\", \n",
    "               alpha = 1, # LASSO\n",
    "               standardize=TRUE,\n",
    "               lambda_search = TRUE, nlambdas = 100, \n",
    "               lambda_min_ratio = 0.0001, nfolds = 0)"
   ]
  },
  {
   "cell_type": "code",
   "execution_count": 92,
   "metadata": {},
   "outputs": [
    {
     "data": {
      "text/html": [
       "<table>\n",
       "<thead><tr><th scope=col>family</th><th scope=col>link</th><th scope=col>regularization</th><th scope=col>lambda_search</th><th scope=col>number_of_predictors_total</th><th scope=col>number_of_active_predictors</th><th scope=col>number_of_iterations</th><th scope=col>training_frame</th></tr></thead>\n",
       "<tbody>\n",
       "\t<tr><td>binomial                                                                     </td><td>logit                                                                        </td><td>Lasso (lambda = 2.259E-5 )                                                   </td><td>nlambda = 100, lambda.max = 0.00454, lambda.min = 2.259E-5, lambda.1se = -1.0</td><td>514                                                                          </td><td>313                                                                          </td><td>67                                                                           </td><td>RTMP_sid_9344_14                                                             </td></tr>\n",
       "</tbody>\n",
       "</table>\n"
      ],
      "text/latex": [
       "\\begin{tabular}{r|llllllll}\n",
       " family & link & regularization & lambda\\_search & number\\_of\\_predictors\\_total & number\\_of\\_active\\_predictors & number\\_of\\_iterations & training\\_frame\\\\\n",
       "\\hline\n",
       "\t binomial                                                                      & logit                                                                         & Lasso (lambda = 2.259E-5 )                                                    & nlambda = 100, lambda.max = 0.00454, lambda.min = 2.259E-5, lambda.1se = -1.0 & 514                                                                           & 313                                                                           & 67                                                                            & RTMP\\_sid\\_9344\\_14                                                       \\\\\n",
       "\\end{tabular}\n"
      ],
      "text/markdown": [
       "\n",
       "family | link | regularization | lambda_search | number_of_predictors_total | number_of_active_predictors | number_of_iterations | training_frame | \n",
       "|---|\n",
       "| binomial                                                                      | logit                                                                         | Lasso (lambda = 2.259E-5 )                                                    | nlambda = 100, lambda.max = 0.00454, lambda.min = 2.259E-5, lambda.1se = -1.0 | 514                                                                           | 313                                                                           | 67                                                                            | RTMP_sid_9344_14                                                              | \n",
       "\n",
       "\n"
      ],
      "text/plain": [
       "  family   link  regularization            \n",
       "1 binomial logit Lasso (lambda = 2.259E-5 )\n",
       "  lambda_search                                                                \n",
       "1 nlambda = 100, lambda.max = 0.00454, lambda.min = 2.259E-5, lambda.1se = -1.0\n",
       "  number_of_predictors_total number_of_active_predictors number_of_iterations\n",
       "1 514                        313                         67                  \n",
       "  training_frame  \n",
       "1 RTMP_sid_9344_14"
      ]
     },
     "metadata": {},
     "output_type": "display_data"
    }
   ],
   "source": [
    "surr_fit@model$model_summary"
   ]
  },
  {
   "cell_type": "code",
   "execution_count": 94,
   "metadata": {},
   "outputs": [],
   "source": [
    "surr_var <- surr_fit@model$standardized_coefficient_magnitudes[1:50,]$names"
   ]
  },
  {
   "cell_type": "code",
   "execution_count": 95,
   "metadata": {},
   "outputs": [
    {
     "data": {
      "text/html": [
       "<ol class=list-inline>\n",
       "\t<li>'score_C4'</li>\n",
       "\t<li>'IssAgeALB'</li>\n",
       "\t<li>'Household.Size.Indicator_C3.H'</li>\n",
       "\t<li>'iat01_C4'</li>\n",
       "\t<li>'iat02_C4'</li>\n",
       "\t<li>'iat33_C4'</li>\n",
       "\t<li>'Presence.of.Kids.Indicator_C3.S'</li>\n",
       "\t<li>'Nielsen.County.Size.Code_C3.A'</li>\n",
       "\t<li>'i12ccdu1_C4'</li>\n",
       "\t<li>'Home.Owner.Renter.Indicator_C3.H'</li>\n",
       "\t<li>'imt02y5_C4'</li>\n",
       "\t<li>'finscr_C4'</li>\n",
       "\t<li>'Number.of.Active.Sources_C3'</li>\n",
       "\t<li>'imt20_C4'</li>\n",
       "\t<li>'imt01_C4'</li>\n",
       "\t<li>'curaddr_C4'</li>\n",
       "\t<li>'iat34_C4'</li>\n",
       "\t<li>'icc33_C4'</li>\n",
       "\t<li>'is004y5_C4'</li>\n",
       "\t<li>'CEN_bg_pctWorkforceForProfit'</li>\n",
       "\t<li>'HealthScore_C5'</li>\n",
       "\t<li>'i12ccpq4_C4'</li>\n",
       "\t<li>'iat89_C4'</li>\n",
       "\t<li>'ifn01_C4'</li>\n",
       "\t<li>'ibr07_C4'</li>\n",
       "\t<li>'CEN_tr_pctWorkforceGovt'</li>\n",
       "\t<li>'i12inpq4_C4'</li>\n",
       "\t<li>'CEN_tr_pctHHInvestIncome'</li>\n",
       "\t<li>'icc21_C4'</li>\n",
       "\t<li>'imt07_C4'</li>\n",
       "\t<li>'imt96_C4'</li>\n",
       "\t<li>'i24txtb1_C4'</li>\n",
       "\t<li>'CEN_tr_pctHSGrad'</li>\n",
       "\t<li>'i12cctc1_C4'</li>\n",
       "\t<li>'imt01y5_C4'</li>\n",
       "\t<li>'i12cctq1_C4'</li>\n",
       "\t<li>'ire103_C4'</li>\n",
       "\t<li>'icc41_C4'</li>\n",
       "\t<li>'CEN_bg_pctHHincomeLT15K'</li>\n",
       "\t<li>'Household.Size.Indicator_C3.S'</li>\n",
       "\t<li>'CEN_tr_pctOwnOccValGE100K'</li>\n",
       "\t<li>'OriginalOwner_C1'</li>\n",
       "\t<li>'ihi20_C4'</li>\n",
       "\t<li>'CEN_bg_pctEducationIndustry'</li>\n",
       "\t<li>'i03inpq4_C4'</li>\n",
       "\t<li>'iat51y5_C4'</li>\n",
       "\t<li>'i12cctl1_C4'</li>\n",
       "\t<li>'ifn102_C4'</li>\n",
       "\t<li>'Housing.Units.Percent.5.Units_C3'</li>\n",
       "\t<li>'CEN_tr_pctOwnOccSecondMort'</li>\n",
       "</ol>\n"
      ],
      "text/latex": [
       "\\begin{enumerate*}\n",
       "\\item 'score\\_C4'\n",
       "\\item 'IssAgeALB'\n",
       "\\item 'Household.Size.Indicator\\_C3.H'\n",
       "\\item 'iat01\\_C4'\n",
       "\\item 'iat02\\_C4'\n",
       "\\item 'iat33\\_C4'\n",
       "\\item 'Presence.of.Kids.Indicator\\_C3.S'\n",
       "\\item 'Nielsen.County.Size.Code\\_C3.A'\n",
       "\\item 'i12ccdu1\\_C4'\n",
       "\\item 'Home.Owner.Renter.Indicator\\_C3.H'\n",
       "\\item 'imt02y5\\_C4'\n",
       "\\item 'finscr\\_C4'\n",
       "\\item 'Number.of.Active.Sources\\_C3'\n",
       "\\item 'imt20\\_C4'\n",
       "\\item 'imt01\\_C4'\n",
       "\\item 'curaddr\\_C4'\n",
       "\\item 'iat34\\_C4'\n",
       "\\item 'icc33\\_C4'\n",
       "\\item 'is004y5\\_C4'\n",
       "\\item 'CEN\\_bg\\_pctWorkforceForProfit'\n",
       "\\item 'HealthScore\\_C5'\n",
       "\\item 'i12ccpq4\\_C4'\n",
       "\\item 'iat89\\_C4'\n",
       "\\item 'ifn01\\_C4'\n",
       "\\item 'ibr07\\_C4'\n",
       "\\item 'CEN\\_tr\\_pctWorkforceGovt'\n",
       "\\item 'i12inpq4\\_C4'\n",
       "\\item 'CEN\\_tr\\_pctHHInvestIncome'\n",
       "\\item 'icc21\\_C4'\n",
       "\\item 'imt07\\_C4'\n",
       "\\item 'imt96\\_C4'\n",
       "\\item 'i24txtb1\\_C4'\n",
       "\\item 'CEN\\_tr\\_pctHSGrad'\n",
       "\\item 'i12cctc1\\_C4'\n",
       "\\item 'imt01y5\\_C4'\n",
       "\\item 'i12cctq1\\_C4'\n",
       "\\item 'ire103\\_C4'\n",
       "\\item 'icc41\\_C4'\n",
       "\\item 'CEN\\_bg\\_pctHHincomeLT15K'\n",
       "\\item 'Household.Size.Indicator\\_C3.S'\n",
       "\\item 'CEN\\_tr\\_pctOwnOccValGE100K'\n",
       "\\item 'OriginalOwner\\_C1'\n",
       "\\item 'ihi20\\_C4'\n",
       "\\item 'CEN\\_bg\\_pctEducationIndustry'\n",
       "\\item 'i03inpq4\\_C4'\n",
       "\\item 'iat51y5\\_C4'\n",
       "\\item 'i12cctl1\\_C4'\n",
       "\\item 'ifn102\\_C4'\n",
       "\\item 'Housing.Units.Percent.5.Units\\_C3'\n",
       "\\item 'CEN\\_tr\\_pctOwnOccSecondMort'\n",
       "\\end{enumerate*}\n"
      ],
      "text/markdown": [
       "1. 'score_C4'\n",
       "2. 'IssAgeALB'\n",
       "3. 'Household.Size.Indicator_C3.H'\n",
       "4. 'iat01_C4'\n",
       "5. 'iat02_C4'\n",
       "6. 'iat33_C4'\n",
       "7. 'Presence.of.Kids.Indicator_C3.S'\n",
       "8. 'Nielsen.County.Size.Code_C3.A'\n",
       "9. 'i12ccdu1_C4'\n",
       "10. 'Home.Owner.Renter.Indicator_C3.H'\n",
       "11. 'imt02y5_C4'\n",
       "12. 'finscr_C4'\n",
       "13. 'Number.of.Active.Sources_C3'\n",
       "14. 'imt20_C4'\n",
       "15. 'imt01_C4'\n",
       "16. 'curaddr_C4'\n",
       "17. 'iat34_C4'\n",
       "18. 'icc33_C4'\n",
       "19. 'is004y5_C4'\n",
       "20. 'CEN_bg_pctWorkforceForProfit'\n",
       "21. 'HealthScore_C5'\n",
       "22. 'i12ccpq4_C4'\n",
       "23. 'iat89_C4'\n",
       "24. 'ifn01_C4'\n",
       "25. 'ibr07_C4'\n",
       "26. 'CEN_tr_pctWorkforceGovt'\n",
       "27. 'i12inpq4_C4'\n",
       "28. 'CEN_tr_pctHHInvestIncome'\n",
       "29. 'icc21_C4'\n",
       "30. 'imt07_C4'\n",
       "31. 'imt96_C4'\n",
       "32. 'i24txtb1_C4'\n",
       "33. 'CEN_tr_pctHSGrad'\n",
       "34. 'i12cctc1_C4'\n",
       "35. 'imt01y5_C4'\n",
       "36. 'i12cctq1_C4'\n",
       "37. 'ire103_C4'\n",
       "38. 'icc41_C4'\n",
       "39. 'CEN_bg_pctHHincomeLT15K'\n",
       "40. 'Household.Size.Indicator_C3.S'\n",
       "41. 'CEN_tr_pctOwnOccValGE100K'\n",
       "42. 'OriginalOwner_C1'\n",
       "43. 'ihi20_C4'\n",
       "44. 'CEN_bg_pctEducationIndustry'\n",
       "45. 'i03inpq4_C4'\n",
       "46. 'iat51y5_C4'\n",
       "47. 'i12cctl1_C4'\n",
       "48. 'ifn102_C4'\n",
       "49. 'Housing.Units.Percent.5.Units_C3'\n",
       "50. 'CEN_tr_pctOwnOccSecondMort'\n",
       "\n",
       "\n"
      ],
      "text/plain": [
       " [1] \"score_C4\"                         \"IssAgeALB\"                       \n",
       " [3] \"Household.Size.Indicator_C3.H\"    \"iat01_C4\"                        \n",
       " [5] \"iat02_C4\"                         \"iat33_C4\"                        \n",
       " [7] \"Presence.of.Kids.Indicator_C3.S\"  \"Nielsen.County.Size.Code_C3.A\"   \n",
       " [9] \"i12ccdu1_C4\"                      \"Home.Owner.Renter.Indicator_C3.H\"\n",
       "[11] \"imt02y5_C4\"                       \"finscr_C4\"                       \n",
       "[13] \"Number.of.Active.Sources_C3\"      \"imt20_C4\"                        \n",
       "[15] \"imt01_C4\"                         \"curaddr_C4\"                      \n",
       "[17] \"iat34_C4\"                         \"icc33_C4\"                        \n",
       "[19] \"is004y5_C4\"                       \"CEN_bg_pctWorkforceForProfit\"    \n",
       "[21] \"HealthScore_C5\"                   \"i12ccpq4_C4\"                     \n",
       "[23] \"iat89_C4\"                         \"ifn01_C4\"                        \n",
       "[25] \"ibr07_C4\"                         \"CEN_tr_pctWorkforceGovt\"         \n",
       "[27] \"i12inpq4_C4\"                      \"CEN_tr_pctHHInvestIncome\"        \n",
       "[29] \"icc21_C4\"                         \"imt07_C4\"                        \n",
       "[31] \"imt96_C4\"                         \"i24txtb1_C4\"                     \n",
       "[33] \"CEN_tr_pctHSGrad\"                 \"i12cctc1_C4\"                     \n",
       "[35] \"imt01y5_C4\"                       \"i12cctq1_C4\"                     \n",
       "[37] \"ire103_C4\"                        \"icc41_C4\"                        \n",
       "[39] \"CEN_bg_pctHHincomeLT15K\"          \"Household.Size.Indicator_C3.S\"   \n",
       "[41] \"CEN_tr_pctOwnOccValGE100K\"        \"OriginalOwner_C1\"                \n",
       "[43] \"ihi20_C4\"                         \"CEN_bg_pctEducationIndustry\"     \n",
       "[45] \"i03inpq4_C4\"                      \"iat51y5_C4\"                      \n",
       "[47] \"i12cctl1_C4\"                      \"ifn102_C4\"                       \n",
       "[49] \"Housing.Units.Percent.5.Units_C3\" \"CEN_tr_pctOwnOccSecondMort\"      "
      ]
     },
     "metadata": {},
     "output_type": "display_data"
    }
   ],
   "source": [
    "surr_var"
   ]
  },
  {
   "cell_type": "markdown",
   "metadata": {},
   "source": [
    "#### 3. Withdrawal efficiency group glm model with LASSO regularization"
   ]
  },
  {
   "cell_type": "code",
   "execution_count": 103,
   "metadata": {},
   "outputs": [
    {
     "data": {
      "text/plain": [
       "  Efficiency_Category_Sub  Count\n",
       "1                       E 103636\n",
       "2                       I  27432\n",
       "3                      O1  14336\n",
       "4                      O2  11908\n",
       "5                      O3  16661\n",
       "6                      U1  19662\n",
       "\n",
       "[8 rows x 2 columns] "
      ]
     },
     "metadata": {},
     "output_type": "display_data"
    }
   ],
   "source": [
    "# Remove rows that are NA for 'Efficiency_Category_Sub' variable, because they are likely to be \n",
    "# policys that haven't started utilization.\n",
    "\n",
    "training = training[training$Efficiency_Category_Sub != \"NA\",]\n",
    "validation = validation[validation$Efficiency_Category_Sub != \"NA\",]\n",
    "#h2o.table(validation$Efficiency_Category_Sub)"
   ]
  },
  {
   "cell_type": "code",
   "execution_count": 104,
   "metadata": {},
   "outputs": [
    {
     "name": "stdout",
     "output_type": "stream",
     "text": [
      "  |======================================================================| 100%\n"
     ]
    }
   ],
   "source": [
    "eff_group_fit <- h2o.glm(x, \"Efficiency_Category_Sub\", training_frame = training, validation_frame = validation, family = \"multinomial\", \n",
    "                           alpha = 1, # LASSO\n",
    "                           standardize=TRUE,\n",
    "                           lambda_search = TRUE, nlambdas = 100, \n",
    "                           lambda_min_ratio = 0.0001, nfolds = 0)"
   ]
  },
  {
   "cell_type": "code",
   "execution_count": 105,
   "metadata": {},
   "outputs": [
    {
     "data": {
      "text/html": [
       "<table>\n",
       "<thead><tr><th scope=col>family</th><th scope=col>link</th><th scope=col>regularization</th><th scope=col>lambda_search</th><th scope=col>number_of_predictors_total</th><th scope=col>number_of_active_predictors</th><th scope=col>number_of_iterations</th><th scope=col>training_frame</th></tr></thead>\n",
       "<tbody>\n",
       "\t<tr><td>multinomial                                                                  </td><td>multinomial                                                                  </td><td>Lasso (lambda = 6.531E-5 )                                                   </td><td>nlambda = 100, lambda.max = 0.04827, lambda.min = 6.531E-5, lambda.1se = -1.0</td><td>4635                                                                         </td><td>3022                                                                         </td><td>78                                                                           </td><td>RTMP_sid_9344_26                                                             </td></tr>\n",
       "</tbody>\n",
       "</table>\n"
      ],
      "text/latex": [
       "\\begin{tabular}{r|llllllll}\n",
       " family & link & regularization & lambda\\_search & number\\_of\\_predictors\\_total & number\\_of\\_active\\_predictors & number\\_of\\_iterations & training\\_frame\\\\\n",
       "\\hline\n",
       "\t multinomial                                                                   & multinomial                                                                   & Lasso (lambda = 6.531E-5 )                                                    & nlambda = 100, lambda.max = 0.04827, lambda.min = 6.531E-5, lambda.1se = -1.0 & 4635                                                                          & 3022                                                                          & 78                                                                            & RTMP\\_sid\\_9344\\_26                                                       \\\\\n",
       "\\end{tabular}\n"
      ],
      "text/markdown": [
       "\n",
       "family | link | regularization | lambda_search | number_of_predictors_total | number_of_active_predictors | number_of_iterations | training_frame | \n",
       "|---|\n",
       "| multinomial                                                                   | multinomial                                                                   | Lasso (lambda = 6.531E-5 )                                                    | nlambda = 100, lambda.max = 0.04827, lambda.min = 6.531E-5, lambda.1se = -1.0 | 4635                                                                          | 3022                                                                          | 78                                                                            | RTMP_sid_9344_26                                                              | \n",
       "\n",
       "\n"
      ],
      "text/plain": [
       "  family      link        regularization            \n",
       "1 multinomial multinomial Lasso (lambda = 6.531E-5 )\n",
       "  lambda_search                                                                \n",
       "1 nlambda = 100, lambda.max = 0.04827, lambda.min = 6.531E-5, lambda.1se = -1.0\n",
       "  number_of_predictors_total number_of_active_predictors number_of_iterations\n",
       "1 4635                       3022                        78                  \n",
       "  training_frame  \n",
       "1 RTMP_sid_9344_26"
      ]
     },
     "metadata": {},
     "output_type": "display_data"
    }
   ],
   "source": [
    "eff_group_fit@model$model_summary"
   ]
  },
  {
   "cell_type": "code",
   "execution_count": 106,
   "metadata": {
    "collapsed": true
   },
   "outputs": [],
   "source": [
    "eff_group_var <- eff_group_fit@model$standardized_coefficient_magnitudes[1:50,]$names"
   ]
  },
  {
   "cell_type": "code",
   "execution_count": 107,
   "metadata": {},
   "outputs": [
    {
     "data": {
      "text/html": [
       "<ol class=list-inline>\n",
       "\t<li>'IssAgeALB'</li>\n",
       "\t<li>'score_C4'</li>\n",
       "\t<li>'i12ccpc1_C4'</li>\n",
       "\t<li>'Household.Size.Indicator_C3.H'</li>\n",
       "\t<li>'iat52_C4'</li>\n",
       "\t<li>'finscr_C4'</li>\n",
       "\t<li>'Gender.M'</li>\n",
       "\t<li>'i12ccpq4_C4'</li>\n",
       "\t<li>'Target.Narrow.Band.Income_num'</li>\n",
       "\t<li>'imt31_C4'</li>\n",
       "\t<li>'imt01_C4'</li>\n",
       "\t<li>'iau01y5_C4'</li>\n",
       "\t<li>'iat34_C4'</li>\n",
       "\t<li>'ihi20_C4'</li>\n",
       "\t<li>'Home.Owner.Renter.Indicator_C3.H'</li>\n",
       "\t<li>'iat01_C4'</li>\n",
       "\t<li>'HealthScore_C5'</li>\n",
       "\t<li>'i12ccnb1_C4'</li>\n",
       "\t<li>'iat34xam_C4'</li>\n",
       "\t<li>'ibr34_C4'</li>\n",
       "\t<li>'CEN_tr_pctHHincomeGE200K'</li>\n",
       "\t<li>'is004_C4'</li>\n",
       "\t<li>'ibr33_C4'</li>\n",
       "\t<li>'imt41_C4'</li>\n",
       "\t<li>'iin01y5_C4'</li>\n",
       "\t<li>'ire103_C4'</li>\n",
       "\t<li>'i12ccpq2_C4'</li>\n",
       "\t<li>'Presence.of.Kids.Indicator_C3.S'</li>\n",
       "\t<li>'imt02y5_C4'</li>\n",
       "\t<li>'iat07_C4'</li>\n",
       "\t<li>'CEN_bg_pctSeasonalHousingUnits'</li>\n",
       "\t<li>'iat33_C4'</li>\n",
       "\t<li>'iat89_C4'</li>\n",
       "\t<li>'LotSize_C1'</li>\n",
       "\t<li>'ire31_C4'</li>\n",
       "\t<li>'Length.of.Residence_num'</li>\n",
       "\t<li>'EstMarketValue_C1'</li>\n",
       "\t<li>'ifn01y5_C4'</li>\n",
       "\t<li>'CEN_bg_pctConstructionIndustry'</li>\n",
       "\t<li>'iat31xam_C4'</li>\n",
       "\t<li>'CEN_bg_pctLiveAloneHH'</li>\n",
       "\t<li>'ihi01y5_C4'</li>\n",
       "\t<li>'Living.Area.Square.Feet_num'</li>\n",
       "\t<li>'ifn01_C4'</li>\n",
       "\t<li>'imt01y5_C4'</li>\n",
       "\t<li>'CEN_tr_pctHHSocialSecurityIncome'</li>\n",
       "\t<li>'ibr41_C4'</li>\n",
       "\t<li>'CEN_tr_pctOwnOccValGE100K'</li>\n",
       "\t<li>'Mortgage.Liability_C3'</li>\n",
       "\t<li>'icc31_C4'</li>\n",
       "</ol>\n"
      ],
      "text/latex": [
       "\\begin{enumerate*}\n",
       "\\item 'IssAgeALB'\n",
       "\\item 'score\\_C4'\n",
       "\\item 'i12ccpc1\\_C4'\n",
       "\\item 'Household.Size.Indicator\\_C3.H'\n",
       "\\item 'iat52\\_C4'\n",
       "\\item 'finscr\\_C4'\n",
       "\\item 'Gender.M'\n",
       "\\item 'i12ccpq4\\_C4'\n",
       "\\item 'Target.Narrow.Band.Income\\_num'\n",
       "\\item 'imt31\\_C4'\n",
       "\\item 'imt01\\_C4'\n",
       "\\item 'iau01y5\\_C4'\n",
       "\\item 'iat34\\_C4'\n",
       "\\item 'ihi20\\_C4'\n",
       "\\item 'Home.Owner.Renter.Indicator\\_C3.H'\n",
       "\\item 'iat01\\_C4'\n",
       "\\item 'HealthScore\\_C5'\n",
       "\\item 'i12ccnb1\\_C4'\n",
       "\\item 'iat34xam\\_C4'\n",
       "\\item 'ibr34\\_C4'\n",
       "\\item 'CEN\\_tr\\_pctHHincomeGE200K'\n",
       "\\item 'is004\\_C4'\n",
       "\\item 'ibr33\\_C4'\n",
       "\\item 'imt41\\_C4'\n",
       "\\item 'iin01y5\\_C4'\n",
       "\\item 'ire103\\_C4'\n",
       "\\item 'i12ccpq2\\_C4'\n",
       "\\item 'Presence.of.Kids.Indicator\\_C3.S'\n",
       "\\item 'imt02y5\\_C4'\n",
       "\\item 'iat07\\_C4'\n",
       "\\item 'CEN\\_bg\\_pctSeasonalHousingUnits'\n",
       "\\item 'iat33\\_C4'\n",
       "\\item 'iat89\\_C4'\n",
       "\\item 'LotSize\\_C1'\n",
       "\\item 'ire31\\_C4'\n",
       "\\item 'Length.of.Residence\\_num'\n",
       "\\item 'EstMarketValue\\_C1'\n",
       "\\item 'ifn01y5\\_C4'\n",
       "\\item 'CEN\\_bg\\_pctConstructionIndustry'\n",
       "\\item 'iat31xam\\_C4'\n",
       "\\item 'CEN\\_bg\\_pctLiveAloneHH'\n",
       "\\item 'ihi01y5\\_C4'\n",
       "\\item 'Living.Area.Square.Feet\\_num'\n",
       "\\item 'ifn01\\_C4'\n",
       "\\item 'imt01y5\\_C4'\n",
       "\\item 'CEN\\_tr\\_pctHHSocialSecurityIncome'\n",
       "\\item 'ibr41\\_C4'\n",
       "\\item 'CEN\\_tr\\_pctOwnOccValGE100K'\n",
       "\\item 'Mortgage.Liability\\_C3'\n",
       "\\item 'icc31\\_C4'\n",
       "\\end{enumerate*}\n"
      ],
      "text/markdown": [
       "1. 'IssAgeALB'\n",
       "2. 'score_C4'\n",
       "3. 'i12ccpc1_C4'\n",
       "4. 'Household.Size.Indicator_C3.H'\n",
       "5. 'iat52_C4'\n",
       "6. 'finscr_C4'\n",
       "7. 'Gender.M'\n",
       "8. 'i12ccpq4_C4'\n",
       "9. 'Target.Narrow.Band.Income_num'\n",
       "10. 'imt31_C4'\n",
       "11. 'imt01_C4'\n",
       "12. 'iau01y5_C4'\n",
       "13. 'iat34_C4'\n",
       "14. 'ihi20_C4'\n",
       "15. 'Home.Owner.Renter.Indicator_C3.H'\n",
       "16. 'iat01_C4'\n",
       "17. 'HealthScore_C5'\n",
       "18. 'i12ccnb1_C4'\n",
       "19. 'iat34xam_C4'\n",
       "20. 'ibr34_C4'\n",
       "21. 'CEN_tr_pctHHincomeGE200K'\n",
       "22. 'is004_C4'\n",
       "23. 'ibr33_C4'\n",
       "24. 'imt41_C4'\n",
       "25. 'iin01y5_C4'\n",
       "26. 'ire103_C4'\n",
       "27. 'i12ccpq2_C4'\n",
       "28. 'Presence.of.Kids.Indicator_C3.S'\n",
       "29. 'imt02y5_C4'\n",
       "30. 'iat07_C4'\n",
       "31. 'CEN_bg_pctSeasonalHousingUnits'\n",
       "32. 'iat33_C4'\n",
       "33. 'iat89_C4'\n",
       "34. 'LotSize_C1'\n",
       "35. 'ire31_C4'\n",
       "36. 'Length.of.Residence_num'\n",
       "37. 'EstMarketValue_C1'\n",
       "38. 'ifn01y5_C4'\n",
       "39. 'CEN_bg_pctConstructionIndustry'\n",
       "40. 'iat31xam_C4'\n",
       "41. 'CEN_bg_pctLiveAloneHH'\n",
       "42. 'ihi01y5_C4'\n",
       "43. 'Living.Area.Square.Feet_num'\n",
       "44. 'ifn01_C4'\n",
       "45. 'imt01y5_C4'\n",
       "46. 'CEN_tr_pctHHSocialSecurityIncome'\n",
       "47. 'ibr41_C4'\n",
       "48. 'CEN_tr_pctOwnOccValGE100K'\n",
       "49. 'Mortgage.Liability_C3'\n",
       "50. 'icc31_C4'\n",
       "\n",
       "\n"
      ],
      "text/plain": [
       " [1] \"IssAgeALB\"                        \"score_C4\"                        \n",
       " [3] \"i12ccpc1_C4\"                      \"Household.Size.Indicator_C3.H\"   \n",
       " [5] \"iat52_C4\"                         \"finscr_C4\"                       \n",
       " [7] \"Gender.M\"                         \"i12ccpq4_C4\"                     \n",
       " [9] \"Target.Narrow.Band.Income_num\"    \"imt31_C4\"                        \n",
       "[11] \"imt01_C4\"                         \"iau01y5_C4\"                      \n",
       "[13] \"iat34_C4\"                         \"ihi20_C4\"                        \n",
       "[15] \"Home.Owner.Renter.Indicator_C3.H\" \"iat01_C4\"                        \n",
       "[17] \"HealthScore_C5\"                   \"i12ccnb1_C4\"                     \n",
       "[19] \"iat34xam_C4\"                      \"ibr34_C4\"                        \n",
       "[21] \"CEN_tr_pctHHincomeGE200K\"         \"is004_C4\"                        \n",
       "[23] \"ibr33_C4\"                         \"imt41_C4\"                        \n",
       "[25] \"iin01y5_C4\"                       \"ire103_C4\"                       \n",
       "[27] \"i12ccpq2_C4\"                      \"Presence.of.Kids.Indicator_C3.S\" \n",
       "[29] \"imt02y5_C4\"                       \"iat07_C4\"                        \n",
       "[31] \"CEN_bg_pctSeasonalHousingUnits\"   \"iat33_C4\"                        \n",
       "[33] \"iat89_C4\"                         \"LotSize_C1\"                      \n",
       "[35] \"ire31_C4\"                         \"Length.of.Residence_num\"         \n",
       "[37] \"EstMarketValue_C1\"                \"ifn01y5_C4\"                      \n",
       "[39] \"CEN_bg_pctConstructionIndustry\"   \"iat31xam_C4\"                     \n",
       "[41] \"CEN_bg_pctLiveAloneHH\"            \"ihi01y5_C4\"                      \n",
       "[43] \"Living.Area.Square.Feet_num\"      \"ifn01_C4\"                        \n",
       "[45] \"imt01y5_C4\"                       \"CEN_tr_pctHHSocialSecurityIncome\"\n",
       "[47] \"ibr41_C4\"                         \"CEN_tr_pctOwnOccValGE100K\"       \n",
       "[49] \"Mortgage.Liability_C3\"            \"icc31_C4\"                        "
      ]
     },
     "metadata": {},
     "output_type": "display_data"
    }
   ],
   "source": [
    "eff_group_var"
   ]
  },
  {
   "cell_type": "markdown",
   "metadata": {},
   "source": [
    "#### 4. What are the variables selected?"
   ]
  },
  {
   "cell_type": "code",
   "execution_count": 109,
   "metadata": {
    "collapsed": true
   },
   "outputs": [],
   "source": [
    "# Variable dictionary\n",
    "df_vars <- read.csv('/home/capsops/mandy/selectedVariables.csv', encoding = 'latin1')"
   ]
  },
  {
   "cell_type": "code",
   "execution_count": 132,
   "metadata": {},
   "outputs": [
    {
     "data": {
      "text/html": [
       "<ol class=list-inline>\n",
       "\t<li>'IssAgeALB'</li>\n",
       "\t<li>'score_C4'</li>\n",
       "\t<li>'Household.Size.Indicator_C3.H'</li>\n",
       "\t<li>'finscr_C4'</li>\n",
       "\t<li>'i12ccpq4_C4'</li>\n",
       "\t<li>'imt01_C4'</li>\n",
       "\t<li>'iat34_C4'</li>\n",
       "\t<li>'ihi20_C4'</li>\n",
       "\t<li>'Home.Owner.Renter.Indicator_C3.H'</li>\n",
       "\t<li>'iat01_C4'</li>\n",
       "\t<li>'HealthScore_C5'</li>\n",
       "\t<li>'ire103_C4'</li>\n",
       "\t<li>'Presence.of.Kids.Indicator_C3.S'</li>\n",
       "\t<li>'imt02y5_C4'</li>\n",
       "\t<li>'iat33_C4'</li>\n",
       "\t<li>'iat89_C4'</li>\n",
       "\t<li>'ifn01_C4'</li>\n",
       "\t<li>'imt01y5_C4'</li>\n",
       "\t<li>'CEN_tr_pctOwnOccValGE100K'</li>\n",
       "</ol>\n"
      ],
      "text/latex": [
       "\\begin{enumerate*}\n",
       "\\item 'IssAgeALB'\n",
       "\\item 'score\\_C4'\n",
       "\\item 'Household.Size.Indicator\\_C3.H'\n",
       "\\item 'finscr\\_C4'\n",
       "\\item 'i12ccpq4\\_C4'\n",
       "\\item 'imt01\\_C4'\n",
       "\\item 'iat34\\_C4'\n",
       "\\item 'ihi20\\_C4'\n",
       "\\item 'Home.Owner.Renter.Indicator\\_C3.H'\n",
       "\\item 'iat01\\_C4'\n",
       "\\item 'HealthScore\\_C5'\n",
       "\\item 'ire103\\_C4'\n",
       "\\item 'Presence.of.Kids.Indicator\\_C3.S'\n",
       "\\item 'imt02y5\\_C4'\n",
       "\\item 'iat33\\_C4'\n",
       "\\item 'iat89\\_C4'\n",
       "\\item 'ifn01\\_C4'\n",
       "\\item 'imt01y5\\_C4'\n",
       "\\item 'CEN\\_tr\\_pctOwnOccValGE100K'\n",
       "\\end{enumerate*}\n"
      ],
      "text/markdown": [
       "1. 'IssAgeALB'\n",
       "2. 'score_C4'\n",
       "3. 'Household.Size.Indicator_C3.H'\n",
       "4. 'finscr_C4'\n",
       "5. 'i12ccpq4_C4'\n",
       "6. 'imt01_C4'\n",
       "7. 'iat34_C4'\n",
       "8. 'ihi20_C4'\n",
       "9. 'Home.Owner.Renter.Indicator_C3.H'\n",
       "10. 'iat01_C4'\n",
       "11. 'HealthScore_C5'\n",
       "12. 'ire103_C4'\n",
       "13. 'Presence.of.Kids.Indicator_C3.S'\n",
       "14. 'imt02y5_C4'\n",
       "15. 'iat33_C4'\n",
       "16. 'iat89_C4'\n",
       "17. 'ifn01_C4'\n",
       "18. 'imt01y5_C4'\n",
       "19. 'CEN_tr_pctOwnOccValGE100K'\n",
       "\n",
       "\n"
      ],
      "text/plain": [
       " [1] \"IssAgeALB\"                        \"score_C4\"                        \n",
       " [3] \"Household.Size.Indicator_C3.H\"    \"finscr_C4\"                       \n",
       " [5] \"i12ccpq4_C4\"                      \"imt01_C4\"                        \n",
       " [7] \"iat34_C4\"                         \"ihi20_C4\"                        \n",
       " [9] \"Home.Owner.Renter.Indicator_C3.H\" \"iat01_C4\"                        \n",
       "[11] \"HealthScore_C5\"                   \"ire103_C4\"                       \n",
       "[13] \"Presence.of.Kids.Indicator_C3.S\"  \"imt02y5_C4\"                      \n",
       "[15] \"iat33_C4\"                         \"iat89_C4\"                        \n",
       "[17] \"ifn01_C4\"                         \"imt01y5_C4\"                      \n",
       "[19] \"CEN_tr_pctOwnOccValGE100K\"       "
      ]
     },
     "metadata": {},
     "output_type": "display_data"
    }
   ],
   "source": [
    "intersect(eff_group_var, surr_var)"
   ]
  },
  {
   "cell_type": "code",
   "execution_count": 133,
   "metadata": {},
   "outputs": [],
   "source": [
    "lasso_features1 <- df_vars[df_vars$Variable %in% c(surr_var, eff_group_var),]"
   ]
  },
  {
   "cell_type": "code",
   "execution_count": 134,
   "metadata": {},
   "outputs": [],
   "source": [
    "lasso_features2 <- df_vars[df_vars$Variable %in% intersect(surr_var, eff_group_var),]"
   ]
  },
  {
   "cell_type": "code",
   "execution_count": 138,
   "metadata": {
    "collapsed": true
   },
   "outputs": [],
   "source": [
    "write.csv(lasso_features1, '/mnt/UW/outputDataset/lassoFeatures1.csv')\n",
    "write.csv(lasso_features1, 'lassoFeatures1.csv')"
   ]
  },
  {
   "cell_type": "code",
   "execution_count": 137,
   "metadata": {
    "collapsed": true
   },
   "outputs": [],
   "source": [
    "write.csv(lasso_features2, '/mnt/UW/outputDataset/lassoFeatures2.csv')\n",
    "write.csv(lasso_features2, 'lassoFeatures2.csv')"
   ]
  },
  {
   "cell_type": "code",
   "execution_count": null,
   "metadata": {
    "collapsed": true
   },
   "outputs": [],
   "source": []
  }
 ],
 "metadata": {
  "kernelspec": {
   "display_name": "R",
   "language": "R",
   "name": "ir"
  },
  "language_info": {
   "codemirror_mode": "r",
   "file_extension": ".r",
   "mimetype": "text/x-r-source",
   "name": "R",
   "pygments_lexer": "r",
   "version": "3.4.1"
  }
 },
 "nbformat": 4,
 "nbformat_minor": 2
}
