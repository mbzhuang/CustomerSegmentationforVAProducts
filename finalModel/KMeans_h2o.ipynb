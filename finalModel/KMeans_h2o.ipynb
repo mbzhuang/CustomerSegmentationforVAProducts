{
 "cells": [
  {
   "cell_type": "code",
   "execution_count": 1,
   "metadata": {},
   "outputs": [
    {
     "name": "stderr",
     "output_type": "stream",
     "text": [
      "\n",
      "----------------------------------------------------------------------\n",
      "\n",
      "Your next step is to start H2O:\n",
      "    > h2o.init()\n",
      "\n",
      "For H2O package documentation, ask for help:\n",
      "    > ??h2o\n",
      "\n",
      "After starting H2O, you can use the Web UI at http://localhost:54321\n",
      "For more information visit http://docs.h2o.ai\n",
      "\n",
      "----------------------------------------------------------------------\n",
      "\n",
      "\n",
      "Attaching package: ‘h2o’\n",
      "\n",
      "The following object is masked from ‘package:RevoScaleR’:\n",
      "\n",
      "    colnames\n",
      "\n",
      "The following objects are masked from ‘package:stats’:\n",
      "\n",
      "    cor, sd, var\n",
      "\n",
      "The following objects are masked from ‘package:base’:\n",
      "\n",
      "    &&, %*%, %in%, ||, apply, as.factor, as.numeric, colnames,\n",
      "    colnames<-, ifelse, is.character, is.factor, is.numeric, log,\n",
      "    log10, log1p, log2, round, signif, trunc\n",
      "\n"
     ]
    },
    {
     "name": "stdout",
     "output_type": "stream",
     "text": [
      "\n",
      "H2O is not running yet, starting it now...\n",
      "\n",
      "Note:  In case of errors look at the following log files:\n",
      "    /tmp/RtmpEn2deT/h2o_capsops_started_from_r.out\n",
      "    /tmp/RtmpEn2deT/h2o_capsops_started_from_r.err\n",
      "\n",
      "\n",
      "Starting H2O JVM and connecting: ....... Connection successful!\n",
      "\n",
      "R is connected to the H2O cluster: \n",
      "    H2O cluster uptime:         6 seconds 202 milliseconds \n",
      "    H2O cluster version:        3.16.0.2 \n",
      "    H2O cluster version age:    3 months and 5 days  \n",
      "    H2O cluster name:           H2O_started_from_R_capsops_mco465 \n",
      "    H2O cluster total nodes:    1 \n",
      "    H2O cluster total memory:   80.00 GB \n",
      "    H2O cluster total cores:    16 \n",
      "    H2O cluster allowed cores:  16 \n",
      "    H2O cluster healthy:        TRUE \n",
      "    H2O Connection ip:          localhost \n",
      "    H2O Connection port:        54321 \n",
      "    H2O Connection proxy:       NA \n",
      "    H2O Internal Security:      FALSE \n",
      "    H2O API Extensions:         XGBoost, Algos, AutoML, Core V3, Core V4 \n",
      "    R Version:                  R version 3.4.1 (2017-06-30) \n",
      "\n"
     ]
    }
   ],
   "source": [
    "library(h2o)\n",
    "h2o.init(nthreads = -1, max_mem_size = '90G')"
   ]
  },
  {
   "cell_type": "code",
   "execution_count": 30,
   "metadata": {},
   "outputs": [
    {
     "name": "stdout",
     "output_type": "stream",
     "text": [
      "  |======================================================================| 100%\n"
     ]
    }
   ],
   "source": [
    "df <- h2o.importFile(path = normalizePath(\"~/mandy/imputed_17_columns.csv\")\n",
    "                           , destination_frame = \"predictors\")\n",
    "\n",
    "df$C1 <- NULL"
   ]
  },
  {
   "cell_type": "code",
   "execution_count": 31,
   "metadata": {
    "collapsed": true
   },
   "outputs": [],
   "source": [
    "split <- h2o.splitFrame(df, ratios = c(0.5, 0.2), seed = -1)\n",
    "training = split[[1]]\n",
    "validation = split[[2]]"
   ]
  },
  {
   "cell_type": "code",
   "execution_count": 32,
   "metadata": {},
   "outputs": [
    {
     "data": {
      "text/html": [
       "<ol class=list-inline>\n",
       "\t<li>'score_C4'</li>\n",
       "\t<li>'EstMarketValue_C1'</li>\n",
       "\t<li>'finscr_C4'</li>\n",
       "\t<li>'CEN_tr_pctOwnOccSecondMort'</li>\n",
       "\t<li>'CEN_bg_pctSeasonalHousingUnits'</li>\n",
       "\t<li>'CEN_bg_pctHHincomeLT15K'</li>\n",
       "\t<li>'CEN_tr_pctHHInvestIncome'</li>\n",
       "\t<li>'CEN_tr_pctHHSocialSecurityIncome'</li>\n",
       "\t<li>'CEN_bg_pctLiveAloneHH'</li>\n",
       "\t<li>'CEN_bg_pctConstructionIndustry'</li>\n",
       "\t<li>'CEN_tr_pctHSGrad'</li>\n",
       "\t<li>'iat89_C4'</li>\n",
       "\t<li>'imt01_C4'</li>\n",
       "\t<li>'IssAgeALB'</li>\n",
       "\t<li>'HealthScore_C5'</li>\n",
       "\t<li>'Length.of.Residence_num'</li>\n",
       "\t<li>'Target.Narrow.Band.Income_num'</li>\n",
       "</ol>\n"
      ],
      "text/latex": [
       "\\begin{enumerate*}\n",
       "\\item 'score\\_C4'\n",
       "\\item 'EstMarketValue\\_C1'\n",
       "\\item 'finscr\\_C4'\n",
       "\\item 'CEN\\_tr\\_pctOwnOccSecondMort'\n",
       "\\item 'CEN\\_bg\\_pctSeasonalHousingUnits'\n",
       "\\item 'CEN\\_bg\\_pctHHincomeLT15K'\n",
       "\\item 'CEN\\_tr\\_pctHHInvestIncome'\n",
       "\\item 'CEN\\_tr\\_pctHHSocialSecurityIncome'\n",
       "\\item 'CEN\\_bg\\_pctLiveAloneHH'\n",
       "\\item 'CEN\\_bg\\_pctConstructionIndustry'\n",
       "\\item 'CEN\\_tr\\_pctHSGrad'\n",
       "\\item 'iat89\\_C4'\n",
       "\\item 'imt01\\_C4'\n",
       "\\item 'IssAgeALB'\n",
       "\\item 'HealthScore\\_C5'\n",
       "\\item 'Length.of.Residence\\_num'\n",
       "\\item 'Target.Narrow.Band.Income\\_num'\n",
       "\\end{enumerate*}\n"
      ],
      "text/markdown": [
       "1. 'score_C4'\n",
       "2. 'EstMarketValue_C1'\n",
       "3. 'finscr_C4'\n",
       "4. 'CEN_tr_pctOwnOccSecondMort'\n",
       "5. 'CEN_bg_pctSeasonalHousingUnits'\n",
       "6. 'CEN_bg_pctHHincomeLT15K'\n",
       "7. 'CEN_tr_pctHHInvestIncome'\n",
       "8. 'CEN_tr_pctHHSocialSecurityIncome'\n",
       "9. 'CEN_bg_pctLiveAloneHH'\n",
       "10. 'CEN_bg_pctConstructionIndustry'\n",
       "11. 'CEN_tr_pctHSGrad'\n",
       "12. 'iat89_C4'\n",
       "13. 'imt01_C4'\n",
       "14. 'IssAgeALB'\n",
       "15. 'HealthScore_C5'\n",
       "16. 'Length.of.Residence_num'\n",
       "17. 'Target.Narrow.Band.Income_num'\n",
       "\n",
       "\n"
      ],
      "text/plain": [
       " [1] \"score_C4\"                         \"EstMarketValue_C1\"               \n",
       " [3] \"finscr_C4\"                        \"CEN_tr_pctOwnOccSecondMort\"      \n",
       " [5] \"CEN_bg_pctSeasonalHousingUnits\"   \"CEN_bg_pctHHincomeLT15K\"         \n",
       " [7] \"CEN_tr_pctHHInvestIncome\"         \"CEN_tr_pctHHSocialSecurityIncome\"\n",
       " [9] \"CEN_bg_pctLiveAloneHH\"            \"CEN_bg_pctConstructionIndustry\"  \n",
       "[11] \"CEN_tr_pctHSGrad\"                 \"iat89_C4\"                        \n",
       "[13] \"imt01_C4\"                         \"IssAgeALB\"                       \n",
       "[15] \"HealthScore_C5\"                   \"Length.of.Residence_num\"         \n",
       "[17] \"Target.Narrow.Band.Income_num\"   "
      ]
     },
     "metadata": {},
     "output_type": "display_data"
    }
   ],
   "source": [
    "names(training)"
   ]
  },
  {
   "cell_type": "code",
   "execution_count": 33,
   "metadata": {
    "collapsed": true
   },
   "outputs": [],
   "source": [
    "x = names(training)[!(names(training) %in% c(\"CEN_bg_pctConstructionIndustry\"))]"
   ]
  },
  {
   "cell_type": "code",
   "execution_count": 34,
   "metadata": {},
   "outputs": [],
   "source": [
    "fit_kmeans <- function(training_frame, k, x, init){\n",
    "    kmeans_fit <- h2o.kmeans(training_frame = training_frame, x, validation_frame = validation, nfolds = 8,\n",
    "                             standardize = TRUE, seed = 1234, k = k, init = init)\n",
    "    return(kmeans_fit)\n",
    "}"
   ]
  },
  {
   "cell_type": "code",
   "execution_count": 35,
   "metadata": {},
   "outputs": [
    {
     "name": "stdout",
     "output_type": "stream",
     "text": [
      "  |======================================================================| 100%\n"
     ]
    }
   ],
   "source": [
    "k = 7\n",
    "model <- fit_kmeans(training, k, x, \"PlusPlus\")"
   ]
  },
  {
   "cell_type": "code",
   "execution_count": 36,
   "metadata": {},
   "outputs": [
    {
     "name": "stdout",
     "output_type": "stream",
     "text": [
      "  |======================================================================| 100%\n"
     ]
    }
   ],
   "source": [
    "fit = h2o.predict(object = model, newdata = df)"
   ]
  },
  {
   "cell_type": "code",
   "execution_count": 37,
   "metadata": {},
   "outputs": [],
   "source": [
    "df$kmeans_7 = fit"
   ]
  },
  {
   "cell_type": "code",
   "execution_count": 38,
   "metadata": {
    "collapsed": true
   },
   "outputs": [],
   "source": [
    "df_rframe = as.data.frame(df)"
   ]
  },
  {
   "cell_type": "code",
   "execution_count": 39,
   "metadata": {},
   "outputs": [
    {
     "data": {
      "text/plain": [
       "\n",
       "      0       1       2       3       4       5       6 \n",
       " 232467  433723 1252364  271723  941149  595529 1005743 "
      ]
     },
     "metadata": {},
     "output_type": "display_data"
    }
   ],
   "source": [
    "table(df_rframe$kmeans_7)"
   ]
  },
  {
   "cell_type": "code",
   "execution_count": 40,
   "metadata": {},
   "outputs": [],
   "source": [
    "df_score_c4 <- boxplot(score_C4~kmeans_7, df_rframe, plot = FALSE)$stats\n",
    "df_EstMarketValue_C1 <- boxplot(EstMarketValue_C1~kmeans_7, df_rframe, plot = FALSE)$stats\n",
    "df_CEN_bg_pctHHincomeLT15K <- boxplot(CEN_bg_pctHHincomeLT15K~kmeans_7, df_rframe, plot = FALSE)$stats\n",
    "df_CEN_tr_pctHSGrad <- boxplot(CEN_tr_pctHSGrad~kmeans_7, df_rframe, plot = FALSE)$stats\n",
    "df_HealthScore_C5 <- boxplot(HealthScore_C5~kmeans_7, df_rframe, plot = FALSE)$stats"
   ]
  },
  {
   "cell_type": "code",
   "execution_count": 41,
   "metadata": {
    "collapsed": true
   },
   "outputs": [],
   "source": [
    "save(df_HealthScore_C5, df_CEN_tr_pctHSGrad, df_CEN_bg_pctHHincomeLT15K, df_EstMarketValue_C1, df_score_c4, file = \"kmeans_7.RData\")"
   ]
  },
  {
   "cell_type": "code",
   "execution_count": null,
   "metadata": {
    "collapsed": true
   },
   "outputs": [],
   "source": []
  }
 ],
 "metadata": {
  "kernelspec": {
   "display_name": "R",
   "language": "R",
   "name": "ir"
  },
  "language_info": {
   "codemirror_mode": "r",
   "file_extension": ".r",
   "mimetype": "text/x-r-source",
   "name": "R",
   "pygments_lexer": "r",
   "version": "3.4.1"
  }
 },
 "nbformat": 4,
 "nbformat_minor": 2
}
