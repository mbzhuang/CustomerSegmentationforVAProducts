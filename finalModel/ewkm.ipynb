{
 "cells": [
  {
   "cell_type": "markdown",
   "metadata": {},
   "source": [
    "### Entropy weighting KMeans"
   ]
  },
  {
   "cell_type": "code",
   "execution_count": 1,
   "metadata": {},
   "outputs": [
    {
     "name": "stderr",
     "output_type": "stream",
     "text": [
      "Loading required package: latticeExtra\n",
      "Loading required package: RColorBrewer\n",
      "Loading required package: clv\n",
      "Loading required package: cluster\n",
      "Loading required package: class\n"
     ]
    }
   ],
   "source": [
    "library(wskm)"
   ]
  },
  {
   "cell_type": "code",
   "execution_count": 43,
   "metadata": {},
   "outputs": [
    {
     "data": {
      "text/html": [
       "0"
      ],
      "text/latex": [
       "0"
      ],
      "text/markdown": [
       "0"
      ],
      "text/plain": [
       "[1] 0"
      ]
     },
     "metadata": {},
     "output_type": "display_data"
    }
   ],
   "source": [
    "# Import data for training models\n",
    "df <- read.csv(\"~/mandy/imputed_17_columns.csv\")\n",
    "df <- df[!(names(df) %in% c(\"X\", \"CEN_bg_pctConstructionIndustry\"))]\n",
    "sum(is.na(df))"
   ]
  },
  {
   "cell_type": "code",
   "execution_count": 44,
   "metadata": {},
   "outputs": [
    {
     "data": {
      "text/html": [
       "<ol class=list-inline>\n",
       "\t<li>'score_C4'</li>\n",
       "\t<li>'EstMarketValue_C1'</li>\n",
       "\t<li>'finscr_C4'</li>\n",
       "\t<li>'CEN_tr_pctOwnOccSecondMort'</li>\n",
       "\t<li>'CEN_bg_pctSeasonalHousingUnits'</li>\n",
       "\t<li>'CEN_bg_pctHHincomeLT15K'</li>\n",
       "\t<li>'CEN_tr_pctHHInvestIncome'</li>\n",
       "\t<li>'CEN_tr_pctHHSocialSecurityIncome'</li>\n",
       "\t<li>'CEN_bg_pctLiveAloneHH'</li>\n",
       "\t<li>'CEN_tr_pctHSGrad'</li>\n",
       "\t<li>'iat89_C4'</li>\n",
       "\t<li>'imt01_C4'</li>\n",
       "\t<li>'IssAgeALB'</li>\n",
       "\t<li>'HealthScore_C5'</li>\n",
       "\t<li>'Length.of.Residence_num'</li>\n",
       "\t<li>'Target.Narrow.Band.Income_num'</li>\n",
       "</ol>\n"
      ],
      "text/latex": [
       "\\begin{enumerate*}\n",
       "\\item 'score\\_C4'\n",
       "\\item 'EstMarketValue\\_C1'\n",
       "\\item 'finscr\\_C4'\n",
       "\\item 'CEN\\_tr\\_pctOwnOccSecondMort'\n",
       "\\item 'CEN\\_bg\\_pctSeasonalHousingUnits'\n",
       "\\item 'CEN\\_bg\\_pctHHincomeLT15K'\n",
       "\\item 'CEN\\_tr\\_pctHHInvestIncome'\n",
       "\\item 'CEN\\_tr\\_pctHHSocialSecurityIncome'\n",
       "\\item 'CEN\\_bg\\_pctLiveAloneHH'\n",
       "\\item 'CEN\\_tr\\_pctHSGrad'\n",
       "\\item 'iat89\\_C4'\n",
       "\\item 'imt01\\_C4'\n",
       "\\item 'IssAgeALB'\n",
       "\\item 'HealthScore\\_C5'\n",
       "\\item 'Length.of.Residence\\_num'\n",
       "\\item 'Target.Narrow.Band.Income\\_num'\n",
       "\\end{enumerate*}\n"
      ],
      "text/markdown": [
       "1. 'score_C4'\n",
       "2. 'EstMarketValue_C1'\n",
       "3. 'finscr_C4'\n",
       "4. 'CEN_tr_pctOwnOccSecondMort'\n",
       "5. 'CEN_bg_pctSeasonalHousingUnits'\n",
       "6. 'CEN_bg_pctHHincomeLT15K'\n",
       "7. 'CEN_tr_pctHHInvestIncome'\n",
       "8. 'CEN_tr_pctHHSocialSecurityIncome'\n",
       "9. 'CEN_bg_pctLiveAloneHH'\n",
       "10. 'CEN_tr_pctHSGrad'\n",
       "11. 'iat89_C4'\n",
       "12. 'imt01_C4'\n",
       "13. 'IssAgeALB'\n",
       "14. 'HealthScore_C5'\n",
       "15. 'Length.of.Residence_num'\n",
       "16. 'Target.Narrow.Band.Income_num'\n",
       "\n",
       "\n"
      ],
      "text/plain": [
       " [1] \"score_C4\"                         \"EstMarketValue_C1\"               \n",
       " [3] \"finscr_C4\"                        \"CEN_tr_pctOwnOccSecondMort\"      \n",
       " [5] \"CEN_bg_pctSeasonalHousingUnits\"   \"CEN_bg_pctHHincomeLT15K\"         \n",
       " [7] \"CEN_tr_pctHHInvestIncome\"         \"CEN_tr_pctHHSocialSecurityIncome\"\n",
       " [9] \"CEN_bg_pctLiveAloneHH\"            \"CEN_tr_pctHSGrad\"                \n",
       "[11] \"iat89_C4\"                         \"imt01_C4\"                        \n",
       "[13] \"IssAgeALB\"                        \"HealthScore_C5\"                  \n",
       "[15] \"Length.of.Residence_num\"          \"Target.Narrow.Band.Income_num\"   "
      ]
     },
     "metadata": {},
     "output_type": "display_data"
    }
   ],
   "source": [
    "names(df)\n",
    "#     \"score_C4\", # Auto Score \n",
    "#     \"EstMarketValue_C1\",\n",
    "#     \"finscr_C4\", # Credit Score \n",
    "#     \"CEN_tr_pctOwnOccSecondMort\", \n",
    "#     \"CEN_bg_pctSeasonalHousingUnits\", \n",
    "#     \"CEN_bg_pctHHincomeLT15K\", \n",
    "#     \"CEN_tr_pctHHInvestIncome\", \n",
    "#     \"CEN_tr_pctHHSocialSecurityIncome\",  \n",
    "#     \"CEN_bg_pctLiveAloneHH\", \n",
    "#     \"CEN_tr_pctHSGrad\", \n",
    "#     \"iat89_C4\", # Highest delinquency on a trade \n",
    "#     \"imt01_C4\", # Number of mortgages \n",
    "#     \"IssAgeALB\", # Issue Age \n",
    "#     \"HealthScore_C5\", # Health Score \n",
    "#     \"Length.of.Residence_num\", \n",
    "#     \"Target.Narrow.Band.Income_num\" "
   ]
  },
  {
   "cell_type": "code",
   "execution_count": 46,
   "metadata": {
    "collapsed": true
   },
   "outputs": [],
   "source": [
    "# Scaling is needed for entropy weighting KMeans\n",
    "df_scale <- scale(df)"
   ]
  },
  {
   "cell_type": "code",
   "execution_count": 47,
   "metadata": {
    "collapsed": true
   },
   "outputs": [],
   "source": [
    "# Define function to train ewkm model and store clustering result\n",
    "cluster_df = data.frame()\n",
    "fit_ewkm <- function(k, lambda, data, maxiteration){\n",
    "    ewkm_model <- ewkm(data, k, lambda=lambda, maxiter=maxiteration)\n",
    "    print(paste0(\"K = \", k))\n",
    "    print(paste0(\"iterations: \", ewkm_model$iterations))\n",
    "    print(paste0(\"total.iterations: \", ewkm_model$total.iterations))\n",
    "    print(paste0(\"restarts: \", ewkm_model$restarts))\n",
    "    print(table(ewkm_model$cluster))\n",
    "    weight=round(ewkm_model$weight, 2)\n",
    "    print(weight[, colSums(abs(weight)) > 0.1])\n",
    "    return(ewkm_model)\n",
    "}"
   ]
  },
  {
   "cell_type": "code",
   "execution_count": 51,
   "metadata": {},
   "outputs": [
    {
     "name": "stdout",
     "output_type": "stream",
     "text": [
      "[1] \"K = 4\"\n",
      "[1] \"iterations: 35\"\n",
      "[1] \"total.iterations: 36\"\n",
      "[1] \"restarts: 0\"\n",
      "\n",
      "      1       2       3       4 \n",
      " 454082  724663  185463 3368490 \n",
      "  EstMarketValue_C1 iat89_C4\n",
      "1                 1        0\n",
      "2                 1        0\n",
      "3                 1        0\n",
      "4                 0        1\n"
     ]
    }
   ],
   "source": [
    "#\n",
    "k = 4\n",
    "lambda = 1\n",
    "ewkm_model = fit_ewkm(k=k, lambda=lambda, data=df_scale, maxiteration=100)\n",
    "df$ewkm_k4_l1 = ewkm_model$cluster"
   ]
  },
  {
   "cell_type": "code",
   "execution_count": 52,
   "metadata": {},
   "outputs": [
    {
     "name": "stdout",
     "output_type": "stream",
     "text": [
      "[1] \"K = 4\"\n",
      "[1] \"iterations: 24\"\n",
      "[1] \"total.iterations: 25\"\n",
      "[1] \"restarts: 0\"\n",
      "\n",
      "      1       2       3       4 \n",
      "3434327  854308  225766  218297 \n",
      "  CEN_tr_pctOwnOccSecondMort CEN_bg_pctSeasonalHousingUnits HealthScore_C5\n",
      "1                          0                              1              0\n",
      "2                          0                              0              1\n",
      "3                          1                              0              0\n",
      "4                          0                              1              0\n"
     ]
    }
   ],
   "source": [
    "#\n",
    "k = 4\n",
    "lambda = 2\n",
    "ewkm_model = fit_ewkm(k=k, lambda=lambda, data=df_scale, maxiteration=100)\n",
    "df$ewkm_k4_l2 = ewkm_model$cluster"
   ]
  },
  {
   "cell_type": "code",
   "execution_count": 53,
   "metadata": {},
   "outputs": [
    {
     "name": "stdout",
     "output_type": "stream",
     "text": [
      "[1] \"K = 4\"\n",
      "[1] \"iterations: 14\"\n",
      "[1] \"total.iterations: 15\"\n",
      "[1] \"restarts: 0\"\n",
      "\n",
      "      1       2       3       4 \n",
      " 176814  891489 3412202  252193 \n",
      "  EstMarketValue_C1 CEN_bg_pctHHincomeLT15K iat89_C4\n",
      "1                 0                       1        0\n",
      "2                 0                       0        1\n",
      "3                 0                       0        1\n",
      "4                 1                       0        0\n"
     ]
    }
   ],
   "source": [
    "#\n",
    "k = 4\n",
    "lambda = 3\n",
    "ewkm_model = fit_ewkm(k=k, lambda=lambda, data=df_scale, maxiteration=100)\n",
    "df$ewkm_k4_l3 = ewkm_model$cluster"
   ]
  },
  {
   "cell_type": "code",
   "execution_count": 54,
   "metadata": {},
   "outputs": [
    {
     "name": "stdout",
     "output_type": "stream",
     "text": [
      "[1] \"K = 4\"\n",
      "[1] \"iterations: 30\"\n",
      "[1] \"total.iterations: 31\"\n",
      "[1] \"restarts: 0\"\n",
      "\n",
      "      1       2       3       4 \n",
      " 815278  803366 1812439 1301615 \n",
      "  EstMarketValue_C1 CEN_bg_pctHHincomeLT15K\n",
      "1                 1                       0\n",
      "2                 0                       1\n",
      "3                 1                       0\n",
      "4                 0                       1\n"
     ]
    }
   ],
   "source": [
    "#\n",
    "k = 4\n",
    "lambda = 4\n",
    "ewkm_model = fit_ewkm(k=k, lambda=lambda, data=df_scale, maxiteration=100)\n",
    "df$ewkm_k4_l4 = ewkm_model$cluster"
   ]
  },
  {
   "cell_type": "code",
   "execution_count": 57,
   "metadata": {},
   "outputs": [
    {
     "name": "stdout",
     "output_type": "stream",
     "text": [
      "[1] \"K = 5\"\n",
      "[1] \"iterations: 36\"\n",
      "[1] \"total.iterations: 37\"\n",
      "[1] \"restarts: 0\"\n",
      "\n",
      "      1       2       3       4       5 \n",
      " 532211 3284278  349932  287699  278578 \n",
      "  EstMarketValue_C1 CEN_bg_pctSeasonalHousingUnits CEN_bg_pctHHincomeLT15K\n",
      "1                 1                              0                       0\n",
      "2                 0                              1                       0\n",
      "3                 0                              0                       1\n",
      "4                 1                              0                       0\n",
      "5                 0                              0                       1\n",
      "[1] \"K = 5\"\n",
      "[1] \"iterations: 38\"\n",
      "[1] \"total.iterations: 39\"\n",
      "[1] \"restarts: 0\"\n",
      "\n",
      "      1       2       3       4       5 \n",
      " 357488 3409319  269302  446555  250034 \n",
      "  EstMarketValue_C1 CEN_bg_pctHHincomeLT15K iat89_C4\n",
      "1                 0                       1        0\n",
      "2                 0                       0        1\n",
      "3                 1                       0        0\n",
      "4                 1                       0        0\n",
      "5                 0                       1        0\n",
      "[1] \"K = 5\"\n",
      "[1] \"iterations: 17\"\n",
      "[1] \"total.iterations: 18\"\n",
      "[1] \"restarts: 0\"\n",
      "\n",
      "      1       2       3       4       5 \n",
      "3275861  184985 1056762   72427  142663 \n",
      "  EstMarketValue_C1 CEN_bg_pctSeasonalHousingUnits CEN_tr_pctHSGrad iat89_C4\n",
      "1                 0                              1                0        0\n",
      "2                 1                              0                0        0\n",
      "3                 0                              0                0        1\n",
      "4                 0                              0                1        0\n",
      "5                 1                              0                0        0\n",
      "[1] \"K = 5\"\n",
      "[1] \"iterations: 41\"\n",
      "[1] \"total.iterations: 42\"\n",
      "[1] \"restarts: 0\"\n",
      "\n",
      "      1       2       3       4       5 \n",
      " 165482  156563 3310000   51775 1048878 \n",
      "  EstMarketValue_C1 CEN_bg_pctSeasonalHousingUnits iat89_C4\n",
      "1                 1                              0        0\n",
      "2                 0                              1        0\n",
      "3                 0                              1        0\n",
      "4                 0                              1        0\n",
      "5                 0                              0        1\n"
     ]
    }
   ],
   "source": [
    "#\n",
    "k = 5\n",
    "lambda = 1\n",
    "ewkm_model = fit_ewkm(k=k, lambda=lambda, data=df_scale, maxiteration=100)\n",
    "df$ewkm_k5_l1 = ewkm_model$cluster\n",
    "#\n",
    "lambda = 2\n",
    "ewkm_model = fit_ewkm(k=k, lambda=lambda, data=df_scale, maxiteration=100)\n",
    "df$ewkm_k5_l2 = ewkm_model$cluster\n",
    "#\n",
    "lambda = 3\n",
    "ewkm_model = fit_ewkm(k=k, lambda=lambda, data=df_scale, maxiteration=100)\n",
    "df$ewkm_k5_l3 = ewkm_model$cluster\n",
    "#\n",
    "lambda = 4\n",
    "ewkm_model = fit_ewkm(k=k, lambda=lambda, data=df_scale, maxiteration=100)\n",
    "df$ewkm_k5_l4 = ewkm_model$cluster"
   ]
  },
  {
   "cell_type": "code",
   "execution_count": 58,
   "metadata": {},
   "outputs": [
    {
     "data": {
      "text/html": [
       "<ol class=list-inline>\n",
       "\t<li>4732698</li>\n",
       "\t<li>25</li>\n",
       "</ol>\n"
      ],
      "text/latex": [
       "\\begin{enumerate*}\n",
       "\\item 4732698\n",
       "\\item 25\n",
       "\\end{enumerate*}\n"
      ],
      "text/markdown": [
       "1. 4732698\n",
       "2. 25\n",
       "\n",
       "\n"
      ],
      "text/plain": [
       "[1] 4732698      25"
      ]
     },
     "metadata": {},
     "output_type": "display_data"
    }
   ],
   "source": [
    "dim(df)"
   ]
  },
  {
   "cell_type": "code",
   "execution_count": 59,
   "metadata": {},
   "outputs": [
    {
     "name": "stdout",
     "output_type": "stream",
     "text": [
      "[1] \"K = 6\"\n",
      "[1] \"iterations: 59\"\n",
      "[1] \"total.iterations: 60\"\n",
      "[1] \"restarts: 0\"\n",
      "\n",
      "      1       2       3       4       5       6 \n",
      " 330065   46891   11467   44593 3408819  890863 \n",
      "  EstMarketValue_C1 CEN_bg_pctSeasonalHousingUnits iat89_C4\n",
      "1                 0                              1        0\n",
      "2                 1                              0        0\n",
      "3                 0                              1        0\n",
      "4                 0                              1        0\n",
      "5                 0                              0        1\n",
      "6                 0                              0        1\n",
      "[1] \"K = 6\"\n",
      "[1] \"iterations: 55\"\n",
      "[1] \"total.iterations: 56\"\n",
      "[1] \"restarts: 0\"\n",
      "\n",
      "      1       2       3       4       5       6 \n",
      " 303627  131966 1434698 2277006  329804  255597 \n",
      "  EstMarketValue_C1 CEN_bg_pctSeasonalHousingUnits CEN_bg_pctHHincomeLT15K\n",
      "1                 1                              0                       0\n",
      "2                 1                              0                       0\n",
      "3                 0                              0                       0\n",
      "4                 0                              1                       0\n",
      "5                 1                              0                       0\n",
      "6                 0                              0                       1\n",
      "  imt01_C4\n",
      "1        0\n",
      "2        0\n",
      "3        1\n",
      "4        0\n",
      "5        0\n",
      "6        0\n",
      "[1] \"K = 6\"\n",
      "[1] \"iterations: 31\"\n",
      "[1] \"total.iterations: 32\"\n",
      "[1] \"restarts: 0\"\n",
      "\n",
      "      1       2       3       4       5       6 \n",
      "  27476   57449 3408177  889234  312256   38106 \n",
      "  EstMarketValue_C1 CEN_bg_pctSeasonalHousingUnits CEN_bg_pctHHincomeLT15K\n",
      "1                 0                              0                       1\n",
      "2                 1                              0                       0\n",
      "3                 0                              0                       0\n",
      "4                 0                              0                       0\n",
      "5                 0                              1                       0\n",
      "6                 0                              0                       1\n",
      "  iat89_C4\n",
      "1        0\n",
      "2        0\n",
      "3        1\n",
      "4        1\n",
      "5        0\n",
      "6        0\n",
      "[1] \"K = 6\"\n",
      "[1] \"iterations: 47\"\n",
      "[1] \"total.iterations: 48\"\n",
      "[1] \"restarts: 0\"\n",
      "\n",
      "      1       2       3       4       5       6 \n",
      " 293378  422601  161647  220560 3268552  365960 \n",
      "  EstMarketValue_C1 CEN_bg_pctSeasonalHousingUnits CEN_bg_pctHHincomeLT15K\n",
      "1                 0                              0                       1\n",
      "2                 1                              0                       0\n",
      "3                 1                              0                       0\n",
      "4                 0                              0                       1\n",
      "5                 0                              1                       0\n",
      "6                 1                              0                       0\n"
     ]
    }
   ],
   "source": [
    "#\n",
    "k = 6\n",
    "lambda = 1\n",
    "ewkm_model = fit_ewkm(k=k, lambda=lambda, data=df_scale, maxiteration=100)\n",
    "df$ewkm_k6_l1 = ewkm_model$cluster\n",
    "#\n",
    "lambda = 2\n",
    "ewkm_model = fit_ewkm(k=k, lambda=lambda, data=df_scale, maxiteration=100)\n",
    "df$ewkm_k6_l2 = ewkm_model$cluster\n",
    "#\n",
    "lambda = 3\n",
    "ewkm_model = fit_ewkm(k=k, lambda=lambda, data=df_scale, maxiteration=100)\n",
    "df$ewkm_k6_l3 = ewkm_model$cluster\n",
    "#\n",
    "lambda = 4\n",
    "ewkm_model = fit_ewkm(k=k, lambda=lambda, data=df_scale, maxiteration=100)\n",
    "df$ewkm_k6_l4 = ewkm_model$cluster"
   ]
  },
  {
   "cell_type": "code",
   "execution_count": 60,
   "metadata": {},
   "outputs": [
    {
     "data": {
      "text/html": [
       "<ol class=list-inline>\n",
       "\t<li>4732698</li>\n",
       "\t<li>28</li>\n",
       "</ol>\n"
      ],
      "text/latex": [
       "\\begin{enumerate*}\n",
       "\\item 4732698\n",
       "\\item 28\n",
       "\\end{enumerate*}\n"
      ],
      "text/markdown": [
       "1. 4732698\n",
       "2. 28\n",
       "\n",
       "\n"
      ],
      "text/plain": [
       "[1] 4732698      28"
      ]
     },
     "metadata": {},
     "output_type": "display_data"
    }
   ],
   "source": [
    "dim(df)"
   ]
  },
  {
   "cell_type": "code",
   "execution_count": 61,
   "metadata": {},
   "outputs": [
    {
     "name": "stdout",
     "output_type": "stream",
     "text": [
      "[1] \"K = 7\"\n",
      "[1] \"iterations: 39\"\n",
      "[1] \"total.iterations: 42\"\n",
      "[1] \"restarts: 1\"\n",
      "\n",
      "      1       2       3       4       5       6       7 \n",
      "1364154   32162  626276   19420 2624673   39958   26055 \n",
      "  EstMarketValue_C1 CEN_bg_pctSeasonalHousingUnits CEN_bg_pctHHincomeLT15K\n",
      "1                 0                              1                       0\n",
      "2                 0                              1                       0\n",
      "3                 0                              0                       0\n",
      "4                 0                              0                       0\n",
      "5                 0                              0                       0\n",
      "6                 1                              0                       0\n",
      "7                 0                              0                       1\n",
      "  CEN_tr_pctHHSocialSecurityIncome iat89_C4\n",
      "1                                0        0\n",
      "2                                0        0\n",
      "3                                0        1\n",
      "4                                1        0\n",
      "5                                0        1\n",
      "6                                0        0\n",
      "7                                0        0\n",
      "[1] \"K = 7\"\n",
      "[1] \"iterations: 41\"\n",
      "[1] \"total.iterations: 44\"\n",
      "[1] \"restarts: 1\"\n",
      "\n",
      "      1       2       3       4       5       6       7 \n",
      "  53675   28734  888806   29158 3407967  308932   15426 \n",
      "  EstMarketValue_C1 CEN_bg_pctSeasonalHousingUnits CEN_bg_pctHHincomeLT15K\n",
      "1                 1                              0                       0\n",
      "2                 1                              0                       0\n",
      "3                 0                              0                       0\n",
      "4                 0                              0                       1\n",
      "5                 0                              0                       0\n",
      "6                 0                              1                       0\n",
      "7                 0                              0                       0\n",
      "  CEN_tr_pctHSGrad iat89_C4\n",
      "1                0        0\n",
      "2                0        0\n",
      "3                0        1\n",
      "4                0        0\n",
      "5                0        1\n",
      "6                0        0\n",
      "7                1        0\n",
      "[1] \"K = 7\"\n",
      "[1] \"iterations: 34\"\n",
      "[1] \"total.iterations: 35\"\n",
      "[1] \"restarts: 0\"\n",
      "\n",
      "      1       2       3       4       5       6       7 \n",
      "2697532  501439  281938  571279  322217  216788  141505 \n",
      "  score_C4 EstMarketValue_C1 CEN_bg_pctHHincomeLT15K CEN_tr_pctHSGrad\n",
      "1        0                 0                       0                0\n",
      "2        0                 1                       0                0\n",
      "3        1                 0                       0                0\n",
      "4        0                 1                       0                0\n",
      "5        0                 0                       1                0\n",
      "6        0                 1                       0                0\n",
      "7        0                 0                       0                1\n",
      "  HealthScore_C5\n",
      "1              1\n",
      "2              0\n",
      "3              0\n",
      "4              0\n",
      "5              0\n",
      "6              0\n",
      "7              0\n",
      "[1] \"K = 7\"\n",
      "[1] \"iterations: 48\"\n",
      "[1] \"total.iterations: 49\"\n",
      "[1] \"restarts: 0\"\n",
      "\n",
      "      1       2       3       4       5       6       7 \n",
      "1428493    6312  611746 2573666   26997   22954   62530 \n",
      "  EstMarketValue_C1 CEN_bg_pctSeasonalHousingUnits iat89_C4 HealthScore_C5\n",
      "1                 0                              1        0              0\n",
      "2                 0                              1        0              0\n",
      "3                 0                              0        1              0\n",
      "4                 0                              0        1              0\n",
      "5                 1                              0        0              0\n",
      "6                 0                              1        0              0\n",
      "7                 0                              0        0              1\n"
     ]
    }
   ],
   "source": [
    "#\n",
    "k = 7\n",
    "lambda = 1\n",
    "ewkm_model = fit_ewkm(k=k, lambda=lambda, data=df_scale, maxiteration=100)\n",
    "df$ewkm_k7_l1 = ewkm_model$cluster\n",
    "#\n",
    "lambda = 2\n",
    "ewkm_model = fit_ewkm(k=k, lambda=lambda, data=df_scale, maxiteration=100)\n",
    "df$ewkm_k7_l2 = ewkm_model$cluster\n",
    "#\n",
    "lambda = 3\n",
    "ewkm_model = fit_ewkm(k=k, lambda=lambda, data=df_scale, maxiteration=100)\n",
    "df$ewkm_k7_l3 = ewkm_model$cluster\n",
    "#\n",
    "lambda = 4\n",
    "ewkm_model = fit_ewkm(k=k, lambda=lambda, data=df_scale, maxiteration=100)\n",
    "df$ewkm_k7_l4 = ewkm_model$cluster"
   ]
  },
  {
   "cell_type": "code",
   "execution_count": 62,
   "metadata": {},
   "outputs": [
    {
     "data": {
      "text/html": [
       "<ol class=list-inline>\n",
       "\t<li>4732698</li>\n",
       "\t<li>32</li>\n",
       "</ol>\n"
      ],
      "text/latex": [
       "\\begin{enumerate*}\n",
       "\\item 4732698\n",
       "\\item 32\n",
       "\\end{enumerate*}\n"
      ],
      "text/markdown": [
       "1. 4732698\n",
       "2. 32\n",
       "\n",
       "\n"
      ],
      "text/plain": [
       "[1] 4732698      32"
      ]
     },
     "metadata": {},
     "output_type": "display_data"
    }
   ],
   "source": [
    "dim(df)"
   ]
  },
  {
   "cell_type": "code",
   "execution_count": 63,
   "metadata": {},
   "outputs": [
    {
     "name": "stdout",
     "output_type": "stream",
     "text": [
      "[1] \"K = 8\"\n",
      "[1] \"iterations: 41\"\n",
      "[1] \"total.iterations: 44\"\n",
      "[1] \"restarts: 1\"\n",
      "\n",
      "      1       2       3       4       5       6       7       8 \n",
      " 617345   16669   36374 2574879   22172   27623 1419046   18590 \n",
      "  EstMarketValue_C1 CEN_tr_pctOwnOccSecondMort CEN_bg_pctSeasonalHousingUnits\n",
      "1                 0                          0                              0\n",
      "2                 0                          1                              0\n",
      "3                 1                          0                              0\n",
      "4                 0                          0                              0\n",
      "5                 0                          0                              0\n",
      "6                 0                          0                              1\n",
      "7                 0                          0                              1\n",
      "8                 0                          0                              0\n",
      "  CEN_bg_pctHHincomeLT15K iat89_C4 imt01_C4\n",
      "1                       0        1        0\n",
      "2                       0        0        0\n",
      "3                       0        0        0\n",
      "4                       0        1        0\n",
      "5                       1        0        0\n",
      "6                       0        0        0\n",
      "7                       0        0        0\n",
      "8                       0        0        1\n",
      "[1] \"K = 8\"\n",
      "[1] \"iterations: 27\"\n",
      "[1] \"total.iterations: 30\"\n",
      "[1] \"restarts: 1\"\n",
      "\n",
      "      1       2       3       4       5       6       7       8 \n",
      "  19886  702566   42147  214747 3126529   24899  601921       3 \n",
      "  EstMarketValue_C1 CEN_bg_pctSeasonalHousingUnits CEN_bg_pctHHincomeLT15K\n",
      "1              1.00                           0.00                    0.00\n",
      "2              0.00                           0.00                    0.00\n",
      "3              1.00                           0.00                    0.00\n",
      "4              0.00                           1.00                    0.00\n",
      "5              0.00                           0.00                    0.00\n",
      "6              0.00                           0.00                    1.00\n",
      "7              0.00                           0.00                    0.00\n",
      "8              0.06                           0.06                    0.06\n",
      "  iat89_C4 HealthScore_C5\n",
      "1     0.00           0.00\n",
      "2     1.00           0.00\n",
      "3     0.00           0.00\n",
      "4     0.00           0.00\n",
      "5     1.00           0.00\n",
      "6     0.00           0.00\n",
      "7     0.00           1.00\n",
      "8     0.06           0.06\n",
      "[1] \"K = 8\"\n",
      "[1] \"iterations: 42\"\n",
      "[1] \"total.iterations: 43\"\n",
      "[1] \"restarts: 0\"\n",
      "\n",
      "      1       2       3       4       5       6       7       8 \n",
      "  47125   78557   90125   42134 2642599  114724   46899 1670535 \n",
      "  EstMarketValue_C1 CEN_tr_pctOwnOccSecondMort CEN_bg_pctSeasonalHousingUnits\n",
      "1                 0                          1                              0\n",
      "2                 0                          0                              0\n",
      "3                 1                          0                              0\n",
      "4                 0                          0                              0\n",
      "5                 0                          0                              0\n",
      "6                 0                          0                              1\n",
      "7                 0                          0                              1\n",
      "8                 0                          0                              1\n",
      "  CEN_tr_pctHHInvestIncome iat89_C4 Target.Narrow.Band.Income_num\n",
      "1                        0        0                             0\n",
      "2                        0        0                             1\n",
      "3                        0        0                             0\n",
      "4                        1        0                             0\n",
      "5                        0        1                             0\n",
      "6                        0        0                             0\n",
      "7                        0        0                             0\n",
      "8                        0        0                             0\n",
      "[1] \"K = 8\"\n",
      "[1] \"iterations: 38\"\n",
      "[1] \"total.iterations: 41\"\n",
      "[1] \"restarts: 1\"\n",
      "\n",
      "      1       2       3       4       5       6       7       8 \n",
      " 519636   18085   27401 1159239 2202631   10095  788725    6886 \n",
      "  EstMarketValue_C1 CEN_bg_pctSeasonalHousingUnits CEN_tr_pctHHInvestIncome\n",
      "1                 0                              0                        0\n",
      "2                 0                              1                        0\n",
      "3                 1                              0                        0\n",
      "4                 0                              0                        0\n",
      "5                 0                              0                        0\n",
      "6                 1                              0                        0\n",
      "7                 0                              1                        0\n",
      "8                 0                              0                        1\n",
      "  iat89_C4 HealthScore_C5\n",
      "1        1              0\n",
      "2        0              0\n",
      "3        0              0\n",
      "4        0              1\n",
      "5        1              0\n",
      "6        0              0\n",
      "7        0              0\n",
      "8        0              0\n"
     ]
    }
   ],
   "source": [
    "#\n",
    "k = 8\n",
    "lambda = 1\n",
    "ewkm_model = fit_ewkm(k=k, lambda=lambda, data=df_scale, maxiteration=100)\n",
    "df$ewkm_k8_l1 = ewkm_model$cluster\n",
    "#\n",
    "lambda = 2\n",
    "ewkm_model = fit_ewkm(k=k, lambda=lambda, data=df_scale, maxiteration=100)\n",
    "df$ewkm_k8_l2 = ewkm_model$cluster\n",
    "#\n",
    "lambda = 3\n",
    "ewkm_model = fit_ewkm(k=k, lambda=lambda, data=df_scale, maxiteration=100)\n",
    "df$ewkm_k8_l3 = ewkm_model$cluster\n",
    "#\n",
    "lambda = 4\n",
    "ewkm_model = fit_ewkm(k=k, lambda=lambda, data=df_scale, maxiteration=100)\n",
    "df$ewkm_k8_l4 = ewkm_model$cluster"
   ]
  },
  {
   "cell_type": "code",
   "execution_count": 65,
   "metadata": {
    "scrolled": false
   },
   "outputs": [
    {
     "name": "stdout",
     "output_type": "stream",
     "text": [
      "[1] \"K = 9\"\n",
      "[1] \"iterations: 58\"\n",
      "[1] \"total.iterations: 63\"\n",
      "[1] \"restarts: 2\"\n",
      "\n",
      "      1       2       3       4       5       6       7       8       9 \n",
      " 178259 3408921   42164   50743  890739   52560   47762   61547       3 \n",
      "  score_C4 CEN_tr_pctHHInvestIncome CEN_tr_pctHHSocialSecurityIncome\n",
      "1     1.00                     0.00                             0.00\n",
      "2     0.00                     0.00                             0.00\n",
      "3     0.00                     1.00                             0.00\n",
      "4     0.00                     1.00                             0.00\n",
      "5     0.00                     0.00                             0.00\n",
      "6     0.00                     0.00                             0.00\n",
      "7     0.00                     0.00                             0.00\n",
      "8     0.00                     0.00                             1.00\n",
      "9     0.06                     0.06                             0.06\n",
      "  CEN_bg_pctLiveAloneHH CEN_tr_pctHSGrad iat89_C4\n",
      "1                  0.00             0.00     0.00\n",
      "2                  0.00             0.00     1.00\n",
      "3                  0.00             0.00     0.00\n",
      "4                  0.00             0.00     0.00\n",
      "5                  0.00             0.00     1.00\n",
      "6                  1.00             0.00     0.00\n",
      "7                  0.00             1.00     0.00\n",
      "8                  0.00             0.00     0.00\n",
      "9                  0.06             0.06     0.06\n",
      "[1] \"K = 9\"\n",
      "[1] \"iterations: 54\"\n",
      "[1] \"total.iterations: 57\"\n",
      "[1] \"restarts: 1\"\n",
      "\n",
      "      1       2       3       4       5       6       7       8       9 \n",
      "      3  313658   16044   17355   31985   24536 3402842   38680  887595 \n",
      "  EstMarketValue_C1 CEN_bg_pctSeasonalHousingUnits CEN_bg_pctHHincomeLT15K\n",
      "1              0.06                           0.06                    0.06\n",
      "2              0.00                           1.00                    0.00\n",
      "3              1.00                           0.00                    0.00\n",
      "4              0.00                           0.00                    1.00\n",
      "5              1.00                           0.00                    0.00\n",
      "6              0.00                           0.00                    1.00\n",
      "7              0.00                           0.00                    0.00\n",
      "8              1.00                           0.00                    0.00\n",
      "9              0.00                           0.00                    0.00\n",
      "  iat89_C4\n",
      "1     0.06\n",
      "2     0.00\n",
      "3     0.00\n",
      "4     0.00\n",
      "5     0.00\n",
      "6     0.00\n",
      "7     1.00\n",
      "8     0.00\n",
      "9     1.00\n",
      "[1] \"K = 9\"\n",
      "[1] \"iterations: 39\"\n",
      "[1] \"total.iterations: 42\"\n",
      "[1] \"restarts: 1\"\n",
      "\n",
      "      1       2       3       4       5       6       7       8       9 \n",
      "  53966   24932   20790   20847 1922684 1463466  860493   13313  352207 \n",
      "  score_C4 CEN_bg_pctSeasonalHousingUnits iat89_C4\n",
      "1        1                              0        0\n",
      "2        0                              1        0\n",
      "3        0                              0        0\n",
      "4        1                              0        0\n",
      "5        0                              0        1\n",
      "6        0                              0        1\n",
      "7        0                              0        1\n",
      "8        0                              1        0\n",
      "9        0                              1        0\n",
      "  Target.Narrow.Band.Income_num\n",
      "1                             0\n",
      "2                             0\n",
      "3                             1\n",
      "4                             0\n",
      "5                             0\n",
      "6                             0\n",
      "7                             0\n",
      "8                             0\n",
      "9                             0\n",
      "[1] \"K = 9\"\n",
      "[1] \"iterations: 86\"\n",
      "[1] \"total.iterations: 87\"\n",
      "[1] \"restarts: 0\"\n",
      "\n",
      "      1       2       3       4       5       6       7       8       9 \n",
      " 143387  196006   96720  264696  138972  166972 3297390  126432  302123 \n",
      "  EstMarketValue_C1 CEN_bg_pctSeasonalHousingUnits CEN_bg_pctHHincomeLT15K\n",
      "1                 1                              0                       0\n",
      "2                 0                              1                       0\n",
      "3                 0                              1                       0\n",
      "4                 1                              0                       0\n",
      "5                 0                              0                       1\n",
      "6                 0                              0                       1\n",
      "7                 0                              1                       0\n",
      "8                 0                              0                       0\n",
      "9                 0                              1                       0\n",
      "  Target.Narrow.Band.Income_num\n",
      "1                             0\n",
      "2                             0\n",
      "3                             0\n",
      "4                             0\n",
      "5                             0\n",
      "6                             0\n",
      "7                             0\n",
      "8                             1\n",
      "9                             0\n"
     ]
    }
   ],
   "source": [
    "#\n",
    "k = 9\n",
    "lambda = 1\n",
    "ewkm_model = fit_ewkm(k=k, lambda=lambda, data=df_scale, maxiteration=100)\n",
    "df$ewkm_k9_l1 = ewkm_model$cluster\n",
    "#\n",
    "lambda = 2\n",
    "ewkm_model = fit_ewkm(k=k, lambda=lambda, data=df_scale, maxiteration=100)\n",
    "df$ewkm_k9_l2 = ewkm_model$cluster\n",
    "#\n",
    "lambda = 3\n",
    "ewkm_model = fit_ewkm(k=k, lambda=lambda, data=df_scale, maxiteration=100)\n",
    "df$ewkm_k9_l3 = ewkm_model$cluster\n",
    "#\n",
    "lambda = 4\n",
    "ewkm_model = fit_ewkm(k=k, lambda=lambda, data=df_scale, maxiteration=100)\n",
    "df$ewkm_k9_l4 = ewkm_model$cluster"
   ]
  },
  {
   "cell_type": "code",
   "execution_count": 66,
   "metadata": {
    "scrolled": false
   },
   "outputs": [
    {
     "name": "stdout",
     "output_type": "stream",
     "text": [
      "[1] \"K = 10\"\n",
      "[1] \"iterations: 81\"\n",
      "[1] \"total.iterations: 82\"\n",
      "[1] \"restarts: 0\"\n",
      "\n",
      "      1       2       3       4       5       6       7       8       9      10 \n",
      "  13731   11586  877474  333583   11253   18267   20211   29332   26431 3390830 \n",
      "   EstMarketValue_C1 CEN_tr_pctOwnOccSecondMort CEN_bg_pctSeasonalHousingUnits\n",
      "1                  1                          0                              0\n",
      "2                  0                          1                              0\n",
      "3                  0                          0                              0\n",
      "4                  0                          0                              1\n",
      "5                  0                          0                              0\n",
      "6                  0                          0                              0\n",
      "7                  0                          0                              0\n",
      "8                  1                          0                              0\n",
      "9                  1                          0                              0\n",
      "10                 0                          0                              0\n",
      "   CEN_bg_pctHHincomeLT15K iat89_C4\n",
      "1                        0        0\n",
      "2                        0        0\n",
      "3                        0        1\n",
      "4                        0        0\n",
      "5                        1        0\n",
      "6                        1        0\n",
      "7                        1        0\n",
      "8                        0        0\n",
      "9                        0        0\n",
      "10                       0        1\n",
      "[1] \"K = 10\"\n",
      "[1] \"iterations: 45\"\n",
      "[1] \"total.iterations: 52\"\n",
      "[1] \"restarts: 2\"\n",
      "\n",
      "      1       2       3       4       5       6       7       8       9      10 \n",
      "1862568   11704   26425 1474431  319211  810189   19482   22592   49117  136979 \n",
      "   score_C4 EstMarketValue_C1 CEN_bg_pctSeasonalHousingUnits iat89_C4 imt01_C4\n",
      "1         0                 0                              0        1        0\n",
      "2         0                 1                              0        0        0\n",
      "3         0                 0                              0        0        0\n",
      "4         0                 0                              0        1        0\n",
      "5         0                 0                              1        0        0\n",
      "6         0                 0                              0        1        0\n",
      "7         1                 0                              0        0        0\n",
      "8         0                 1                              0        0        0\n",
      "9         1                 0                              0        0        0\n",
      "10        0                 0                              0        0        1\n",
      "   IssAgeALB\n",
      "1          0\n",
      "2          0\n",
      "3          1\n",
      "4          0\n",
      "5          0\n",
      "6          0\n",
      "7          0\n",
      "8          0\n",
      "9          0\n",
      "10         0\n",
      "[1] \"K = 10\"\n",
      "[1] \"iterations: 57\"\n",
      "[1] \"total.iterations: 60\"\n",
      "[1] \"restarts: 1\"\n",
      "\n",
      "      1       2       3       4       5       6       7       8       9      10 \n",
      "  75427   53969  530386 2344713   22856 1604250       4   32492   18940   49661 \n",
      "   score_C4 EstMarketValue_C1 CEN_bg_pctSeasonalHousingUnits\n",
      "1      1.00              0.00                           0.00\n",
      "2      0.00              0.00                           0.00\n",
      "3      0.00              0.00                           0.00\n",
      "4      0.00              0.00                           0.00\n",
      "5      0.00              0.00                           0.00\n",
      "6      0.00              0.00                           1.00\n",
      "7      0.06              0.06                           0.06\n",
      "8      0.00              1.00                           0.00\n",
      "9      0.00              0.00                           1.00\n",
      "10     0.00              0.00                           1.00\n",
      "   CEN_tr_pctHHSocialSecurityIncome iat89_C4 imt01_C4 IssAgeALB\n",
      "1                              0.00     0.00     0.00      0.00\n",
      "2                              0.00     0.00     0.00      1.00\n",
      "3                              0.00     0.00     1.00      0.00\n",
      "4                              0.00     1.00     0.00      0.00\n",
      "5                              1.00     0.00     0.00      0.00\n",
      "6                              0.00     0.00     0.00      0.00\n",
      "7                              0.06     0.06     0.06      0.06\n",
      "8                              0.00     0.00     0.00      0.00\n",
      "9                              0.00     0.00     0.00      0.00\n",
      "10                             0.00     0.00     0.00      0.00\n",
      "[1] \"K = 10\"\n",
      "[1] \"iterations: 100\"\n",
      "[1] \"total.iterations: 100\"\n",
      "[1] \"restarts: 0\"\n",
      "\n",
      "      1       2       3       4       5       6       7       8       9      10 \n",
      "  21868  573559    5744  615644   14963 1276868   14011   11377   25255 2173409 \n",
      "   EstMarketValue_C1 CEN_tr_pctOwnOccSecondMort CEN_bg_pctSeasonalHousingUnits\n",
      "1                  1                          0                              0\n",
      "2                  0                          0                              0\n",
      "3                  0                          0                              1\n",
      "4                  0                          0                              0\n",
      "5                  0                          0                              0\n",
      "6                  0                          0                              1\n",
      "7                  0                          0                              1\n",
      "8                  0                          1                              0\n",
      "9                  0                          0                              1\n",
      "10                 0                          0                              0\n",
      "   CEN_bg_pctHHincomeLT15K iat89_C4 imt01_C4\n",
      "1                        0        0        0\n",
      "2                        0        1        0\n",
      "3                        0        0        0\n",
      "4                        0        0        1\n",
      "5                        1        0        0\n",
      "6                        0        0        0\n",
      "7                        0        0        0\n",
      "8                        0        0        0\n",
      "9                        0        0        0\n",
      "10                       0        1        0\n"
     ]
    }
   ],
   "source": [
    "#\n",
    "k = 10\n",
    "lambda = 1\n",
    "ewkm_model = fit_ewkm(k=k, lambda=lambda, data=df_scale, maxiteration=100)\n",
    "df$ewkm_k10_l1 = ewkm_model$cluster\n",
    "#\n",
    "lambda = 2\n",
    "ewkm_model = fit_ewkm(k=k, lambda=lambda, data=df_scale, maxiteration=100)\n",
    "df$ewkm_k10_l2 = ewkm_model$cluster\n",
    "#\n",
    "lambda = 3\n",
    "ewkm_model = fit_ewkm(k=k, lambda=lambda, data=df_scale, maxiteration=100)\n",
    "df$ewkm_k10_l3 = ewkm_model$cluster\n",
    "#\n",
    "lambda = 4\n",
    "ewkm_model = fit_ewkm(k=k, lambda=lambda, data=df_scale, maxiteration=100)\n",
    "df$ewkm_k10_l4 = ewkm_model$cluster"
   ]
  },
  {
   "cell_type": "code",
   "execution_count": 67,
   "metadata": {},
   "outputs": [
    {
     "data": {
      "text/html": [
       "<ol class=list-inline>\n",
       "\t<li>4732698</li>\n",
       "\t<li>44</li>\n",
       "</ol>\n"
      ],
      "text/latex": [
       "\\begin{enumerate*}\n",
       "\\item 4732698\n",
       "\\item 44\n",
       "\\end{enumerate*}\n"
      ],
      "text/markdown": [
       "1. 4732698\n",
       "2. 44\n",
       "\n",
       "\n"
      ],
      "text/plain": [
       "[1] 4732698      44"
      ]
     },
     "metadata": {},
     "output_type": "display_data"
    }
   ],
   "source": [
    "dim(df)"
   ]
  },
  {
   "cell_type": "code",
   "execution_count": 69,
   "metadata": {
    "collapsed": true
   },
   "outputs": [],
   "source": [
    "write.csv(df, file = \"ewkm_result.csv\")"
   ]
  },
  {
   "cell_type": "code",
   "execution_count": 70,
   "metadata": {},
   "outputs": [
    {
     "data": {
      "image/png": "",
      "text/plain": [
       "plot without title"
      ]
     },
     "metadata": {},
     "output_type": "display_data"
    },
    {
     "data": {
      "image/png": "",
      "text/plain": [
       "plot without title"
      ]
     },
     "metadata": {},
     "output_type": "display_data"
    },
    {
     "data": {
      "image/png": "",
      "text/plain": [
       "plot without title"
      ]
     },
     "metadata": {},
     "output_type": "display_data"
    },
    {
     "data": {
      "image/png": "",
      "text/plain": [
       "plot without title"
      ]
     },
     "metadata": {},
     "output_type": "display_data"
    },
    {
     "data": {
      "image/png": "",
      "text/plain": [
       "plot without title"
      ]
     },
     "metadata": {},
     "output_type": "display_data"
    }
   ],
   "source": [
    "# score_C4 EstMarketValue_C1 CEN_bg_pctHHincomeLT15K CEN_tr_pctHSGrad\n",
    "# 1        0                 0                       0                0\n",
    "# 2        0                 1                       0                0\n",
    "# 3        1                 0                       0                0\n",
    "# 4        0                 1                       0                0\n",
    "# 5        0                 0                       1                0\n",
    "# 6        0                 1                       0                0\n",
    "# 7        0                 0                       0                1\n",
    "#   HealthScore_C5\n",
    "# 1              1\n",
    "# 2              0\n",
    "# 3              0\n",
    "# 4              0\n",
    "# 5              0\n",
    "# 6              0\n",
    "# 7              0\n",
    "\n",
    "# 1       2       3       4       5       6       7 \n",
    "# 2697532  501439  281938  571279  322217  216788  141505 \n",
    "df_score_c4 <- boxplot(score_C4~ewkm_k7_l3, df, plot = FALSE)$stats\n",
    "df_EstMarketValue_C1 <- boxplot(EstMarketValue_C1~ewkm_k7_l3, df, plot = FALSE)$stats\n",
    "df_CEN_bg_pctHHincomeLT15K <- boxplot(CEN_bg_pctHHincomeLT15K~ewkm_k7_l3, df, plot = FALSE)$stats\n",
    "df_CEN_tr_pctHSGrad <- boxplot(CEN_tr_pctHSGrad~ewkm_k7_l3, df, plot = FALSE)$stats\n",
    "df_HealthScore_C5 <- boxplot(HealthScore_C5~ewkm_k7_l3, df, plot = FALSE)$stats"
   ]
  },
  {
   "cell_type": "code",
   "execution_count": 71,
   "metadata": {},
   "outputs": [
    {
     "data": {
      "text/html": [
       "<table>\n",
       "<tbody>\n",
       "\t<tr><td> 21     </td><td> 21.000 </td><td>681     </td><td> 21.0000</td><td> 21     </td><td> 21.0000</td><td> 21.0000</td></tr>\n",
       "\t<tr><td> 83     </td><td> 81.000 </td><td>747     </td><td> 70.0000</td><td> 87     </td><td> 93.0000</td><td> 93.0000</td></tr>\n",
       "\t<tr><td>161     </td><td>150.000 </td><td>769     </td><td> 96.0000</td><td>182     </td><td>195.0000</td><td>191.0000</td></tr>\n",
       "\t<tr><td>745     </td><td>595.075 </td><td>791     </td><td>552.6569</td><td>619     </td><td>601.0809</td><td>608.1353</td></tr>\n",
       "\t<tr><td>899     </td><td>899.000 </td><td>857     </td><td>899.0000</td><td>899     </td><td>899.0000</td><td>899.0000</td></tr>\n",
       "</tbody>\n",
       "</table>\n"
      ],
      "text/latex": [
       "\\begin{tabular}{lllllll}\n",
       "\t  21      &  21.000  & 681      &  21.0000 &  21      &  21.0000 &  21.0000\\\\\n",
       "\t  83      &  81.000  & 747      &  70.0000 &  87      &  93.0000 &  93.0000\\\\\n",
       "\t 161      & 150.000  & 769      &  96.0000 & 182      & 195.0000 & 191.0000\\\\\n",
       "\t 745      & 595.075  & 791      & 552.6569 & 619      & 601.0809 & 608.1353\\\\\n",
       "\t 899      & 899.000  & 857      & 899.0000 & 899      & 899.0000 & 899.0000\\\\\n",
       "\\end{tabular}\n"
      ],
      "text/markdown": [
       "\n",
       "|  21      |  21.000  | 681      |  21.0000 |  21      |  21.0000 |  21.0000 | \n",
       "|  83      |  81.000  | 747      |  70.0000 |  87      |  93.0000 |  93.0000 | \n",
       "| 161      | 150.000  | 769      |  96.0000 | 182      | 195.0000 | 191.0000 | \n",
       "| 745      | 595.075  | 791      | 552.6569 | 619      | 601.0809 | 608.1353 | \n",
       "| 899      | 899.000  | 857      | 899.0000 | 899      | 899.0000 | 899.0000 | \n",
       "\n",
       "\n"
      ],
      "text/plain": [
       "     [,1] [,2]    [,3] [,4]     [,5] [,6]     [,7]    \n",
       "[1,]  21   21.000 681   21.0000  21   21.0000  21.0000\n",
       "[2,]  83   81.000 747   70.0000  87   93.0000  93.0000\n",
       "[3,] 161  150.000 769   96.0000 182  195.0000 191.0000\n",
       "[4,] 745  595.075 791  552.6569 619  601.0809 608.1353\n",
       "[5,] 899  899.000 857  899.0000 899  899.0000 899.0000"
      ]
     },
     "metadata": {},
     "output_type": "display_data"
    }
   ],
   "source": [
    "df_score_c4"
   ]
  },
  {
   "cell_type": "code",
   "execution_count": 72,
   "metadata": {},
   "outputs": [
    {
     "data": {
      "text/html": [
       "<table>\n",
       "<tbody>\n",
       "\t<tr><td>     0   </td><td>161823.2 </td><td>     0.0 </td><td> 22513.19</td><td>     0.0 </td><td>287641.2 </td><td>      0.0</td></tr>\n",
       "\t<tr><td>149000   </td><td>188000.0 </td><td>145000.0 </td><td> 90000.00</td><td>171000.0 </td><td>326957.3 </td><td> 268680.8</td></tr>\n",
       "\t<tr><td>233000   </td><td>211000.0 </td><td>246000.0 </td><td>113842.90</td><td>289851.4 </td><td>356000.0 </td><td> 422000.0</td></tr>\n",
       "\t<tr><td>385106   </td><td>235000.0 </td><td>418000.0 </td><td>135000.00</td><td>493000.0 </td><td>386000.0 </td><td> 570000.0</td></tr>\n",
       "\t<tr><td>739265   </td><td>287641.2 </td><td>827415.1 </td><td>161828.37</td><td>976000.0 </td><td>474557.8 </td><td>1021000.0</td></tr>\n",
       "</tbody>\n",
       "</table>\n"
      ],
      "text/latex": [
       "\\begin{tabular}{lllllll}\n",
       "\t      0    & 161823.2  &      0.0  &  22513.19 &      0.0  & 287641.2  &       0.0\\\\\n",
       "\t 149000    & 188000.0  & 145000.0  &  90000.00 & 171000.0  & 326957.3  &  268680.8\\\\\n",
       "\t 233000    & 211000.0  & 246000.0  & 113842.90 & 289851.4  & 356000.0  &  422000.0\\\\\n",
       "\t 385106    & 235000.0  & 418000.0  & 135000.00 & 493000.0  & 386000.0  &  570000.0\\\\\n",
       "\t 739265    & 287641.2  & 827415.1  & 161828.37 & 976000.0  & 474557.8  & 1021000.0\\\\\n",
       "\\end{tabular}\n"
      ],
      "text/markdown": [
       "\n",
       "|      0    | 161823.2  |      0.0  |  22513.19 |      0.0  | 287641.2  |       0.0 | \n",
       "| 149000    | 188000.0  | 145000.0  |  90000.00 | 171000.0  | 326957.3  |  268680.8 | \n",
       "| 233000    | 211000.0  | 246000.0  | 113842.90 | 289851.4  | 356000.0  |  422000.0 | \n",
       "| 385106    | 235000.0  | 418000.0  | 135000.00 | 493000.0  | 386000.0  |  570000.0 | \n",
       "| 739265    | 287641.2  | 827415.1  | 161828.37 | 976000.0  | 474557.8  | 1021000.0 | \n",
       "\n",
       "\n"
      ],
      "text/plain": [
       "     [,1]   [,2]     [,3]     [,4]      [,5]     [,6]     [,7]     \n",
       "[1,]      0 161823.2      0.0  22513.19      0.0 287641.2       0.0\n",
       "[2,] 149000 188000.0 145000.0  90000.00 171000.0 326957.3  268680.8\n",
       "[3,] 233000 211000.0 246000.0 113842.90 289851.4 356000.0  422000.0\n",
       "[4,] 385106 235000.0 418000.0 135000.00 493000.0 386000.0  570000.0\n",
       "[5,] 739265 287641.2 827415.1 161828.37 976000.0 474557.8 1021000.0"
      ]
     },
     "metadata": {},
     "output_type": "display_data"
    }
   ],
   "source": [
    "df_EstMarketValue_C1"
   ]
  },
  {
   "cell_type": "code",
   "execution_count": 73,
   "metadata": {},
   "outputs": [
    {
     "data": {
      "text/html": [
       "<table>\n",
       "<tbody>\n",
       "\t<tr><td>0.00000000</td><td>0.00000000</td><td>0.00000000</td><td>0.00000000</td><td>0.00400000</td><td>0.00000000</td><td>0.00000000</td></tr>\n",
       "\t<tr><td>0.02783300</td><td>0.04609475</td><td>0.02880658</td><td>0.06265356</td><td>0.02490170</td><td>0.01948052</td><td>0.01450512</td></tr>\n",
       "\t<tr><td>0.06355932</td><td>0.08247423</td><td>0.07474227</td><td>0.10526316</td><td>0.03202847</td><td>0.07023604</td><td>0.05955056</td></tr>\n",
       "\t<tr><td>0.11718750</td><td>0.12998860</td><td>0.12888889</td><td>0.16568047</td><td>0.03888889</td><td>0.11727273</td><td>0.10335196</td></tr>\n",
       "\t<tr><td>0.25121556</td><td>0.25581395</td><td>0.27898551</td><td>0.32020202</td><td>0.05985915</td><td>0.26395939</td><td>0.23658537</td></tr>\n",
       "</tbody>\n",
       "</table>\n"
      ],
      "text/latex": [
       "\\begin{tabular}{lllllll}\n",
       "\t 0.00000000 & 0.00000000 & 0.00000000 & 0.00000000 & 0.00400000 & 0.00000000 & 0.00000000\\\\\n",
       "\t 0.02783300 & 0.04609475 & 0.02880658 & 0.06265356 & 0.02490170 & 0.01948052 & 0.01450512\\\\\n",
       "\t 0.06355932 & 0.08247423 & 0.07474227 & 0.10526316 & 0.03202847 & 0.07023604 & 0.05955056\\\\\n",
       "\t 0.11718750 & 0.12998860 & 0.12888889 & 0.16568047 & 0.03888889 & 0.11727273 & 0.10335196\\\\\n",
       "\t 0.25121556 & 0.25581395 & 0.27898551 & 0.32020202 & 0.05985915 & 0.26395939 & 0.23658537\\\\\n",
       "\\end{tabular}\n"
      ],
      "text/markdown": [
       "\n",
       "| 0.00000000 | 0.00000000 | 0.00000000 | 0.00000000 | 0.00400000 | 0.00000000 | 0.00000000 | \n",
       "| 0.02783300 | 0.04609475 | 0.02880658 | 0.06265356 | 0.02490170 | 0.01948052 | 0.01450512 | \n",
       "| 0.06355932 | 0.08247423 | 0.07474227 | 0.10526316 | 0.03202847 | 0.07023604 | 0.05955056 | \n",
       "| 0.11718750 | 0.12998860 | 0.12888889 | 0.16568047 | 0.03888889 | 0.11727273 | 0.10335196 | \n",
       "| 0.25121556 | 0.25581395 | 0.27898551 | 0.32020202 | 0.05985915 | 0.26395939 | 0.23658537 | \n",
       "\n",
       "\n"
      ],
      "text/plain": [
       "     [,1]       [,2]       [,3]       [,4]       [,5]       [,6]      \n",
       "[1,] 0.00000000 0.00000000 0.00000000 0.00000000 0.00400000 0.00000000\n",
       "[2,] 0.02783300 0.04609475 0.02880658 0.06265356 0.02490170 0.01948052\n",
       "[3,] 0.06355932 0.08247423 0.07474227 0.10526316 0.03202847 0.07023604\n",
       "[4,] 0.11718750 0.12998860 0.12888889 0.16568047 0.03888889 0.11727273\n",
       "[5,] 0.25121556 0.25581395 0.27898551 0.32020202 0.05985915 0.26395939\n",
       "     [,7]      \n",
       "[1,] 0.00000000\n",
       "[2,] 0.01450512\n",
       "[3,] 0.05955056\n",
       "[4,] 0.10335196\n",
       "[5,] 0.23658537"
      ]
     },
     "metadata": {},
     "output_type": "display_data"
    }
   ],
   "source": [
    "df_CEN_bg_pctHHincomeLT15K"
   ]
  },
  {
   "cell_type": "code",
   "execution_count": 74,
   "metadata": {},
   "outputs": [
    {
     "data": {
      "text/html": [
       "<table>\n",
       "<tbody>\n",
       "\t<tr><td>0.0000000 </td><td>0.05626431</td><td>0.0000000 </td><td>0.1083716 </td><td>0.0000000 </td><td>0.01745962</td><td>0.1217066 </td></tr>\n",
       "\t<tr><td>0.1779584 </td><td>0.23398405</td><td>0.2031250 </td><td>0.2886164 </td><td>0.1550285 </td><td>0.18727915</td><td>0.1535604 </td></tr>\n",
       "\t<tr><td>0.2636364 </td><td>0.29522529</td><td>0.2797643 </td><td>0.3496641 </td><td>0.2413361 </td><td>0.24248088</td><td>0.1639839 </td></tr>\n",
       "\t<tr><td>0.3461876 </td><td>0.35250273</td><td>0.3594062 </td><td>0.4088398 </td><td>0.3135889 </td><td>0.30051282</td><td>0.1748182 </td></tr>\n",
       "\t<tr><td>0.5970102 </td><td>0.53024575</td><td>0.5933278 </td><td>0.5888122 </td><td>0.5511145 </td><td>0.47030594</td><td>0.2066523 </td></tr>\n",
       "</tbody>\n",
       "</table>\n"
      ],
      "text/latex": [
       "\\begin{tabular}{lllllll}\n",
       "\t 0.0000000  & 0.05626431 & 0.0000000  & 0.1083716  & 0.0000000  & 0.01745962 & 0.1217066 \\\\\n",
       "\t 0.1779584  & 0.23398405 & 0.2031250  & 0.2886164  & 0.1550285  & 0.18727915 & 0.1535604 \\\\\n",
       "\t 0.2636364  & 0.29522529 & 0.2797643  & 0.3496641  & 0.2413361  & 0.24248088 & 0.1639839 \\\\\n",
       "\t 0.3461876  & 0.35250273 & 0.3594062  & 0.4088398  & 0.3135889  & 0.30051282 & 0.1748182 \\\\\n",
       "\t 0.5970102  & 0.53024575 & 0.5933278  & 0.5888122  & 0.5511145  & 0.47030594 & 0.2066523 \\\\\n",
       "\\end{tabular}\n"
      ],
      "text/markdown": [
       "\n",
       "| 0.0000000  | 0.05626431 | 0.0000000  | 0.1083716  | 0.0000000  | 0.01745962 | 0.1217066  | \n",
       "| 0.1779584  | 0.23398405 | 0.2031250  | 0.2886164  | 0.1550285  | 0.18727915 | 0.1535604  | \n",
       "| 0.2636364  | 0.29522529 | 0.2797643  | 0.3496641  | 0.2413361  | 0.24248088 | 0.1639839  | \n",
       "| 0.3461876  | 0.35250273 | 0.3594062  | 0.4088398  | 0.3135889  | 0.30051282 | 0.1748182  | \n",
       "| 0.5970102  | 0.53024575 | 0.5933278  | 0.5888122  | 0.5511145  | 0.47030594 | 0.2066523  | \n",
       "\n",
       "\n"
      ],
      "text/plain": [
       "     [,1]      [,2]       [,3]      [,4]      [,5]      [,6]       [,7]     \n",
       "[1,] 0.0000000 0.05626431 0.0000000 0.1083716 0.0000000 0.01745962 0.1217066\n",
       "[2,] 0.1779584 0.23398405 0.2031250 0.2886164 0.1550285 0.18727915 0.1535604\n",
       "[3,] 0.2636364 0.29522529 0.2797643 0.3496641 0.2413361 0.24248088 0.1639839\n",
       "[4,] 0.3461876 0.35250273 0.3594062 0.4088398 0.3135889 0.30051282 0.1748182\n",
       "[5,] 0.5970102 0.53024575 0.5933278 0.5888122 0.5511145 0.47030594 0.2066523"
      ]
     },
     "metadata": {},
     "output_type": "display_data"
    }
   ],
   "source": [
    "df_CEN_tr_pctHSGrad"
   ]
  },
  {
   "cell_type": "code",
   "execution_count": 75,
   "metadata": {},
   "outputs": [
    {
     "data": {
      "text/html": [
       "<table>\n",
       "<tbody>\n",
       "\t<tr><td>0.5  </td><td>1.125</td><td>1.125</td><td>1.125</td><td>1.125</td><td>1.125</td><td>1.125</td></tr>\n",
       "\t<tr><td>0.5  </td><td>1.125</td><td>1.125</td><td>1.125</td><td>1.125</td><td>1.125</td><td>1.125</td></tr>\n",
       "\t<tr><td>0.5  </td><td>1.125</td><td>1.125</td><td>1.125</td><td>1.125</td><td>1.125</td><td>1.125</td></tr>\n",
       "\t<tr><td>0.5  </td><td>1.375</td><td>1.375</td><td>1.375</td><td>1.375</td><td>1.375</td><td>1.375</td></tr>\n",
       "\t<tr><td>0.5  </td><td>1.625</td><td>1.625</td><td>1.625</td><td>1.625</td><td>1.625</td><td>1.625</td></tr>\n",
       "</tbody>\n",
       "</table>\n"
      ],
      "text/latex": [
       "\\begin{tabular}{lllllll}\n",
       "\t 0.5   & 1.125 & 1.125 & 1.125 & 1.125 & 1.125 & 1.125\\\\\n",
       "\t 0.5   & 1.125 & 1.125 & 1.125 & 1.125 & 1.125 & 1.125\\\\\n",
       "\t 0.5   & 1.125 & 1.125 & 1.125 & 1.125 & 1.125 & 1.125\\\\\n",
       "\t 0.5   & 1.375 & 1.375 & 1.375 & 1.375 & 1.375 & 1.375\\\\\n",
       "\t 0.5   & 1.625 & 1.625 & 1.625 & 1.625 & 1.625 & 1.625\\\\\n",
       "\\end{tabular}\n"
      ],
      "text/markdown": [
       "\n",
       "| 0.5   | 1.125 | 1.125 | 1.125 | 1.125 | 1.125 | 1.125 | \n",
       "| 0.5   | 1.125 | 1.125 | 1.125 | 1.125 | 1.125 | 1.125 | \n",
       "| 0.5   | 1.125 | 1.125 | 1.125 | 1.125 | 1.125 | 1.125 | \n",
       "| 0.5   | 1.375 | 1.375 | 1.375 | 1.375 | 1.375 | 1.375 | \n",
       "| 0.5   | 1.625 | 1.625 | 1.625 | 1.625 | 1.625 | 1.625 | \n",
       "\n",
       "\n"
      ],
      "text/plain": [
       "     [,1] [,2]  [,3]  [,4]  [,5]  [,6]  [,7] \n",
       "[1,] 0.5  1.125 1.125 1.125 1.125 1.125 1.125\n",
       "[2,] 0.5  1.125 1.125 1.125 1.125 1.125 1.125\n",
       "[3,] 0.5  1.125 1.125 1.125 1.125 1.125 1.125\n",
       "[4,] 0.5  1.375 1.375 1.375 1.375 1.375 1.375\n",
       "[5,] 0.5  1.625 1.625 1.625 1.625 1.625 1.625"
      ]
     },
     "metadata": {},
     "output_type": "display_data"
    }
   ],
   "source": [
    "df_HealthScore_C5"
   ]
  },
  {
   "cell_type": "code",
   "execution_count": 76,
   "metadata": {
    "collapsed": true
   },
   "outputs": [],
   "source": [
    "save(df_HealthScore_C5, df_CEN_tr_pctHSGrad, df_CEN_bg_pctHHincomeLT15K, df_EstMarketValue_C1, df_score_c4, file = \"ewkm_k7_l3.RData\")"
   ]
  }
 ],
 "metadata": {
  "kernelspec": {
   "display_name": "R",
   "language": "R",
   "name": "ir"
  },
  "language_info": {
   "codemirror_mode": "r",
   "file_extension": ".r",
   "mimetype": "text/x-r-source",
   "name": "R",
   "pygments_lexer": "r",
   "version": "3.4.1"
  }
 },
 "nbformat": 4,
 "nbformat_minor": 2
}
