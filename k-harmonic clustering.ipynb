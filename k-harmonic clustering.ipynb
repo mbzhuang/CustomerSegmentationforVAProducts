{
 "cells": [
  {
   "cell_type": "code",
   "execution_count": 1,
   "metadata": {
    "collapsed": true
   },
   "outputs": [],
   "source": [
    "import pandas as pd\n",
    "import numpy as np\n",
    "import random"
   ]
  },
  {
   "cell_type": "markdown",
   "metadata": {},
   "source": [
    "#### import data"
   ]
  },
  {
   "cell_type": "code",
   "execution_count": 2,
   "metadata": {
    "collapsed": true
   },
   "outputs": [],
   "source": [
    "df = pd.read_csv('cluster.csv', header = None)\n",
    "\n",
    "# convert dataframe into numpy array\n",
    "X = df.values"
   ]
  },
  {
   "cell_type": "markdown",
   "metadata": {},
   "source": [
    "#### Standardize the data points"
   ]
  },
  {
   "cell_type": "code",
   "execution_count": 3,
   "metadata": {
    "collapsed": true
   },
   "outputs": [],
   "source": [
    "from sklearn.preprocessing import StandardScaler\n",
    "\n",
    "sc = StandardScaler()\n",
    "X_sc = sc.fit_transform(X)"
   ]
  },
  {
   "cell_type": "markdown",
   "metadata": {},
   "source": [
    " #### Define a function to calculate distances to centroids for all data points - can be further optimized (with the np.vectorize function etc.)"
   ]
  },
  {
   "cell_type": "code",
   "execution_count": 4,
   "metadata": {
    "collapsed": true
   },
   "outputs": [],
   "source": [
    "def distance(points1, points2):\n",
    "    distances = np.zeros(shape=(points1.shape[0], points2.shape[0]))\n",
    "    distanceToCentroids = lambda point: \\\n",
    "        np.array([np.linalg.norm(point - centroid) for centroid in points2],dtype = float)\n",
    "\n",
    "    # Loop over data points:\n",
    "    for i in range(points1.shape[0]):\n",
    "        distances[i,] = distanceToCentroids(points1[i, ])\n",
    "    \n",
    "    return(distances)"
   ]
  },
  {
   "cell_type": "markdown",
   "metadata": {},
   "source": [
    "#### Define the function to iteratively get find the cluster centroids"
   ]
  },
  {
   "cell_type": "code",
   "execution_count": 5,
   "metadata": {
    "collapsed": true
   },
   "outputs": [],
   "source": [
    "def khmeans(X, n_clusters, p=2, max_iter=300, tol=1e-4):\n",
    "        \n",
    "    # X : array-like matrix, already standardized\n",
    "    n_samples = X.shape[0]\n",
    "    n_features = X.shape[1]\n",
    "        \n",
    "    # initialize centroids randomly\n",
    "    centroids = X[random.sample(range(n_samples), n_clusters), ]\n",
    "    \n",
    "    # initialize an array to store the memebership values for all data points\n",
    "    membership = np.zeros(shape=(n_samples, n_clusters))\n",
    "    \n",
    "    # initialize an array to store values of weight for all data points\n",
    "    weight = np.zeros(shape=(n_samples, ))\n",
    "    \n",
    "    # initialize upper and lower part of the new center location calculation formula\n",
    "    c_upper = np.zeros(shape=(n_clusters, n_features))\n",
    "    c_lower = np.zeros(shape=(n_clusters, ))\n",
    "    \n",
    "    # initiate an array to store the silhouette scores for all data points\n",
    "    silhouettes = np.zeros(shape=(n_samples, )) \n",
    "    \n",
    "    for iteration in range(max_iter):\n",
    "        \n",
    "        # calculate the objective function values of the KHM algorithm\n",
    "        distances = distance(X, centroids)\n",
    "        reciprocal = np.reciprocal(distances**p)\n",
    "        reciprocal[np.isinf(reciprocal)] = 0\n",
    "        obj = np.sum(n_clusters / np.sum(reciprocal, axis=1))\n",
    "        \n",
    "        # calculate the the grade of membership value of each data point to each centroid\n",
    "        d = distances**(-1)\n",
    "        d[np.isinf(d)] = 0\n",
    "        for i in range(n_samples): \n",
    "            membership[i,] = (d**(p+2))[i]/np.sum(d**(p+2), axis=1)[i]\n",
    "            \n",
    "        # calculate the weight of each data point\n",
    "        for i in range(n_samples):\n",
    "            weight[i] = np.sum(d**(p+2), axis=1)[i]/(np.sum(d**p, axis=1)[i])**2\n",
    "        \n",
    "        # calculate the new center location with the membership and weight of each point\n",
    "        for i in range(n_samples):\n",
    "            c_upper += np.matmul((membership[i]*weight[i]).reshape(n_clusters,1),X[i].reshape(1,n_features))\n",
    "            c_lower += membership[i]*weight[i]\n",
    "        \n",
    "        for i in range(len(c_upper)):\n",
    "            centroids[i] = c_upper[i]/c_lower[i]\n",
    "            \n",
    "        obj_previous = obj\n",
    "        distances = distance(X, centroids)\n",
    "        labels = np.argmin(distances, axis = 1)\n",
    "        reciprocal = np.reciprocal(distances**p)\n",
    "        reciprocal[np.isinf(reciprocal)] = 0\n",
    "        obj = np.sum(n_clusters / np.sum(reciprocal, axis=1))\n",
    "        \n",
    "        # calculate the silhouette scores for each data point based on the new clusters\n",
    "        for i in range(n_samples):\n",
    "            a_i = np.average(np.ma.masked_equal(distance(X[labels == labels[i,], ], X[i:i+1,]),0))\n",
    "            b_i = np.min(distance(X[labels != labels[i,], ], X[i:i+1,]))\n",
    "            silhouettes[i,] = (b_i - a_i)/np.max([a_i, b_i])\n",
    "            \n",
    "        # stop if the objective function does not change significantly    \n",
    "        if (np.linalg.norm(obj - obj_previous) < tol):\n",
    "            break  \n",
    "        \n",
    "        return(centroids, obj, labels, silhouettes)"
   ]
  },
  {
   "cell_type": "code",
   "execution_count": 6,
   "metadata": {
    "collapsed": false
   },
   "outputs": [
    {
     "name": "stderr",
     "output_type": "stream",
     "text": [
      "/Users/yawenli/miniconda3/lib/python3.5/site-packages/ipykernel/__main__.py:27: RuntimeWarning: divide by zero encountered in reciprocal\n",
      "/Users/yawenli/miniconda3/lib/python3.5/site-packages/ipykernel/__main__.py:32: RuntimeWarning: divide by zero encountered in reciprocal\n",
      "/Users/yawenli/miniconda3/lib/python3.5/site-packages/ipykernel/__main__.py:58: FutureWarning: np.average currently does not preserve subclasses, but will do so in the future to match the behavior of most other numpy functions such as np.mean. In particular, this means calls which returned a scalar may return a 0-d subclass object instead.\n"
     ]
    }
   ],
   "source": [
    "centroids, obj, labels, silhouettes = khmeans(X_sc, n_clusters=3, p=3)"
   ]
  },
  {
   "cell_type": "code",
   "execution_count": 7,
   "metadata": {
    "collapsed": true
   },
   "outputs": [],
   "source": [
    "from sklearn.metrics import silhouette_samples, silhouette_score\n",
    "silhouette_avg = silhouette_score(X_sc, labels)\n",
    "sample_silhouette_values = silhouette_samples(X_sc, labels)"
   ]
  },
  {
   "cell_type": "code",
   "execution_count": 8,
   "metadata": {
    "collapsed": false
   },
   "outputs": [
    {
     "data": {
      "text/plain": [
       "0.80698556176490532"
      ]
     },
     "execution_count": 8,
     "metadata": {},
     "output_type": "execute_result"
    }
   ],
   "source": [
    "silhouette_avg"
   ]
  },
  {
   "cell_type": "code",
   "execution_count": 9,
   "metadata": {
    "collapsed": false
   },
   "outputs": [
    {
     "data": {
      "text/plain": [
       "0.80568336958497888"
      ]
     },
     "execution_count": 9,
     "metadata": {},
     "output_type": "execute_result"
    }
   ],
   "source": [
    "np.average(silhouettes)"
   ]
  },
  {
   "cell_type": "code",
   "execution_count": 10,
   "metadata": {
    "collapsed": false
   },
   "outputs": [
    {
     "data": {
      "text/plain": [
       "array([[ 0.        ,  0.        ,  0.        ,  0.        ,  0.        ,\n",
       "         0.        ,  0.        ,  0.        ,  0.        ,  0.        ,\n",
       "         0.        ,  0.        ,  0.        ,  0.        ,  0.        ,\n",
       "         0.        ,  0.        ,  0.        ,  0.        ,  0.        ,\n",
       "         0.        ,  0.        ,  0.        ,  0.        ,  0.        ,\n",
       "         0.        ,  0.        ,  0.        ,  0.        ,  0.        ,\n",
       "         0.        ,  0.        ,  0.        ,  0.        ,  0.        ,\n",
       "         0.        ,  0.        ,  0.        ,  0.        ,  0.        ,\n",
       "         1.        ,  1.        ,  1.        ,  1.        ,  1.        ,\n",
       "         1.        ,  1.        ,  1.        ,  1.        ,  1.        ,\n",
       "         1.        ,  1.        ,  1.        ,  1.        ,  1.        ,\n",
       "         1.        ,  1.        ,  1.        ,  1.        ,  1.        ],\n",
       "       [ 0.80387257,  0.80786626,  0.8087984 ,  0.80882441,  0.80789342,\n",
       "         0.80275811,  0.80467698,  0.80564914,  0.80724255,  0.80663312,\n",
       "         0.80810796,  0.8104247 ,  0.80679923,  0.80885411,  0.80720246,\n",
       "         0.80843614,  0.80641848,  0.8089004 ,  0.80700406,  0.80635439,\n",
       "         0.66938521,  0.66865595,  0.68601234,  0.66512461,  0.69198772,\n",
       "         0.68493277,  0.66633356,  0.68297625,  0.66651883,  0.67535785,\n",
       "         0.68373471,  0.68944495,  0.68546016,  0.67575534,  0.68465811,\n",
       "         0.67406994,  0.68122274,  0.66787732,  0.67916326,  0.67765413,\n",
       "         0.92654211,  0.93873247,  0.93407663,  0.93784157,  0.92850684,\n",
       "         0.92847365,  0.93250731,  0.93392551,  0.92857351,  0.93395445,\n",
       "         0.93053827,  0.93521987,  0.93029147,  0.93474104,  0.93348012,\n",
       "         0.93565427,  0.93071988,  0.92627757,  0.93258308,  0.92931994]])"
      ]
     },
     "execution_count": 10,
     "metadata": {},
     "output_type": "execute_result"
    }
   ],
   "source": [
    "np.vstack((labels, silhouettes))"
   ]
  }
 ],
 "metadata": {
  "kernelspec": {
   "display_name": "Python 3",
   "language": "python",
   "name": "python3"
  },
  "language_info": {
   "codemirror_mode": {
    "name": "ipython",
    "version": 3
   },
   "file_extension": ".py",
   "mimetype": "text/x-python",
   "name": "python",
   "nbconvert_exporter": "python",
   "pygments_lexer": "ipython3",
   "version": "3.5.2"
  }
 },
 "nbformat": 4,
 "nbformat_minor": 2
}
